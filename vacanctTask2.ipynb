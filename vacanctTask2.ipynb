{
 "cells": [
  {
   "cell_type": "markdown",
   "source": [
    "# TASK 2"
   ],
   "metadata": {
    "collapsed": false
   }
  },
  {
   "cell_type": "markdown",
   "source": [
    "### Some basic starting stuff"
   ],
   "metadata": {
    "collapsed": false
   }
  },
  {
   "cell_type": "code",
   "execution_count": 6,
   "metadata": {
    "collapsed": true
   },
   "outputs": [],
   "source": [
    "from bs4 import BeautifulSoup\n",
    "import math\n",
    "from natasha import (\n",
    "    Segmenter,\n",
    "    MorphVocab,\n",
    "\n",
    "    NewsEmbedding,\n",
    "    NewsMorphTagger,\n",
    "\n",
    "    Doc\n",
    ")\n",
    "from tqdm import tqdm\n",
    "import requests\n",
    "import pandas as pd"
   ]
  },
  {
   "cell_type": "code",
   "execution_count": 7,
   "outputs": [],
   "source": [
    "baseUrl = 'https://career.habr.com/vacancies?type=all'\n",
    "updatableUrl = 'https://career.habr.com/vacancies?divisions[]={}&type=all&page={}'\n",
    "moreBaseUrl = 'https://career.habr.com/{}'\n",
    "divisions = ['backend','frontend','apps','software','testing','administration','design',\n",
    "                     'management','marketing','analytics','sale','content','support','hr','telecom',\n",
    "                     'other','office','security']\n",
    "jobDescription = {}"
   ],
   "metadata": {
    "collapsed": false,
    "pycharm": {
     "name": "#%%\n"
    }
   }
  },
  {
   "cell_type": "code",
   "execution_count": 9,
   "outputs": [],
   "source": [
    "headers = {\n",
    "        \"User-Agent\": \"Mozilla/5.0 \\\n",
    "               (Macintosh; Intel Mac OS X 10_10_1) \\\n",
    "               AppleWebKit/537.36 (KHTML, like Gecko) \\\n",
    "               Chrome/39.0.2171.95 Safari/537.36\"\n",
    "        }\n",
    "links = {}"
   ],
   "metadata": {
    "collapsed": false,
    "pycharm": {
     "name": "#%%\n"
    }
   }
  },
  {
   "cell_type": "markdown",
   "source": [],
   "metadata": {
    "collapsed": false
   }
  },
  {
   "cell_type": "code",
   "execution_count": 4,
   "outputs": [
    {
     "name": "stderr",
     "output_type": "stream",
     "text": [
      "parsing links...: 100%|██████████| 18/18 [03:50<00:00, 12.79s/it]\n"
     ]
    }
   ],
   "source": [
    "for div in tqdm(divisions,'parsing links...'):\n",
    "    page = 1\n",
    "    links[div] = []\n",
    "    while True:\n",
    "        r = requests.get(updatableUrl.format(div,str(page)),headers=headers)\n",
    "\n",
    "        if not r.ok:\n",
    "            break\n",
    "\n",
    "        soup = BeautifulSoup(r.content, 'html.parser')\n",
    "        vacancyCard = soup.find_all('div','vacancy-card')\n",
    "\n",
    "        if vacancyCard == []:\n",
    "            break\n",
    "\n",
    "        for card in vacancyCard:\n",
    "            vacancyLink = card.find('div','vacancy-card__title').a['href']\n",
    "            links[div].append(vacancyLink)\n",
    "\n",
    "\n",
    "        page += 1"
   ],
   "metadata": {
    "collapsed": false,
    "pycharm": {
     "name": "#%%\n"
    }
   }
  },
  {
   "cell_type": "code",
   "execution_count": 20,
   "outputs": [],
   "source": [
    "linksSaved = links.copy()\n",
    "maxLen = 0\n",
    "for div in divisions:\n",
    "    # print(len(links[div]), div)\n",
    "    if len(links[div]) > maxLen:\n",
    "        maxLen = len(links[div])\n",
    "# print(maxLen)\n",
    "for div in divisions:\n",
    "    while len(links[div]) != maxLen:\n",
    "        links[div].append('NaN')\n",
    "linkDict = pandas.DataFrame(data=links)\n",
    "linkDict.to_pickle('linksDict')"
   ],
   "metadata": {
    "collapsed": false,
    "pycharm": {
     "name": "#%%\n"
    }
   }
  },
  {
   "cell_type": "code",
   "execution_count": 4,
   "outputs": [
    {
     "ename": "FileNotFoundError",
     "evalue": "[Errno 2] No such file or directory: 'linksDict'",
     "output_type": "error",
     "traceback": [
      "\u001B[1;31m---------------------------------------------------------------------------\u001B[0m",
      "\u001B[1;31mFileNotFoundError\u001B[0m                         Traceback (most recent call last)",
      "\u001B[1;32m<ipython-input-4-f3455e836d36>\u001B[0m in \u001B[0;36m<module>\u001B[1;34m\u001B[0m\n\u001B[1;32m----> 1\u001B[1;33m \u001B[0mtmpDataFrame\u001B[0m \u001B[1;33m=\u001B[0m \u001B[0mpd\u001B[0m\u001B[1;33m.\u001B[0m\u001B[0mread_pickle\u001B[0m\u001B[1;33m(\u001B[0m\u001B[1;34m'linksDict'\u001B[0m\u001B[1;33m)\u001B[0m\u001B[1;33m\u001B[0m\u001B[1;33m\u001B[0m\u001B[0m\n\u001B[0m\u001B[0;32m      2\u001B[0m \u001B[0mtmpDataFrame\u001B[0m\u001B[1;33m\u001B[0m\u001B[1;33m\u001B[0m\u001B[0m\n",
      "\u001B[1;32m~\\anaconda3\\lib\\site-packages\\pandas\\io\\pickle.py\u001B[0m in \u001B[0;36mread_pickle\u001B[1;34m(filepath_or_buffer, compression)\u001B[0m\n\u001B[0;32m    167\u001B[0m     \u001B[1;32mif\u001B[0m \u001B[1;32mnot\u001B[0m \u001B[0misinstance\u001B[0m\u001B[1;33m(\u001B[0m\u001B[0mfp_or_buf\u001B[0m\u001B[1;33m,\u001B[0m \u001B[0mstr\u001B[0m\u001B[1;33m)\u001B[0m \u001B[1;32mand\u001B[0m \u001B[0mcompression\u001B[0m \u001B[1;33m==\u001B[0m \u001B[1;34m\"infer\"\u001B[0m\u001B[1;33m:\u001B[0m\u001B[1;33m\u001B[0m\u001B[1;33m\u001B[0m\u001B[0m\n\u001B[0;32m    168\u001B[0m         \u001B[0mcompression\u001B[0m \u001B[1;33m=\u001B[0m \u001B[1;32mNone\u001B[0m\u001B[1;33m\u001B[0m\u001B[1;33m\u001B[0m\u001B[0m\n\u001B[1;32m--> 169\u001B[1;33m     \u001B[0mf\u001B[0m\u001B[1;33m,\u001B[0m \u001B[0mfh\u001B[0m \u001B[1;33m=\u001B[0m \u001B[0mget_handle\u001B[0m\u001B[1;33m(\u001B[0m\u001B[0mfp_or_buf\u001B[0m\u001B[1;33m,\u001B[0m \u001B[1;34m\"rb\"\u001B[0m\u001B[1;33m,\u001B[0m \u001B[0mcompression\u001B[0m\u001B[1;33m=\u001B[0m\u001B[0mcompression\u001B[0m\u001B[1;33m,\u001B[0m \u001B[0mis_text\u001B[0m\u001B[1;33m=\u001B[0m\u001B[1;32mFalse\u001B[0m\u001B[1;33m)\u001B[0m\u001B[1;33m\u001B[0m\u001B[1;33m\u001B[0m\u001B[0m\n\u001B[0m\u001B[0;32m    170\u001B[0m \u001B[1;33m\u001B[0m\u001B[0m\n\u001B[0;32m    171\u001B[0m     \u001B[1;31m# 1) try standard library Pickle\u001B[0m\u001B[1;33m\u001B[0m\u001B[1;33m\u001B[0m\u001B[1;33m\u001B[0m\u001B[0m\n",
      "\u001B[1;32m~\\anaconda3\\lib\\site-packages\\pandas\\io\\common.py\u001B[0m in \u001B[0;36mget_handle\u001B[1;34m(path_or_buf, mode, encoding, compression, memory_map, is_text, errors)\u001B[0m\n\u001B[0;32m    497\u001B[0m         \u001B[1;32melse\u001B[0m\u001B[1;33m:\u001B[0m\u001B[1;33m\u001B[0m\u001B[1;33m\u001B[0m\u001B[0m\n\u001B[0;32m    498\u001B[0m             \u001B[1;31m# Binary mode\u001B[0m\u001B[1;33m\u001B[0m\u001B[1;33m\u001B[0m\u001B[1;33m\u001B[0m\u001B[0m\n\u001B[1;32m--> 499\u001B[1;33m             \u001B[0mf\u001B[0m \u001B[1;33m=\u001B[0m \u001B[0mopen\u001B[0m\u001B[1;33m(\u001B[0m\u001B[0mpath_or_buf\u001B[0m\u001B[1;33m,\u001B[0m \u001B[0mmode\u001B[0m\u001B[1;33m)\u001B[0m\u001B[1;33m\u001B[0m\u001B[1;33m\u001B[0m\u001B[0m\n\u001B[0m\u001B[0;32m    500\u001B[0m         \u001B[0mhandles\u001B[0m\u001B[1;33m.\u001B[0m\u001B[0mappend\u001B[0m\u001B[1;33m(\u001B[0m\u001B[0mf\u001B[0m\u001B[1;33m)\u001B[0m\u001B[1;33m\u001B[0m\u001B[1;33m\u001B[0m\u001B[0m\n\u001B[0;32m    501\u001B[0m \u001B[1;33m\u001B[0m\u001B[0m\n",
      "\u001B[1;31mFileNotFoundError\u001B[0m: [Errno 2] No such file or directory: 'linksDict'"
     ]
    }
   ],
   "source": [
    "tmpDataFrame = pd.read_pickle('linksDict')\n",
    "tmpDataFrame"
   ],
   "metadata": {
    "collapsed": false,
    "pycharm": {
     "name": "#%%\n"
    }
   }
  },
  {
   "cell_type": "code",
   "execution_count": null,
   "outputs": [],
   "source": [
    "link = moreBaseUrl.format(links['backend'][0])\n",
    "r = requests.get(link, headers=headers)\n",
    "soup = BeautifulSoup(r.content,'html.parser')\n",
    "description = soup.find('div',\"job_show_description__vacancy_description\").find('div','style-ugc').text\n",
    "print(description)"
   ],
   "metadata": {
    "collapsed": false,
    "pycharm": {
     "name": "#%%\n"
    }
   }
  },
  {
   "cell_type": "markdown",
   "source": [
    "## Parsing job descriptions"
   ],
   "metadata": {
    "collapsed": false,
    "pycharm": {
     "name": "#%% md\n"
    }
   }
  },
  {
   "cell_type": "code",
   "execution_count": 8,
   "outputs": [
    {
     "name": "stderr",
     "output_type": "stream",
     "text": [
      "100%|██████████| 18/18 [49:38<00:00, 165.48s/it] \n"
     ]
    }
   ],
   "source": [
    "for division in tqdm(links):\n",
    "    jobDescription[division] = []\n",
    "    for link in links[division]:\n",
    "        r = requests.get(moreBaseUrl.format(link),headers=headers)\n",
    "        if not r.ok:\n",
    "            break\n",
    "        soup = BeautifulSoup(r.content,'html.parser')\n",
    "        if soup.find('div',\"job_show_description__vacancy_description\") != []:\n",
    "            description = soup.find('div',\"job_show_description__vacancy_description\").find('div','style-ugc').text\n",
    "        else:\n",
    "            break\n",
    "        jobDescription[division].append(description)"
   ],
   "metadata": {
    "collapsed": false,
    "pycharm": {
     "name": "#%%\n"
    }
   }
  },
  {
   "cell_type": "markdown",
   "source": [
    "## Saving up data"
   ],
   "metadata": {
    "collapsed": false
   }
  },
  {
   "cell_type": "code",
   "execution_count": 9,
   "outputs": [],
   "source": [
    "maxLen = 0\n",
    "for div in divisions:\n",
    "    if len(jobDescription[div]) > maxLen:\n",
    "        maxLen = len(jobDescription[div])\n",
    "maxLen\n",
    "for div in divisions:\n",
    "    while len(jobDescription[div]) != maxLen:\n",
    "        jobDescription[div].append('nan')"
   ],
   "metadata": {
    "collapsed": false,
    "pycharm": {
     "name": "#%%\n"
    }
   }
  },
  {
   "cell_type": "code",
   "execution_count": 24,
   "outputs": [],
   "source": [
    "data = pd.read_csv('jobDescription.csv', encoding='utf-32', index_col='Unnamed: 0')"
   ],
   "metadata": {
    "collapsed": false,
    "pycharm": {
     "name": "#%%\n"
    }
   }
  },
  {
   "cell_type": "code",
   "execution_count": 25,
   "outputs": [],
   "source": [
    "data.to_pickle('jobDescription')"
   ],
   "metadata": {
    "collapsed": false,
    "pycharm": {
     "name": "#%%\n"
    }
   }
  },
  {
   "cell_type": "code",
   "execution_count": 10,
   "outputs": [],
   "source": [
    "savedJobDescription = pd.read_pickle('jobDescription')"
   ],
   "metadata": {
    "collapsed": false,
    "pycharm": {
     "name": "#%%\n"
    }
   }
  },
  {
   "cell_type": "code",
   "execution_count": 11,
   "outputs": [
    {
     "data": {
      "text/plain": "                                                backend  \\\n0     Команда Easy Development занимается разработко...   \n1     В нашу команду, работающую над высоконагруженн...   \n2     Мы — растущая международная компания из Хельси...   \n3     Друзья! Разыскиваем сильного и самостоятельног...   \n4     Наша команда занимается разработкой и поддержк...   \n...                                                 ...   \n1055  Yota это про IT. А значит про технологии. У на...   \n1056  Мы бережём здоровье сотрудников, поэтому на вр...   \n1057  Привет! Мы — команда образовательной платформы...   \n1058  ​​​​​​\"Все гениальное - изи!\" — не просто деви...   \n1059  Мы IT-компания: разрабатываем продукты в сфере...   \n\n                                               frontend  \\\n0     Мы динамично растущая международная SaaS компа...   \n1     ПРОЕКТ:Мы занимаемся Программой лояльности НСП...   \n2     Наша компания занимается написанием ПО для суд...   \n3     Ищем сотрудника на удаленную работу PHP програ...   \n4     Компания Софт Дивижн (www.soft-division.ru) ищ...   \n...                                                 ...   \n1055                                                NaN   \n1056                                                NaN   \n1057                                                NaN   \n1058                                                NaN   \n1059                                                NaN   \n\n                                                   apps  \\\n0     Банк Открытие ищет Android разработчика (Senio...   \n1     Банк Открытие ищет в команду IOS разработчика ...   \n2     MGVC — Инвестиционное подразделение MY.GAMES, ...   \n3     Ищем junior - Middle Android developer\\n\\n\\n\\n...   \n4     Мы сейчас расширяем одну из команд направления...   \n...                                                 ...   \n1055                                                NaN   \n1056                                                NaN   \n1057                                                NaN   \n1058                                                NaN   \n1059                                                NaN   \n\n                                               software  \\\n0     Наша команда в поисках JavaScript/Node.js разр...   \n1     We are looking for a Salesforce Developer to c...   \n2     Привет!\\nМы разыскиваем сильного Senior FullSt...   \n3     Привет!\\nМеня зовут Мика, и я руковожу командо...   \n4     \\n\\n\\n\\n«РТЛабс» - ОДНА ИЗ ВЕДУЩИХ IT-КОМПАНИЙ...   \n...                                                 ...   \n1055                                                NaN   \n1056                                                NaN   \n1057                                                NaN   \n1058                                                NaN   \n1059                                                NaN   \n\n                                                testing  \\\n0     EVRAZ — один из крупнейших производителей стал...   \n1     Привет!Мы активно растущая SaaS компания. Рабо...   \n2     ПРОЕКТ:Мы разрабатываем Клиринговую систему дл...   \n3     FUNCORP — международная компания, c 2004 года ...   \n4     Обязанности:\\nавтоматизация тестирования бэк-о...   \n...                                                 ...   \n1055                                                NaN   \n1056                                                NaN   \n1057                                                NaN   \n1058                                                NaN   \n1059                                                NaN   \n\n                                         administration  \\\n0     Мы — растущая международная компания из Хельси...   \n1     \\n\\n«РТЛабс» - ОДНА ИЗ ВЕДУЩИХ IT-КОМПАНИЙ РОС...   \n2     Компания Билайн ищет Администратора БД Postgre...   \n3     EVRAZ — один из крупнейших производителей стал...   \n4     КОМАНДА:Команда инженеров по автоматизации про...   \n...                                                 ...   \n1055                                                NaN   \n1056                                                NaN   \n1057                                                NaN   \n1058                                                NaN   \n1059                                                NaN   \n\n                                                 design  \\\n0     Мы делаем Apphud – инфраструктуру для монетиза...   \n1     Основные требования:\\nSoft skills\\n        Хор...   \n2     Лента Онлайн - это молодой и быстро развивающи...   \n3     Ищем в команду дизайнера делать полезные и удо...   \n4     Текущая задача:Закончить разработку мобильного...   \n...                                                 ...   \n1055                                                NaN   \n1056                                                NaN   \n1057                                                NaN   \n1058                                                NaN   \n1059                                                NaN   \n\n                                             management  \\\n0     Osome is a Fintech startup with offices in Lon...   \n1     В настоящее время мы ищем Project Manager для ...   \n2     В настоящее время мы ищем Project Manager, кот...   \n3     Delivery Club — лидер рынка foodtech в России....   \n4     Привет! Ищем РМа на веб-проекты!\\nЧто нужно де...   \n...                                                 ...   \n1055                                                NaN   \n1056                                                NaN   \n1057                                                NaN   \n1058                                                NaN   \n1059                                                NaN   \n\n                                              marketing  \\\n0     На данной позиции предстоит:Настройка систем м...   \n1     Что Вы будете у нас делать:Определять виденье ...   \n2     Мы строим «Bloomberg terminal for DeFi space» ...   \n3     Агентство интернет рекламы Impecco ищет специа...   \n4     Senior Product Marketing Manager, Go-to-market...   \n...                                                 ...   \n1055                                                NaN   \n1056                                                NaN   \n1057                                                NaN   \n1058                                                NaN   \n1059                                                NaN   \n\n                                              analytics  \\\n0     We have a highly-loaded service with 740M requ...   \n1     Банк Открытие ищет Cистемного аналитика (урове...   \n2     \\n\\n«РТЛабс» - ОДНА ИЗ ВЕДУЩИХ IT-КОМПАНИЙ РОС...   \n3     Osome is a Fintech startup with offices in Lon...   \n4     ЕВРАЗ – международная вертикально-интегрирован...   \n...                                                 ...   \n1055                                                NaN   \n1056                                                NaN   \n1057                                                NaN   \n1058                                                NaN   \n1059                                                NaN   \n\n                                                   sale  \\\n0     HiPoHeads - IT Рекрутинговое агентство, на уро...   \n1     Взаимодействовать с партнёрами ЛК на выделенно...   \n2     Сфера деятельности Департамента систем управле...   \n3     Человек, которого ищем, умеет и любит налажива...   \n4     Задачи для будущего коллеги:Управление отделом...   \n...                                                 ...   \n1055                                                NaN   \n1056                                                NaN   \n1057                                                NaN   \n1058                                                NaN   \n1059                                                NaN   \n\n                                                content  \\\n0     Мы приглашаем инженера по локализации, желающе...   \n1     ВНИМАНИЕ: отклик лучше прислать через форму на...   \n2     Привет, мы — команда Icons8. Мы рисуем иконки ...   \n3     Издательство «Питер» — лидер на рынке професси...   \n4     Mail.ru Cloud Solutions\\nЭто платформа облачны...   \n...                                                 ...   \n1055                                                NaN   \n1056                                                NaN   \n1057                                                NaN   \n1058                                                NaN   \n1059                                                NaN   \n\n                                                support  \\\n0     Вам предстоит:\\n         Осуществлять поддержк...   \n1     Вам предстоит:\\n         Консультация, поддерж...   \n2     Основные задачи:\\nучастие в проектах по создан...   \n3     Компания UserGate, производитель систем в обла...   \n4     Обязанности:\\nОрганизация и контроль работы 1й...   \n...                                                 ...   \n1055                                                NaN   \n1056                                                NaN   \n1057                                                NaN   \n1058                                                NaN   \n1059                                                NaN   \n\n                                                     hr  \\\n0     VOLKA HR CREW /    Recruiter (Russian Speaking...   \n1     Компания «Ай-Теко» — резидент «Сколково», веду...   \n2     At Cube Dev, we are building a technology stac...   \n3     Postoplan.app — международная платформа маркет...   \n4     Fundraise Up ищет на удаленную работу IT Рекру...   \n...                                                 ...   \n1055                                                NaN   \n1056                                                NaN   \n1057                                                NaN   \n1058                                                NaN   \n1059                                                NaN   \n\n                                                telecom  \\\n0     Обязанности:\\nНастройка, тестирование, испытан...   \n1     Кто мы и чем занимаемся:Компания Eltex - это о...   \n2                                                   NaN   \n3                                                   NaN   \n4                                                   NaN   \n...                                                 ...   \n1055                                                NaN   \n1056                                                NaN   \n1057                                                NaN   \n1058                                                NaN   \n1059                                                NaN   \n\n                                                  other  \\\n0     Мы отвечаем за UX (пользовательский опыт) в бо...   \n1     На данный момент мы находимся в поиске стажера...   \n2     В группу развития технологий поиска уязвимосте...   \n3     Команда поддержки и администрирования финансов...   \n4     Кого и для чего мы ищем:Интерн – полноценный ч...   \n...                                                 ...   \n1055                                                NaN   \n1056                                                NaN   \n1057                                                NaN   \n1058                                                NaN   \n1059                                                NaN   \n\n                                                 office  \\\n0     Должностные обязанности:\\n1. Административная ...   \n1                                                   NaN   \n2                                                   NaN   \n3                                                   NaN   \n4                                                   NaN   \n...                                                 ...   \n1055                                                NaN   \n1056                                                NaN   \n1057                                                NaN   \n1058                                                NaN   \n1059                                                NaN   \n\n                                               security  \n0     Ищем\\n человека, который имеет опыт с разработ...  \n1     Rambler&Co занимает первое место среди медиахо...  \n2     Международная спортивная e-commerce компания и...  \n3     Задачи, которые необходимо закрывать:\\nФормиро...  \n4     ОБЯЗАННОСТИ:\\nАналитика и ведение проектов по ...  \n...                                                 ...  \n1055                                                NaN  \n1056                                                NaN  \n1057                                                NaN  \n1058                                                NaN  \n1059                                                NaN  \n\n[1060 rows x 18 columns]",
      "text/html": "<div>\n<style scoped>\n    .dataframe tbody tr th:only-of-type {\n        vertical-align: middle;\n    }\n\n    .dataframe tbody tr th {\n        vertical-align: top;\n    }\n\n    .dataframe thead th {\n        text-align: right;\n    }\n</style>\n<table border=\"1\" class=\"dataframe\">\n  <thead>\n    <tr style=\"text-align: right;\">\n      <th></th>\n      <th>backend</th>\n      <th>frontend</th>\n      <th>apps</th>\n      <th>software</th>\n      <th>testing</th>\n      <th>administration</th>\n      <th>design</th>\n      <th>management</th>\n      <th>marketing</th>\n      <th>analytics</th>\n      <th>sale</th>\n      <th>content</th>\n      <th>support</th>\n      <th>hr</th>\n      <th>telecom</th>\n      <th>other</th>\n      <th>office</th>\n      <th>security</th>\n    </tr>\n  </thead>\n  <tbody>\n    <tr>\n      <th>0</th>\n      <td>Команда Easy Development занимается разработко...</td>\n      <td>Мы динамично растущая международная SaaS компа...</td>\n      <td>Банк Открытие ищет Android разработчика (Senio...</td>\n      <td>Наша команда в поисках JavaScript/Node.js разр...</td>\n      <td>EVRAZ — один из крупнейших производителей стал...</td>\n      <td>Мы — растущая международная компания из Хельси...</td>\n      <td>Мы делаем Apphud – инфраструктуру для монетиза...</td>\n      <td>Osome is a Fintech startup with offices in Lon...</td>\n      <td>На данной позиции предстоит:Настройка систем м...</td>\n      <td>We have a highly-loaded service with 740M requ...</td>\n      <td>HiPoHeads - IT Рекрутинговое агентство, на уро...</td>\n      <td>Мы приглашаем инженера по локализации, желающе...</td>\n      <td>Вам предстоит:\\n         Осуществлять поддержк...</td>\n      <td>VOLKA HR CREW /    Recruiter (Russian Speaking...</td>\n      <td>Обязанности:\\nНастройка, тестирование, испытан...</td>\n      <td>Мы отвечаем за UX (пользовательский опыт) в бо...</td>\n      <td>Должностные обязанности:\\n1. Административная ...</td>\n      <td>Ищем\\n человека, который имеет опыт с разработ...</td>\n    </tr>\n    <tr>\n      <th>1</th>\n      <td>В нашу команду, работающую над высоконагруженн...</td>\n      <td>ПРОЕКТ:Мы занимаемся Программой лояльности НСП...</td>\n      <td>Банк Открытие ищет в команду IOS разработчика ...</td>\n      <td>We are looking for a Salesforce Developer to c...</td>\n      <td>Привет!Мы активно растущая SaaS компания. Рабо...</td>\n      <td>\\n\\n«РТЛабс» - ОДНА ИЗ ВЕДУЩИХ IT-КОМПАНИЙ РОС...</td>\n      <td>Основные требования:\\nSoft skills\\n        Хор...</td>\n      <td>В настоящее время мы ищем Project Manager для ...</td>\n      <td>Что Вы будете у нас делать:Определять виденье ...</td>\n      <td>Банк Открытие ищет Cистемного аналитика (урове...</td>\n      <td>Взаимодействовать с партнёрами ЛК на выделенно...</td>\n      <td>ВНИМАНИЕ: отклик лучше прислать через форму на...</td>\n      <td>Вам предстоит:\\n         Консультация, поддерж...</td>\n      <td>Компания «Ай-Теко» — резидент «Сколково», веду...</td>\n      <td>Кто мы и чем занимаемся:Компания Eltex - это о...</td>\n      <td>На данный момент мы находимся в поиске стажера...</td>\n      <td>NaN</td>\n      <td>Rambler&amp;Co занимает первое место среди медиахо...</td>\n    </tr>\n    <tr>\n      <th>2</th>\n      <td>Мы — растущая международная компания из Хельси...</td>\n      <td>Наша компания занимается написанием ПО для суд...</td>\n      <td>MGVC — Инвестиционное подразделение MY.GAMES, ...</td>\n      <td>Привет!\\nМы разыскиваем сильного Senior FullSt...</td>\n      <td>ПРОЕКТ:Мы разрабатываем Клиринговую систему дл...</td>\n      <td>Компания Билайн ищет Администратора БД Postgre...</td>\n      <td>Лента Онлайн - это молодой и быстро развивающи...</td>\n      <td>В настоящее время мы ищем Project Manager, кот...</td>\n      <td>Мы строим «Bloomberg terminal for DeFi space» ...</td>\n      <td>\\n\\n«РТЛабс» - ОДНА ИЗ ВЕДУЩИХ IT-КОМПАНИЙ РОС...</td>\n      <td>Сфера деятельности Департамента систем управле...</td>\n      <td>Привет, мы — команда Icons8. Мы рисуем иконки ...</td>\n      <td>Основные задачи:\\nучастие в проектах по создан...</td>\n      <td>At Cube Dev, we are building a technology stac...</td>\n      <td>NaN</td>\n      <td>В группу развития технологий поиска уязвимосте...</td>\n      <td>NaN</td>\n      <td>Международная спортивная e-commerce компания и...</td>\n    </tr>\n    <tr>\n      <th>3</th>\n      <td>Друзья! Разыскиваем сильного и самостоятельног...</td>\n      <td>Ищем сотрудника на удаленную работу PHP програ...</td>\n      <td>Ищем junior - Middle Android developer\\n\\n\\n\\n...</td>\n      <td>Привет!\\nМеня зовут Мика, и я руковожу командо...</td>\n      <td>FUNCORP — международная компания, c 2004 года ...</td>\n      <td>EVRAZ — один из крупнейших производителей стал...</td>\n      <td>Ищем в команду дизайнера делать полезные и удо...</td>\n      <td>Delivery Club — лидер рынка foodtech в России....</td>\n      <td>Агентство интернет рекламы Impecco ищет специа...</td>\n      <td>Osome is a Fintech startup with offices in Lon...</td>\n      <td>Человек, которого ищем, умеет и любит налажива...</td>\n      <td>Издательство «Питер» — лидер на рынке професси...</td>\n      <td>Компания UserGate, производитель систем в обла...</td>\n      <td>Postoplan.app — международная платформа маркет...</td>\n      <td>NaN</td>\n      <td>Команда поддержки и администрирования финансов...</td>\n      <td>NaN</td>\n      <td>Задачи, которые необходимо закрывать:\\nФормиро...</td>\n    </tr>\n    <tr>\n      <th>4</th>\n      <td>Наша команда занимается разработкой и поддержк...</td>\n      <td>Компания Софт Дивижн (www.soft-division.ru) ищ...</td>\n      <td>Мы сейчас расширяем одну из команд направления...</td>\n      <td>\\n\\n\\n\\n«РТЛабс» - ОДНА ИЗ ВЕДУЩИХ IT-КОМПАНИЙ...</td>\n      <td>Обязанности:\\nавтоматизация тестирования бэк-о...</td>\n      <td>КОМАНДА:Команда инженеров по автоматизации про...</td>\n      <td>Текущая задача:Закончить разработку мобильного...</td>\n      <td>Привет! Ищем РМа на веб-проекты!\\nЧто нужно де...</td>\n      <td>Senior Product Marketing Manager, Go-to-market...</td>\n      <td>ЕВРАЗ – международная вертикально-интегрирован...</td>\n      <td>Задачи для будущего коллеги:Управление отделом...</td>\n      <td>Mail.ru Cloud Solutions\\nЭто платформа облачны...</td>\n      <td>Обязанности:\\nОрганизация и контроль работы 1й...</td>\n      <td>Fundraise Up ищет на удаленную работу IT Рекру...</td>\n      <td>NaN</td>\n      <td>Кого и для чего мы ищем:Интерн – полноценный ч...</td>\n      <td>NaN</td>\n      <td>ОБЯЗАННОСТИ:\\nАналитика и ведение проектов по ...</td>\n    </tr>\n    <tr>\n      <th>...</th>\n      <td>...</td>\n      <td>...</td>\n      <td>...</td>\n      <td>...</td>\n      <td>...</td>\n      <td>...</td>\n      <td>...</td>\n      <td>...</td>\n      <td>...</td>\n      <td>...</td>\n      <td>...</td>\n      <td>...</td>\n      <td>...</td>\n      <td>...</td>\n      <td>...</td>\n      <td>...</td>\n      <td>...</td>\n      <td>...</td>\n    </tr>\n    <tr>\n      <th>1055</th>\n      <td>Yota это про IT. А значит про технологии. У на...</td>\n      <td>NaN</td>\n      <td>NaN</td>\n      <td>NaN</td>\n      <td>NaN</td>\n      <td>NaN</td>\n      <td>NaN</td>\n      <td>NaN</td>\n      <td>NaN</td>\n      <td>NaN</td>\n      <td>NaN</td>\n      <td>NaN</td>\n      <td>NaN</td>\n      <td>NaN</td>\n      <td>NaN</td>\n      <td>NaN</td>\n      <td>NaN</td>\n      <td>NaN</td>\n    </tr>\n    <tr>\n      <th>1056</th>\n      <td>Мы бережём здоровье сотрудников, поэтому на вр...</td>\n      <td>NaN</td>\n      <td>NaN</td>\n      <td>NaN</td>\n      <td>NaN</td>\n      <td>NaN</td>\n      <td>NaN</td>\n      <td>NaN</td>\n      <td>NaN</td>\n      <td>NaN</td>\n      <td>NaN</td>\n      <td>NaN</td>\n      <td>NaN</td>\n      <td>NaN</td>\n      <td>NaN</td>\n      <td>NaN</td>\n      <td>NaN</td>\n      <td>NaN</td>\n    </tr>\n    <tr>\n      <th>1057</th>\n      <td>Привет! Мы — команда образовательной платформы...</td>\n      <td>NaN</td>\n      <td>NaN</td>\n      <td>NaN</td>\n      <td>NaN</td>\n      <td>NaN</td>\n      <td>NaN</td>\n      <td>NaN</td>\n      <td>NaN</td>\n      <td>NaN</td>\n      <td>NaN</td>\n      <td>NaN</td>\n      <td>NaN</td>\n      <td>NaN</td>\n      <td>NaN</td>\n      <td>NaN</td>\n      <td>NaN</td>\n      <td>NaN</td>\n    </tr>\n    <tr>\n      <th>1058</th>\n      <td>​​​​​​\"Все гениальное - изи!\" — не просто деви...</td>\n      <td>NaN</td>\n      <td>NaN</td>\n      <td>NaN</td>\n      <td>NaN</td>\n      <td>NaN</td>\n      <td>NaN</td>\n      <td>NaN</td>\n      <td>NaN</td>\n      <td>NaN</td>\n      <td>NaN</td>\n      <td>NaN</td>\n      <td>NaN</td>\n      <td>NaN</td>\n      <td>NaN</td>\n      <td>NaN</td>\n      <td>NaN</td>\n      <td>NaN</td>\n    </tr>\n    <tr>\n      <th>1059</th>\n      <td>Мы IT-компания: разрабатываем продукты в сфере...</td>\n      <td>NaN</td>\n      <td>NaN</td>\n      <td>NaN</td>\n      <td>NaN</td>\n      <td>NaN</td>\n      <td>NaN</td>\n      <td>NaN</td>\n      <td>NaN</td>\n      <td>NaN</td>\n      <td>NaN</td>\n      <td>NaN</td>\n      <td>NaN</td>\n      <td>NaN</td>\n      <td>NaN</td>\n      <td>NaN</td>\n      <td>NaN</td>\n      <td>NaN</td>\n    </tr>\n  </tbody>\n</table>\n<p>1060 rows × 18 columns</p>\n</div>"
     },
     "execution_count": 11,
     "metadata": {},
     "output_type": "execute_result"
    }
   ],
   "source": [
    "savedJobDescription"
   ],
   "metadata": {
    "collapsed": false,
    "pycharm": {
     "name": "#%%\n"
    }
   }
  },
  {
   "cell_type": "markdown",
   "source": [
    "# TF-IDF"
   ],
   "metadata": {
    "collapsed": false
   }
  },
  {
   "cell_type": "code",
   "execution_count": 10,
   "outputs": [],
   "source": [
    "# import math"
   ],
   "metadata": {
    "collapsed": false,
    "pycharm": {
     "name": "#%%\n"
    }
   }
  },
  {
   "cell_type": "code",
   "execution_count": 19,
   "outputs": [
    {
     "ename": "TypeError",
     "evalue": "list indices must be integers or slices, not str",
     "output_type": "error",
     "traceback": [
      "\u001B[1;31m---------------------------------------------------------------------------\u001B[0m",
      "\u001B[1;31mTypeError\u001B[0m                                 Traceback (most recent call last)",
      "\u001B[1;32m<ipython-input-19-96d51389e06a>\u001B[0m in \u001B[0;36m<module>\u001B[1;34m\u001B[0m\n\u001B[0;32m      4\u001B[0m     \u001B[0mnumOfDocs\u001B[0m \u001B[1;33m+=\u001B[0m \u001B[0mlen\u001B[0m\u001B[1;33m(\u001B[0m\u001B[0msavedJobDescription\u001B[0m\u001B[1;33m[\u001B[0m\u001B[0mdiv\u001B[0m\u001B[1;33m]\u001B[0m\u001B[1;33m)\u001B[0m\u001B[1;33m\u001B[0m\u001B[1;33m\u001B[0m\u001B[0m\n\u001B[0;32m      5\u001B[0m \u001B[1;32mfor\u001B[0m \u001B[0mdiv\u001B[0m \u001B[1;32min\u001B[0m \u001B[0mdivisions\u001B[0m\u001B[1;33m:\u001B[0m\u001B[1;33m\u001B[0m\u001B[1;33m\u001B[0m\u001B[0m\n\u001B[1;32m----> 6\u001B[1;33m     \u001B[0mprint\u001B[0m\u001B[1;33m(\u001B[0m\u001B[0mdivisions\u001B[0m\u001B[1;33m[\u001B[0m\u001B[0mdiv\u001B[0m\u001B[1;33m]\u001B[0m\u001B[1;33m)\u001B[0m\u001B[1;33m\u001B[0m\u001B[1;33m\u001B[0m\u001B[0m\n\u001B[0m\u001B[0;32m      7\u001B[0m     \u001B[1;32mbreak\u001B[0m\u001B[1;33m\u001B[0m\u001B[1;33m\u001B[0m\u001B[0m\n\u001B[0;32m      8\u001B[0m \u001B[1;33m\u001B[0m\u001B[0m\n",
      "\u001B[1;31mTypeError\u001B[0m: list indices must be integers or slices, not str"
     ]
    }
   ],
   "source": [
    "# dictionary = {}\n",
    "# numOfDocs = 0\n",
    "# for div in divisions:\n",
    "#     numOfDocs += len(savedJobDescription[div])\n",
    "# for div in divisions:\n",
    "#     for description in savedJobDescription[div]:\n",
    "#         for word in description:\n",
    "#             if word not in dictionary:\n"
   ],
   "metadata": {
    "collapsed": false,
    "pycharm": {
     "name": "#%%\n"
    }
   }
  },
  {
   "cell_type": "markdown",
   "source": [
    "## Preprocessing with Natasha"
   ],
   "metadata": {
    "collapsed": false
   }
  },
  {
   "cell_type": "markdown",
   "source": [
    "#### experimenting for the first job description"
   ],
   "metadata": {
    "collapsed": false
   }
  },
  {
   "cell_type": "code",
   "execution_count": 162,
   "outputs": [
    {
     "name": "stdout",
     "output_type": "stream",
     "text": [
      "nice\n"
     ]
    }
   ],
   "source": [
    "text = savedJobDescription['frontend'][431]\n",
    "a = pd.isnull(savedJobDescription.at[431,'frontend'])\n",
    "if a == False:\n",
    "    print('whyyy?')\n",
    "    doc = Doc(text)\n",
    "    emb = NewsEmbedding()\n",
    "\n",
    "    morph_vocab = MorphVocab()\n",
    "    morph_tagger = NewsMorphTagger(emb)\n",
    "    segmnetr = Segmenter()\n",
    "\n",
    "    doc.segment(segmnetr)\n",
    "    doc.tag_morph(morph_tagger)\n",
    "\n",
    "    for token in doc.tokens:\n",
    "        token.lemmatize(morph_vocab)\n",
    "\n",
    "    # {_.text: _.lemma for _ in doc.tokens}\n",
    "\n",
    "    doc.tag_morph(morph_tagger)\n",
    "    lemmatizedNUsedulWords = []\n",
    "    for token in doc.tokens:\n",
    "        if token.pos != 'PUNCT' and token.pos != 'PRON' and token.pos != 'CCONJ' and token.pos != 'DET' and \\\n",
    "            token.pos != 'ADP':\n",
    "            lemmatizedNUsedulWords.append(token.lemma)\n",
    "\n",
    "\n",
    "\n",
    "    # doc.sents[0].morph.print()\n",
    "    print(lemmatizedNUsedulWords)\n",
    "print('nice')"
   ],
   "metadata": {
    "collapsed": false,
    "pycharm": {
     "name": "#%%\n"
    }
   }
  },
  {
   "cell_type": "code",
   "execution_count": 29,
   "outputs": [
    {
     "name": "stderr",
     "output_type": "stream",
     "text": [
      "preprocessing data...: 100%|██████████| 18/18 [32:43<00:00, 109.07s/it] \n"
     ]
    }
   ],
   "source": [
    "for division in tqdm(divisions,'preprocessing data...'):\n",
    "    counter = 0\n",
    "    for description in savedJobDescription[division]:\n",
    "        if pd.isnull(savedJobDescription.at[counter,division]) == False:\n",
    "            doc = Doc(description)\n",
    "            emb = NewsEmbedding()\n",
    "\n",
    "            morph_vocab = MorphVocab()\n",
    "            morph_tagger = NewsMorphTagger(emb)\n",
    "            segmentr = Segmenter()\n",
    "\n",
    "            doc.segment(segmentr)\n",
    "            doc.tag_morph(morph_tagger)\n",
    "\n",
    "            for token in doc.tokens:\n",
    "                token.lemmatize(morph_vocab)\n",
    "\n",
    "            doc.tag_morph(morph_tagger)\n",
    "            preProcessedBoW = []\n",
    "\n",
    "            for token in doc.tokens:\n",
    "                if token.pos != 'PUNCT' and token.pos != 'PRON' and token.pos != 'CCONJ' and token.pos != 'DET' and token.pos != 'ADP':\n",
    "                    preProcessedBoW.append(token.lemma)\n",
    "            savedJobDescription[division][counter] = preProcessedBoW\n",
    "            counter += 1\n",
    "        else:\n",
    "            savedJobDescription[division][counter] = ['']\n",
    "            counter += 1"
   ],
   "metadata": {
    "collapsed": false,
    "pycharm": {
     "name": "#%%\n"
    }
   }
  },
  {
   "cell_type": "code",
   "execution_count": 31,
   "outputs": [
    {
     "data": {
      "text/plain": "['команда',\n 'easy',\n 'development',\n 'заниматься',\n 'разработка',\n 'высоко-нагрузить',\n 'онлайн',\n 'приложение',\n 'real-time',\n 'bidding',\n 'dsp',\n 'ssp',\n 'soap',\n 'smmp',\n 'биллинга',\n 'мобильный',\n 'приложение',\n 'социальный',\n 'сеть',\n 'много',\n 'другой',\n 'работать',\n 'jira',\n 'confluence',\n 'связь',\n 'использовать',\n 'zoom',\n 'telegram',\n 'быть',\n 'devops',\n 'технический',\n 'менеджер',\n 'scrum-мастер',\n 'искать',\n 'middle',\n 'middle',\n '+',\n 'python',\n 'разработчик',\n 'разработка',\n 'бэкенда',\n 'международный',\n 'социальный',\n 'сеть',\n 'абсолютно',\n 'новый',\n 'проект',\n 'быть',\n 'исток',\n 'проект',\n 'участвовать',\n 'построение',\n 'архитектура',\n 'backend',\n 'python',\n 'быть',\n 'обслуживать',\n 'клиент',\n 'web',\n 'ios',\n 'android',\n 'приложение',\n 'требование',\n 'опыт',\n '2',\n 'год',\n 'продуктовый',\n 'разработкиопыт',\n 'работа',\n 'команда',\n 'разработка',\n '1',\n 'годавысокий',\n 'уровень',\n 'знание',\n 'python',\n 'django',\n 'понимание',\n 'методология',\n 'tdd',\n 'понимание',\n 'rest',\n 'опыт',\n 'построение',\n 'api',\n 'умение',\n 'самостоятельно',\n 'планировать',\n 'рабочий',\n 'время',\n 'ответственностьопыт',\n 'работа',\n 'высоконагруженный',\n 'проект',\n 'плюс',\n 'быть',\n 'умение',\n 'брать',\n 'рука',\n 'также',\n 'предлагать',\n 'не',\n 'просто',\n 'шаблонный',\n 'пилить',\n 'опыт',\n 'построение',\n 'архитектура',\n 'новый',\n 'проект',\n 'условие',\n 'ценить',\n 'заслуга',\n 'время',\n 'здоровье',\n 'сотрудник',\n 'поэтому',\n 'быть',\n 'оплачивать',\n 'отпуск',\n 'хороший',\n 'отгуливать',\n 'отдыхать',\n 'важный',\n 'платим',\n 'официально',\n 'любитель',\n 'очный',\n 'работа',\n 'быть',\n 'офис',\n 'санкт-петербург',\n 'набережная',\n 'нева',\n 'команда',\n 'молодой',\n 'амбициозный',\n 'бэкграунд',\n 'много',\n 'успешный',\n 'проект',\n 'быть',\n 'рад',\n 'видеть',\n 'команда']"
     },
     "execution_count": 31,
     "metadata": {},
     "output_type": "execute_result"
    }
   ],
   "source": [
    "savedJobDescription.to_pickle('processedToeknizedLemmatizedDescriptions')\n",
    "savedJobDescription['backend'][0]"
   ],
   "metadata": {
    "collapsed": false,
    "pycharm": {
     "name": "#%%\n"
    }
   }
  },
  {
   "cell_type": "code",
   "execution_count": 35,
   "outputs": [
    {
     "ename": "SyntaxError",
     "evalue": "(unicode error) 'unicodeescape' codec can't decode bytes in position 2-3: truncated \\UXXXXXXXX escape (<ipython-input-35-02067e43d327>, line 1)",
     "output_type": "error",
     "traceback": [
      "\u001B[1;36m  File \u001B[1;32m\"<ipython-input-35-02067e43d327>\"\u001B[1;36m, line \u001B[1;32m1\u001B[0m\n\u001B[1;33m    dataProccesed = pd.read_pickle('C:\\Users\\Gena\\AppData\\Roaming\\JetBrains\\JetBrainsDS2021.3\\projects\\HSE\\UsefulData')\u001B[0m\n\u001B[1;37m                                   ^\u001B[0m\n\u001B[1;31mSyntaxError\u001B[0m\u001B[1;31m:\u001B[0m (unicode error) 'unicodeescape' codec can't decode bytes in position 2-3: truncated \\UXXXXXXXX escape\n"
     ]
    }
   ],
   "source": [
    "dataProccesed = pd.read_pickle('C:\\Users\\Gena\\AppData\\Roaming\\JetBrains\\JetBrainsDS2021.3\\projects\\HSE\\UsefulData')"
   ],
   "metadata": {
    "collapsed": false,
    "pycharm": {
     "name": "#%%\n"
    }
   }
  },
  {
   "cell_type": "code",
   "execution_count": 36,
   "outputs": [
    {
     "ename": "NameError",
     "evalue": "name 'dataProccesed' is not defined",
     "output_type": "error",
     "traceback": [
      "\u001B[1;31m---------------------------------------------------------------------------\u001B[0m",
      "\u001B[1;31mNameError\u001B[0m                                 Traceback (most recent call last)",
      "\u001B[1;32m<ipython-input-36-9ffe3bcbfa3b>\u001B[0m in \u001B[0;36m<module>\u001B[1;34m\u001B[0m\n\u001B[1;32m----> 1\u001B[1;33m \u001B[0mdataProccesed\u001B[0m\u001B[1;33m[\u001B[0m\u001B[1;34m'software'\u001B[0m\u001B[1;33m]\u001B[0m\u001B[1;33m[\u001B[0m\u001B[1;36m18\u001B[0m\u001B[1;33m]\u001B[0m\u001B[1;33m\u001B[0m\u001B[1;33m\u001B[0m\u001B[0m\n\u001B[0m",
      "\u001B[1;31mNameError\u001B[0m: name 'dataProccesed' is not defined"
     ]
    }
   ],
   "source": [
    "dataProccesed['software'][18]"
   ],
   "metadata": {
    "collapsed": false,
    "pycharm": {
     "name": "#%%\n"
    }
   }
  },
  {
   "cell_type": "code",
   "execution_count": 4,
   "outputs": [
    {
     "data": {
      "text/plain": "['Команда',\n 'Easy',\n 'Development',\n 'занимается',\n 'разработкой',\n 'высоко-нагруженных',\n 'онлайн',\n 'приложений(Real-Time',\n 'Bidding,',\n 'DSP/SSP,',\n 'SOAP/SMMP',\n 'биллинги),',\n 'мобильных',\n 'приложений,',\n 'социальных',\n 'сетей',\n 'и',\n 'много',\n 'чего',\n 'другого.',\n 'Мы',\n 'работаем',\n 'в',\n 'Jira/Confluence,',\n 'для',\n 'связи',\n 'используем',\n 'Zoom/Telegram.',\n 'У',\n 'нас',\n 'есть',\n 'DevOps,',\n 'технические',\n 'менеджеры',\n 'и',\n 'Scrum-мастера.',\n 'Ищем',\n 'Middle/Middle+',\n 'Python',\n 'разработчика',\n 'для',\n 'разработки',\n 'бэкенда',\n 'международной',\n 'социальной',\n 'сети.',\n 'Это',\n 'абсолютно',\n 'новый',\n 'проект.',\n 'Вы',\n 'будете',\n 'у',\n 'истоков',\n 'проекта',\n 'и',\n 'участвовать',\n 'в',\n 'построении',\n 'архитектуры.',\n 'Backend',\n 'на',\n 'Python',\n 'будет',\n 'обслуживать',\n 'клиентов',\n 'в',\n 'WEB,',\n 'iOS,',\n 'Android',\n 'приложениях.',\n 'Требования',\n 'Опыт',\n 'от',\n '2',\n 'лет',\n 'продуктовой',\n 'разработкиОпыт',\n 'работы',\n 'в',\n 'команде',\n 'разработки',\n 'от',\n '1',\n 'годаВысокий',\n 'уровень',\n 'знания',\n 'Python',\n 'и',\n 'DjangoПонимание',\n 'методологии',\n 'TDDПонимание',\n 'REST,',\n 'опыт',\n 'построения',\n 'APIУмение',\n 'самостоятельно',\n 'планировать',\n 'рабочее',\n 'время,',\n 'ответственностьОпыт',\n 'работы',\n 'в',\n 'высоконагруженных',\n 'проектах',\n 'Плюсом',\n 'будет',\n 'Умение',\n 'брать',\n 'все',\n 'в',\n 'свои',\n 'руки,',\n 'а',\n 'также',\n 'предлагать,',\n 'а',\n 'не',\n 'просто',\n 'шаблонно',\n '\"пилить\":)Опыт',\n 'построения',\n 'архитектуры',\n 'новых',\n 'проектов',\n 'Условия:',\n 'Мы',\n 'ценим',\n 'заслуги,',\n 'время',\n 'и',\n 'здоровье',\n 'каждого',\n 'сотрудника.',\n 'Поэтому',\n 'у',\n 'нас',\n 'есть',\n 'оплачиваемый',\n 'отпуск,',\n 'который',\n 'лучше',\n 'отгуливать',\n '(отдыхать',\n 'важно!).',\n 'Платим',\n 'официально.Для',\n 'любителей',\n 'очной',\n 'работы',\n 'есть',\n 'офис',\n 'в',\n 'Санкт-Петербурге',\n 'на',\n 'набережной',\n 'Невы.',\n 'Команда',\n 'молодая,',\n 'амбициозная.',\n 'В',\n 'бэкграунде',\n 'много',\n 'успешных',\n 'проектов.',\n 'Будем',\n 'рады',\n 'видеть',\n 'вас',\n 'в',\n 'нашей',\n 'команде!']"
     },
     "execution_count": 4,
     "metadata": {},
     "output_type": "execute_result"
    }
   ],
   "source": [
    "jobDescription = pd.read_pickle('jobDescription')\n",
    "jobDescription['backend'][0].split()"
   ],
   "metadata": {
    "collapsed": false,
    "pycharm": {
     "name": "#%%\n"
    }
   }
  },
  {
   "cell_type": "code",
   "execution_count": 8,
   "outputs": [
    {
     "name": "stderr",
     "output_type": "stream",
     "text": [
      "counting words...: 100%|██████████| 18/18 [00:00<00:00, 58.43it/s]\n"
     ]
    },
    {
     "data": {
      "text/plain": "{'Команда': 265,\n 'Easy': 4,\n 'Development': 61,\n 'занимается': 274,\n 'разработкой': 351,\n 'высоко-нагруженных': 4,\n 'онлайн': 140,\n 'приложений(Real-Time': 4,\n 'Bidding,': 4,\n 'DSP/SSP,': 4,\n 'SOAP/SMMP': 4,\n 'биллинги),': 4,\n 'мобильных': 406,\n 'приложений,': 127,\n 'социальных': 57,\n 'сетей': 74,\n 'и': 40457,\n 'много': 275,\n 'чего': 72,\n 'другого.': 3,\n 'Мы': 3760,\n 'работаем': 448,\n 'в': 24506,\n 'Jira/Confluence,': 5,\n 'для': 7483,\n 'связи': 273,\n 'используем': 349,\n 'Zoom/Telegram.': 2,\n 'У': 725,\n 'нас': 1807,\n 'есть': 943,\n 'DevOps,': 46,\n 'технические': 179,\n 'менеджеры': 15,\n 'Scrum-мастера.': 2,\n 'Ищем': 215,\n 'Middle/Middle+': 1,\n 'Python': 365,\n 'разработчика': 312,\n 'разработки': 3026,\n 'бэкенда': 31,\n 'международной': 176,\n 'социальной': 23,\n 'сети.': 18,\n 'Это': 189,\n 'абсолютно': 21,\n 'новый': 218,\n 'проект.': 23,\n 'Вы': 413,\n 'будете': 135,\n 'у': 1226,\n 'истоков': 15,\n 'проекта': 331,\n 'участвовать': 258,\n 'построении': 48,\n 'архитектуры.': 33,\n 'Backend': 97,\n 'на': 11722,\n 'будет': 1189,\n 'обслуживать': 15,\n 'клиентов': 358,\n 'WEB,': 9,\n 'iOS,': 41,\n 'Android': 303,\n 'приложениях.': 8,\n 'Требования': 187,\n 'Опыт': 2612,\n 'от': 4287,\n '2': 627,\n 'лет': 561,\n 'продуктовой': 198,\n 'разработкиОпыт': 11,\n 'работы': 7952,\n 'команде': 974,\n '1': 443,\n 'годаВысокий': 1,\n 'уровень': 486,\n 'знания': 797,\n 'DjangoПонимание': 1,\n 'методологии': 205,\n 'TDDПонимание': 1,\n 'REST,': 111,\n 'опыт': 2880,\n 'построения': 387,\n 'APIУмение': 4,\n 'самостоятельно': 177,\n 'планировать': 87,\n 'рабочее': 138,\n 'время,': 54,\n 'ответственностьОпыт': 3,\n 'высоконагруженных': 247,\n 'проектах': 414,\n 'Плюсом': 101,\n 'Умение': 314,\n 'брать': 98,\n 'все': 658,\n 'свои': 435,\n 'руки,': 3,\n 'а': 1446,\n 'также': 841,\n 'предлагать,': 3,\n 'не': 2275,\n 'просто': 150,\n 'шаблонно': 2,\n '\"пилить\":)Опыт': 1,\n 'архитектуры': 591,\n 'новых': 837,\n 'проектов': 549,\n 'Условия:': 470,\n 'ценим': 97,\n 'заслуги,': 2,\n 'время': 412,\n 'здоровье': 77,\n 'каждого': 175,\n 'сотрудника.': 18,\n 'Поэтому': 80,\n 'оплачиваемый': 72,\n 'отпуск,': 33,\n 'который': 811,\n 'лучше': 104,\n 'отгуливать': 2,\n '(отдыхать': 2,\n 'важно!).': 1,\n 'Платим': 2,\n 'официально.Для': 2,\n 'любителей': 12,\n 'очной': 3,\n 'офис': 805,\n 'Санкт-Петербурге': 30,\n 'набережной': 9,\n 'Невы.': 2,\n 'молодая,': 40,\n 'амбициозная.': 3,\n 'В': 1352,\n 'бэкграунде': 3,\n 'успешных': 54,\n 'проектов.': 86,\n 'Будем': 58,\n 'рады': 185,\n 'видеть': 110,\n 'вас': 391,\n 'нашей': 618,\n 'команде!': 29,\n 'нашу': 221,\n 'команду,': 101,\n 'работающую': 8,\n 'над': 700,\n 'высоконагруженным': 10,\n 'интерактивным': 2,\n 'медиа': 50,\n 'сервисом,': 5,\n 'требуется': 120,\n 'Senior': 139,\n 'Developer': 109,\n '(Node.js).': 3,\n 'Наша': 475,\n 'команда': 825,\n 'работает': 297,\n 'удаленно': 281,\n 'из': 2386,\n 'разных': 360,\n 'городов': 23,\n 'стран,': 6,\n 'своем': 50,\n 'примере': 3,\n 'показывая,': 2,\n 'что': 1222,\n 'небольшая': 34,\n 'может': 181,\n 'развивать': 250,\n 'поддерживать': 229,\n 'масштабные': 46,\n 'проекты.': 55,\n 'уделяем': 22,\n 'особое': 10,\n 'внимание': 99,\n 'качеству': 35,\n 'нашего': 160,\n 'кода': 383,\n 'применяемым': 3,\n 'практикам.': 4,\n 'Документация,': 2,\n 'TDD,': 22,\n 'semantic': 2,\n 'versioning,': 3,\n 'статический': 6,\n 'анализ,': 43,\n 'CI/CD': 200,\n '--': 12,\n 'ключевые': 30,\n 'параметры': 4,\n 'успешной': 51,\n 'работы.': 216,\n 'Во': 18,\n 'внутренних': 273,\n 'процессах': 64,\n 'мы': 3586,\n 'делаем': 231,\n 'ставку': 5,\n 'командную': 28,\n 'работу:': 8,\n 'верим,': 34,\n 'чуткое': 2,\n 'взаимодействие': 216,\n 'улучшает': 3,\n 'результаты': 78,\n 'работы,': 312,\n 'развивает': 26,\n 'профессиональные': 156,\n 'навыки': 419,\n 'эмоциональный': 3,\n 'интеллект.': 2,\n 'Вежливо': 2,\n 'непринужденно': 2,\n 'общаемся,': 4,\n 'этично': 13,\n 'без': 376,\n 'предрассудков.': 2,\n 'Приветствуем': 5,\n 'инициативу,': 10,\n 'прислушиваемся': 16,\n 'к': 2775,\n 'сотрудникам.Ищем': 2,\n 'Javascript/Node.JS': 2,\n 'разработчика,': 75,\n 'умеет': 61,\n 'работать': 1854,\n 'разделяет': 13,\n 'наши': 381,\n 'ценности.': 6,\n 'С': 213,\n 'каким': 12,\n 'стеком': 65,\n 'вы': 645,\n 'работать:': 39,\n 'Бэкенд:': 4,\n 'Node.jsДевопс:': 2,\n 'Terraform,': 20,\n 'Consul,': 6,\n 'Docker,': 273,\n 'Kubernetes,': 110,\n 'ChefКлауд': 2,\n 'платформы:': 8,\n 'Google,': 20,\n 'Amazon': 24,\n 'Как': 131,\n 'пишем': 113,\n 'код:': 5,\n 'Разрабатываем': 30,\n 'архитектурные': 68,\n 'решения,': 159,\n 'которые': 961,\n 'выдерживают': 2,\n 'нагрузку': 16,\n '50000': 3,\n 'запросов': 205,\n 'секундуАктивно': 2,\n 'изучаем': 12,\n 'внедряем': 65,\n 'новые': 696,\n 'технологииРегулярно': 2,\n 'обновляем': 7,\n 'зависимости': 167,\n 'проектах,': 115,\n 'совершенствуем': 15,\n 'архитектуру': 127,\n 'очень': 257,\n 'нужны': 56,\n 'нам,': 38,\n 'если': 761,\n 'вы:': 128,\n 'Умеете': 26,\n 'командеУ': 2,\n 'хорошо': 140,\n 'получается': 10,\n 'осваивать': 41,\n 'новую': 75,\n 'информацию': 70,\n '–': 1734,\n 'можете': 133,\n 'изучить': 44,\n 'применить': 15,\n 'технологии,': 100,\n 'решенияРешаете': 2,\n 'бизнес-задачи': 8,\n 'с': 16330,\n 'использованием': 414,\n 'JS': 99,\n 'сервере': 7,\n 'понимаете': 44,\n 'как': 1600,\n 'event-loopИмеете': 2,\n 'проектирования': 501,\n 'системПрактикуете': 2,\n 'DevOps': 121,\n 'или': 2772,\n 'этому': 19,\n 'научитьсяВладете': 2,\n 'английским': 134,\n 'уровне': 557,\n 'чтения': 183,\n 'написания': 594,\n 'документации': 393,\n '—': 2690,\n 'растущая': 16,\n 'международная': 127,\n 'компания': 353,\n 'Хельсинки,': 3,\n 'которая': 403,\n 'помогает': 161,\n 'интернет-магазинам,': 2,\n 'автоматизируя': 7,\n 'поиск': 111,\n 'встраивая': 2,\n 'видеоролики': 2,\n 'о': 1054,\n 'товарах.': 3,\n '6': 101,\n 'странах': 98,\n 'по': 5725,\n 'всему': 192,\n 'миру.': 74,\n 'опытного': 155,\n 'backend-разработчика,': 4,\n 'хотел': 5,\n 'бы': 190,\n 'компании': 1046,\n 'гибким': 106,\n 'графиком,': 7,\n 'отличной': 12,\n 'русскоязычной': 7,\n 'командой': 565,\n '(разработки)': 1,\n 'англоговорящими': 8,\n 'коллегами': 85,\n 'других': 405,\n 'команд.': 38,\n 'разрабатываем': 282,\n 'распределенную': 18,\n 'систему,': 30,\n 'основанную': 9,\n 'облачных': 64,\n 'платформах': 36,\n 'сервисах.': 3,\n 'составе': 79,\n 'команды': 652,\n 'разработке': 801,\n 'компонентов': 169,\n 'системы': 718,\n 'дорабатывать': 29,\n 'существующий': 23,\n 'функционал.': 12,\n 'Вам': 281,\n 'предстоит': 662,\n 'сервисами': 130,\n 'AWS:': 4,\n 'Kinesis,': 1,\n 'Redshift,': 1,\n 'SQS': 1,\n 'другими': 308,\n 'облачными': 25,\n 'решениями,': 3,\n 'подходящими': 2,\n 'систем.': 74,\n 'Что': 1171,\n 'ждём': 88,\n 'вас:': 102,\n 'коммерческой': 277,\n 'Node.js': 82,\n '3': 477,\n 'Уверенное': 136,\n 'понимание': 728,\n 'того,': 131,\n 'строятся': 9,\n 'распределенные': 11,\n 'web-технологии': 1,\n 'целом': 24,\n 'Знание': 684,\n 'применения': 130,\n 'ООП,': 162,\n 'ФП,': 4,\n 'архитектурных': 173,\n 'паттернов': 211,\n 'приложения,': 96,\n 'SOLID,': 80,\n 'DRY': 9,\n 'Наличие': 65,\n 'опыта': 276,\n 'базами': 233,\n 'данных,': 373,\n 'реляционных,': 3,\n 'так': 706,\n 'нереляционных': 7,\n '(PostgreSQL,': 26,\n 'MySQL,': 100,\n 'MongoDB': 38,\n 'т.д.)': 20,\n 'Хорошее': 99,\n 'отладки': 26,\n 'профилирования': 27,\n 'кода,': 139,\n 'умение': 581,\n 'находить': 149,\n 'узкие': 21,\n 'места': 100,\n 'производительности': 126,\n 'Английский': 37,\n 'тех.документации': 2,\n 'команде:': 56,\n 'предлагать': 111,\n 'обсуждать': 87,\n 'идеи,': 43,\n 'аргументировать': 37,\n 'свою': 285,\n 'позицию,': 13,\n 'слушать': 18,\n 'понимать': 82,\n 'людей,': 101,\n 'договариваться.': 2,\n 'Готовность': 22,\n 'учиться': 108,\n 'желание': 283,\n 'приносить': 15,\n 'пользу,': 8,\n 'действуя': 2,\n 'проактивно': 7,\n 'аналитических': 80,\n 'навыков:': 7,\n 'умеете': 100,\n 'суть': 22,\n 'проблемы': 77,\n 'понимать,': 28,\n 'подойти': 4,\n 'решению': 45,\n 'Нет': 15,\n 'никаких': 18,\n 'проблем': 121,\n 'том,': 89,\n 'чего-то': 20,\n 'знаете': 75,\n 'чем-то': 9,\n 'знакомы.': 3,\n 'Главную': 2,\n 'роль': 31,\n 'играют': 14,\n 'проактивный': 4,\n 'подход': 188,\n 'работе.БонусыМы': 1,\n 'предлагаем:': 747,\n 'Удаленный': 37,\n 'формат': 295,\n 'оформление': 334,\n 'через': 341,\n 'ИП,': 8,\n 'самозанятость': 6,\n 'Гибкий': 152,\n 'график': 630,\n 'сами': 90,\n 'выбираете,': 2,\n 'когда': 146,\n 'откуда': 24,\n 'Конкурентоспособная': 48,\n 'заработная': 491,\n 'плата': 275,\n '(уровень': 29,\n 'обсудим': 86,\n 'встрече)': 2,\n 'Льготы': 2,\n 'мобильную': 18,\n 'связь': 82,\n 'домашний': 8,\n 'интернет.': 4,\n 'Компенсация': 25,\n 'расходов': 75,\n 'книги': 20,\n 'курсы,': 110,\n 'связанные': 46,\n 'работой.': 4,\n 'расходов,': 3,\n 'посещением': 21,\n 'конференций': 39,\n 'профессиональных': 141,\n 'мероприятий.': 5,\n 'Частичная': 13,\n 'компенсация': 173,\n 'курсы': 234,\n 'английского': 428,\n 'языка': 380,\n '(60%).': 3,\n 'Друзья!': 2,\n 'Разыскиваем': 2,\n 'сильного': 26,\n 'самостоятельного': 26,\n 'developer': 63,\n 'сингапурской': 2,\n 'Osome.': 2,\n 'Работать': 68,\n 'можно': 586,\n 'удаленно,': 121,\n 'нашем': 154,\n 'московском': 7,\n 'офисе.': 73,\n 'О': 268,\n 'Osome': 5,\n '-': 4521,\n 'это': 1186,\n 'сервис,': 51,\n 'делает': 65,\n 'предпринимателей': 9,\n 'эффективнее,': 3,\n 'освобождая': 3,\n 'самого': 47,\n 'важного.': 9,\n 'помогаем': 174,\n 'предпринимателям': 5,\n 'решать': 224,\n 'рутинные': 20,\n 'задачи': 759,\n 'типа': 36,\n 'регистрации': 19,\n 'компаний,': 105,\n 'бухгалтерии': 4,\n 'сдачи': 13,\n 'отчётности.': 5,\n 'стартовали': 4,\n 'три': 64,\n 'половиной': 3,\n 'года': 378,\n 'назад.': 2,\n 'Сейчас': 337,\n 'обслуживаем': 10,\n 'Сингапуре,': 15,\n 'Великобритании,': 5,\n 'Гонконге,': 4,\n 'планах': 28,\n 'другие': 243,\n 'рынки.': 11,\n 'Свыше': 2,\n '10%': 16,\n 'всех': 472,\n 'компаний': 283,\n 'Сингапуре': 2,\n 'регистрируются': 2,\n 'наш': 257,\n 'сервис.': 22,\n 'порядка': 42,\n '250': 22,\n 'человек': 133,\n '(из': 9,\n 'них': 122,\n '~40': 2,\n 'разработчиков)': 2,\n 'пяти': 21,\n 'странах.': 18,\n 'растём,': 15,\n 'задач': 708,\n 'становится': 22,\n 'больше,': 31,\n 'поэтому': 308,\n 'усиливаем': 6,\n 'продуктовую': 36,\n 'команду': 752,\n 'набираем': 35,\n 'людей.': 77,\n 'отличное': 37,\n 'присоединиться': 97,\n 'нам': 626,\n 'ещё': 122,\n 'довольно': 16,\n 'молодые,': 2,\n 'возможность': 1059,\n 'делать': 269,\n 'классный': 27,\n 'полезный': 11,\n 'продукт,': 127,\n 'придумывать,': 13,\n 'возглавлять': 2,\n 'направления': 124,\n 'разработке.': 31,\n 'вакансии:': 11,\n 'Работаем': 106,\n 'скрам-командах.': 1,\n 'Деплоим': 3,\n 'мастер': 4,\n 'продакшн': 13,\n 'несколько': 254,\n 'раз': 138,\n 'за': 1832,\n 'день.': 83,\n '(нет': 8,\n 'фиксированного': 25,\n 'начала': 150,\n 'конца': 45,\n 'рабочего': 598,\n 'дня),': 3,\n 'главное': 73,\n 'стабильный': 26,\n 'результат.': 54,\n 'Важное': 3,\n 'способность': 74,\n 'баланс': 16,\n 'между': 268,\n 'скоростью': 6,\n 'доставки': 114,\n 'его': 503,\n 'качеством.': 5,\n 'Обязанности:': 512,\n 'Разработка': 681,\n 'сервисов': 487,\n 'рамках': 330,\n 'одной': 163,\n 'скрам-команд,': 1,\n 'реализация': 105,\n 'банковских': 116,\n 'иных': 15,\n 'интеграций.Оптимизация': 1,\n 'приложения': 394,\n 'внедрение': 149,\n 'лучших': 211,\n 'практик': 80,\n 'кодовую': 15,\n 'базу': 29,\n 'Требования:': 729,\n 'Не': 103,\n 'менее': 264,\n '4': 124,\n 'коммерческих': 54,\n 'проектахОпыт': 4,\n 'бекэндом': 1,\n 'другим': 44,\n 'асинхронным': 9,\n 'языком': 106,\n 'программирования,': 47,\n 'принципов': 1166,\n 'асинхронностиХорошие': 1,\n 'PostgreSQLБазовые': 1,\n 'Linux': 192,\n 'Будет': 725,\n 'плюсом:': 463,\n 'Глубокие': 10,\n 'Javascript': 28,\n 'Node.jsХорошее': 1,\n 'знание': 1302,\n 'SQLОпыт': 19,\n 'AWS': 124,\n '(EC2,': 5,\n 'Elastic': 18,\n 'Beanstalk,': 3,\n 'S3,': 18,\n 'Lambda,': 11,\n 'VPC,': 4,\n 'IAM)': 2,\n 'Serverless-парадигмойОпыт': 2,\n 'схем': 41,\n 'баз': 196,\n 'данныхОпыт': 26,\n 'тестов': 199,\n '(еще': 2,\n 'работа': 716,\n 'BDD-парадигме)Знание': 1,\n 'типизированными': 2,\n 'языками': 34,\n '(мы': 112,\n 'TypeScript)Опыт': 1,\n 'SequelizeОпыт': 1,\n 'Можно': 40,\n 'офисе': 495,\n 'станции': 51,\n 'Белорусская,': 2,\n 'удаленно.Отсутствие': 2,\n '“корпората”': 2,\n 'строгой': 8,\n 'иерархии': 16,\n 'компании:': 131,\n 'никакого': 20,\n 'прямого': 7,\n 'начальника': 2,\n 'тобой,': 6,\n 'agile-принципам,': 2,\n 'отсутствие': 122,\n 'бюрократииЗарплата': 1,\n 'долларахГибкий': 1,\n '(сами': 8,\n 'распределяете': 2,\n 'свое': 104,\n 'время)': 2,\n 'Стэк:': 4,\n 'Node.js,': 45,\n 'AWS,': 57,\n 'Serverless,': 2,\n 'Sequelize,': 3,\n 'TypeScript': 55,\n 'поддержкой': 82,\n 'современного': 50,\n 'регистратора': 2,\n 'доменных': 12,\n 'имен.': 2,\n 'ищем': 908,\n 'опытных': 118,\n 'программистов,': 13,\n 'помогут': 62,\n 'интегрировании': 1,\n 'продуктов': 532,\n 'системы,': 127,\n 'таких': 118,\n 'shared': 10,\n 'hosting,': 1,\n 'VPS,': 1,\n 'почтовых': 14,\n 'др.': 72,\n 'Поддержка': 94,\n 'доработка': 76,\n 'e-commerce': 50,\n 'со': 1222,\n 'сложной': 71,\n 'бизнес-логикой': 4,\n '(PHP': 3,\n '+': 821,\n 'MySQL).Миграция': 1,\n '(перепись)': 1,\n 'легаси': 20,\n 'PHP': 232,\n '7.2Оптимизация': 1,\n 'логики': 38,\n 'системы.Интеграция': 1,\n 'новыми': 85,\n 'провайдерами': 7,\n 'услуг.Требования:Отличные': 1,\n 'знания:': 25,\n '5.x,': 1,\n '7.x,': 2,\n 'MySQL3+': 1,\n 'любым': 55,\n 'современным': 69,\n 'фреймфорком': 1,\n '(у': 74,\n 'используется': 57,\n 'Yii2).2+': 1,\n 'ORM': 37,\n 'Doctrine': 4,\n 'ORM)Знание': 1,\n 'JavaScript': 219,\n '(иногда': 6,\n 'вносить': 31,\n 'небольшие': 17,\n 'правки)Базовые': 1,\n 'HTML': 63,\n 'CSS': 85,\n 'правки)Опыт': 1,\n 'Docker': 155,\n 'разобраться,': 6,\n 'он': 87,\n 'работаетОпыт': 1,\n 'GitБазовые': 2,\n 'конфигурирования': 21,\n 'Nginx': 12,\n 'PHP-FPMПонимание': 1,\n 'применение': 88,\n 'многослойной': 1,\n 'архитектуры.Опыт': 2,\n 'tracking': 11,\n 'системами': 535,\n '(Bugzilla,': 1,\n 'Redmine,': 4,\n 'Jira,': 197,\n 'Youtrack)Опыт': 1,\n '*nix': 25,\n 'командной': 232,\n 'являются': 67,\n 'большим': 166,\n 'плюсом;': 8,\n 'Полная': 59,\n 'занятость': 47,\n '(5/2)': 1,\n 'удаленно3': 1,\n 'недели': 29,\n 'оплаченного': 1,\n 'отпуска': 97,\n 'You': 124,\n 'will': 310,\n 'be': 307,\n 'responsible': 31,\n 'for': 931,\n 'extracting': 1,\n 'and': 4085,\n 'ingesting': 1,\n 'data': 302,\n 'from': 254,\n 'numerous': 1,\n 'sources': 13,\n 'including': 87,\n 'APIs': 21,\n 'external': 24,\n 'sets.': 1,\n 'In': 33,\n 'this': 83,\n 'role': 51,\n 'you': 419,\n 'own': 54,\n 'the': 2061,\n 'creation': 11,\n 'process': 45,\n 'of': 1975,\n 'these': 24,\n 'tools,': 22,\n 'services,': 21,\n 'workflows': 2,\n 'to': 1960,\n 'improve': 53,\n 'ingestion,': 1,\n 'analysis,': 11,\n 'reports': 20,\n 'management.': 4,\n 'We': 376,\n 'rely': 4,\n 'on': 490,\n 'test': 67,\n 'ensure': 35,\n 'accuracy': 3,\n 'quality.': 2,\n 'identify': 18,\n 'rectify': 1,\n 'any': 52,\n 'issues': 12,\n 'with': 1294,\n 'breaks': 1,\n 'as': 421,\n 'well': 61,\n 'scale': 11,\n 'infrastructure.': 9,\n 'БонусыWe': 4,\n 'just': 23,\n 'closed': 5,\n 'our': 490,\n 'pre-seed': 2,\n 'large': 38,\n 'USA': 8,\n 'funds': 7,\n 'are': 536,\n 'a': 1303,\n 'growth': 57,\n 'trajectory.': 2,\n 'If': 42,\n 'want': 50,\n 'work': 363,\n 'in': 1603,\n 'dynamic': 15,\n 'fast': 16,\n 'growing': 41,\n 'US': 21,\n 'start-up': 8,\n 'core': 51,\n 'team': 423,\n 'member': 18,\n 'now': 7,\n 'is': 621,\n 'time!': 1,\n '«РТЛабс»': 7,\n 'ОДНА': 6,\n 'ИЗ': 7,\n 'ВЕДУЩИХ': 6,\n 'IT-КОМПАНИЙ': 6,\n 'РОССИИ': 3,\n 'реализуем': 80,\n 'сложные,': 27,\n 'государственные': 21,\n 'проекты:': 32,\n 'развиваем': 158,\n 'электронное': 9,\n 'правительство': 7,\n '(Портал': 7,\n 'госуслуг': 10,\n 'мобильное': 89,\n 'приложение),': 8,\n 'решения': 761,\n 'области': 558,\n 'региональной': 10,\n 'информатизации': 7,\n 'цифровизации': 52,\n 'образования,': 15,\n 'создаем': 182,\n 'единую': 22,\n 'биометрическую': 7,\n 'систему.': 5,\n 'На': 301,\n 'проект,': 72,\n 'посвященный': 7,\n 'развитию': 161,\n 'государственной': 9,\n 'информационно-аналитической': 7,\n 'основе': 313,\n 'данных': 1112,\n 'федеральных': 16,\n 'органов': 20,\n 'исполнительной': 9,\n 'власти': 13,\n 'python.': 4,\n 'веб-разработки': 33,\n 'хорошее': 61,\n 'наличие': 79,\n 'реализации': 400,\n 'API': 461,\n 'веб': 112,\n 'важности': 4,\n 'тестирования': 977,\n 'пользоваться': 113,\n 'соответствующим': 2,\n 'инструментарием': 18,\n '(pytest,': 6,\n 'mock)': 1,\n 'DRF,': 9,\n 'FastApi': 2,\n 'контейнеризацией': 7,\n '(Docker,': 15,\n 'Compose)': 2,\n 'Kafka,': 166,\n 'Airflow': 15,\n 'СУБД': 149,\n 'PostgreSQL,': 199,\n 'MongoDB,': 85,\n 'Cassandra)': 1,\n 'pyspark': 1,\n 'Elasticsearch': 9,\n 'делать:': 185,\n 'переписать': 5,\n 'backend': 180,\n 'c': 166,\n 'Django': 56,\n 'DRF': 6,\n 'Vue/React': 3,\n 'проектировании': 168,\n 'архитектуры,': 79,\n 'выработке': 9,\n 'решений': 556,\n 'отказоустойчивости,': 5,\n 'поддерживаемости': 3,\n 'микросервисов': 76,\n 'разрабатывать': 236,\n 'веб-приложений': 67,\n 'поддержка': 434,\n 'старых': 15,\n 'написание': 135,\n 'микросервисов.': 12,\n 'социально': 55,\n 'значимыми': 24,\n 'проектами;Официальное': 9,\n 'трудоустройство': 197,\n 'соответствии': 324,\n 'ТК': 886,\n 'РФ': 227,\n 'первого': 327,\n 'дня;Удаленка': 4,\n 'необходимостью': 7,\n 'присутствовать': 14,\n 'примерно': 24,\n 'месяц': 105,\n '(Москва,': 23,\n 'м.': 342,\n 'Румянцево)Конкурентная': 4,\n '(готовы': 17,\n 'предоставить': 42,\n 'желаемую': 5,\n 'з/п,': 6,\n 'она': 42,\n 'коррелирует': 5,\n 'опытом)': 4,\n 'годовые': 44,\n 'бонусыДМС': 12,\n 'данной': 45,\n 'позиции': 124,\n 'предусмотрена': 12,\n 'полностью': 297,\n 'удаленная': 177,\n 'работа,': 60,\n 'рассматриваем': 69,\n 'кандидатов': 148,\n 'преимущественно': 24,\n 'Москвы': 56,\n 'Московской': 12,\n 'области,': 31,\n 'готовых': 120,\n 'редким': 6,\n 'поездкам': 5,\n 'офис.': 20,\n 'Привет!': 113,\n 'Швейцарской': 1,\n '“Alao”.': 1,\n 'Более': 76,\n 'двух': 91,\n 'успешно': 130,\n 'интересным': 20,\n 'сложным': 18,\n 'проектом': 68,\n 'платформы': 273,\n 'сфере': 334,\n 'телекоммуникации,': 2,\n 'позволяет': 164,\n 'пользователям': 63,\n 'удобно': 43,\n 'сравнивать': 1,\n ...}"
     },
     "execution_count": 8,
     "metadata": {},
     "output_type": "execute_result"
    }
   ],
   "source": [
    "freqDict = {}\n",
    "for div in tqdm(divisions, 'counting words...'):\n",
    "    for iter in range(0, len(jobDescription[div])):\n",
    "        if pd.isnull(jobDescription.at[iter,div]) == False:\n",
    "            for word in jobDescription[div][iter].split():\n",
    "                if word not in freqDict:\n",
    "                    freqDict[word] = 1\n",
    "                else:\n",
    "                    freqDict[word] += 1\n",
    "freqDict"
   ],
   "metadata": {
    "collapsed": false,
    "pycharm": {
     "name": "#%%\n"
    }
   }
  },
  {
   "cell_type": "code",
   "execution_count": 9,
   "outputs": [
    {
     "data": {
      "text/plain": "{'Команда': 265,\n 'Easy': 4,\n 'Development': 61,\n 'занимается': 274,\n 'разработкой': 351,\n 'высоко-нагруженных': 4,\n 'онлайн': 140,\n 'приложений(Real-Time': 4,\n 'Bidding,': 4,\n 'DSP/SSP,': 4,\n 'SOAP/SMMP': 4,\n 'биллинги),': 4,\n 'мобильных': 406,\n 'приложений,': 127,\n 'социальных': 57,\n 'сетей': 74,\n 'и': 40457,\n 'много': 275,\n 'чего': 72,\n 'другого.': 3,\n 'Мы': 3760,\n 'работаем': 448,\n 'в': 24506,\n 'Jira/Confluence,': 5,\n 'для': 7483,\n 'связи': 273,\n 'используем': 349,\n 'Zoom/Telegram.': 2,\n 'У': 725,\n 'нас': 1807,\n 'есть': 943,\n 'DevOps,': 46,\n 'технические': 179,\n 'менеджеры': 15,\n 'Scrum-мастера.': 2,\n 'Ищем': 215,\n 'Middle/Middle+': 1,\n 'Python': 365,\n 'разработчика': 312,\n 'разработки': 3026,\n 'бэкенда': 31,\n 'международной': 176,\n 'социальной': 23,\n 'сети.': 18,\n 'Это': 189,\n 'абсолютно': 21,\n 'новый': 218,\n 'проект.': 23,\n 'Вы': 413,\n 'будете': 135,\n 'у': 1226,\n 'истоков': 15,\n 'проекта': 331,\n 'участвовать': 258,\n 'построении': 48,\n 'архитектуры.': 33,\n 'Backend': 97,\n 'на': 11722,\n 'будет': 1189,\n 'обслуживать': 15,\n 'клиентов': 358,\n 'WEB,': 9,\n 'iOS,': 41,\n 'Android': 303,\n 'приложениях.': 8,\n 'Требования': 187,\n 'Опыт': 2612,\n 'от': 4287,\n '2': 627,\n 'лет': 561,\n 'продуктовой': 198,\n 'разработкиОпыт': 11,\n 'работы': 7952,\n 'команде': 974,\n '1': 443,\n 'годаВысокий': 1,\n 'уровень': 486,\n 'знания': 797,\n 'DjangoПонимание': 1,\n 'методологии': 205,\n 'TDDПонимание': 1,\n 'REST,': 111,\n 'опыт': 2880,\n 'построения': 387,\n 'APIУмение': 4,\n 'самостоятельно': 177,\n 'планировать': 87,\n 'рабочее': 138,\n 'время,': 54,\n 'ответственностьОпыт': 3,\n 'высоконагруженных': 247,\n 'проектах': 414,\n 'Плюсом': 101,\n 'Умение': 314,\n 'брать': 98,\n 'все': 658,\n 'свои': 435,\n 'руки,': 3,\n 'а': 1446,\n 'также': 841,\n 'предлагать,': 3,\n 'не': 2275,\n 'просто': 150,\n 'шаблонно': 2,\n '\"пилить\":)Опыт': 1,\n 'архитектуры': 591,\n 'новых': 837,\n 'проектов': 549,\n 'Условия:': 470,\n 'ценим': 97,\n 'заслуги,': 2,\n 'время': 412,\n 'здоровье': 77,\n 'каждого': 175,\n 'сотрудника.': 18,\n 'Поэтому': 80,\n 'оплачиваемый': 72,\n 'отпуск,': 33,\n 'который': 811,\n 'лучше': 104,\n 'отгуливать': 2,\n '(отдыхать': 2,\n 'важно!).': 1,\n 'Платим': 2,\n 'официально.Для': 2,\n 'любителей': 12,\n 'очной': 3,\n 'офис': 805,\n 'Санкт-Петербурге': 30,\n 'набережной': 9,\n 'Невы.': 2,\n 'молодая,': 40,\n 'амбициозная.': 3,\n 'В': 1352,\n 'бэкграунде': 3,\n 'успешных': 54,\n 'проектов.': 86,\n 'Будем': 58,\n 'рады': 185,\n 'видеть': 110,\n 'вас': 391,\n 'нашей': 618,\n 'команде!': 29,\n 'нашу': 221,\n 'команду,': 101,\n 'работающую': 8,\n 'над': 700,\n 'высоконагруженным': 10,\n 'интерактивным': 2,\n 'медиа': 50,\n 'сервисом,': 5,\n 'требуется': 120,\n 'Senior': 139,\n 'Developer': 109,\n '(Node.js).': 3,\n 'Наша': 475,\n 'команда': 825,\n 'работает': 297,\n 'удаленно': 281,\n 'из': 2386,\n 'разных': 360,\n 'городов': 23,\n 'стран,': 6,\n 'своем': 50,\n 'примере': 3,\n 'показывая,': 2,\n 'что': 1222,\n 'небольшая': 34,\n 'может': 181,\n 'развивать': 250,\n 'поддерживать': 229,\n 'масштабные': 46,\n 'проекты.': 55,\n 'уделяем': 22,\n 'особое': 10,\n 'внимание': 99,\n 'качеству': 35,\n 'нашего': 160,\n 'кода': 383,\n 'применяемым': 3,\n 'практикам.': 4,\n 'Документация,': 2,\n 'TDD,': 22,\n 'semantic': 2,\n 'versioning,': 3,\n 'статический': 6,\n 'анализ,': 43,\n 'CI/CD': 200,\n '--': 12,\n 'ключевые': 30,\n 'параметры': 4,\n 'успешной': 51,\n 'работы.': 216,\n 'Во': 18,\n 'внутренних': 273,\n 'процессах': 64,\n 'мы': 3586,\n 'делаем': 231,\n 'ставку': 5,\n 'командную': 28,\n 'работу:': 8,\n 'верим,': 34,\n 'чуткое': 2,\n 'взаимодействие': 216,\n 'улучшает': 3,\n 'результаты': 78,\n 'работы,': 312,\n 'развивает': 26,\n 'профессиональные': 156,\n 'навыки': 419,\n 'эмоциональный': 3,\n 'интеллект.': 2,\n 'Вежливо': 2,\n 'непринужденно': 2,\n 'общаемся,': 4,\n 'этично': 13,\n 'без': 376,\n 'предрассудков.': 2,\n 'Приветствуем': 5,\n 'инициативу,': 10,\n 'прислушиваемся': 16,\n 'к': 2775,\n 'сотрудникам.Ищем': 2,\n 'Javascript/Node.JS': 2,\n 'разработчика,': 75,\n 'умеет': 61,\n 'работать': 1854,\n 'разделяет': 13,\n 'наши': 381,\n 'ценности.': 6,\n 'С': 213,\n 'каким': 12,\n 'стеком': 65,\n 'вы': 645,\n 'работать:': 39,\n 'Бэкенд:': 4,\n 'Node.jsДевопс:': 2,\n 'Terraform,': 20,\n 'Consul,': 6,\n 'Docker,': 273,\n 'Kubernetes,': 110,\n 'ChefКлауд': 2,\n 'платформы:': 8,\n 'Google,': 20,\n 'Amazon': 24,\n 'Как': 131,\n 'пишем': 113,\n 'код:': 5,\n 'Разрабатываем': 30,\n 'архитектурные': 68,\n 'решения,': 159,\n 'которые': 961,\n 'выдерживают': 2,\n 'нагрузку': 16,\n '50000': 3,\n 'запросов': 205,\n 'секундуАктивно': 2,\n 'изучаем': 12,\n 'внедряем': 65,\n 'новые': 696,\n 'технологииРегулярно': 2,\n 'обновляем': 7,\n 'зависимости': 167,\n 'проектах,': 115,\n 'совершенствуем': 15,\n 'архитектуру': 127,\n 'очень': 257,\n 'нужны': 56,\n 'нам,': 38,\n 'если': 761,\n 'вы:': 128,\n 'Умеете': 26,\n 'командеУ': 2,\n 'хорошо': 140,\n 'получается': 10,\n 'осваивать': 41,\n 'новую': 75,\n 'информацию': 70,\n '–': 1734,\n 'можете': 133,\n 'изучить': 44,\n 'применить': 15,\n 'технологии,': 100,\n 'решенияРешаете': 2,\n 'бизнес-задачи': 8,\n 'с': 16330,\n 'использованием': 414,\n 'JS': 99,\n 'сервере': 7,\n 'понимаете': 44,\n 'как': 1600,\n 'event-loopИмеете': 2,\n 'проектирования': 501,\n 'системПрактикуете': 2,\n 'DevOps': 121,\n 'или': 2772,\n 'этому': 19,\n 'научитьсяВладете': 2,\n 'английским': 134,\n 'уровне': 557,\n 'чтения': 183,\n 'написания': 594,\n 'документации': 393,\n '—': 2690,\n 'растущая': 16,\n 'международная': 127,\n 'компания': 353,\n 'Хельсинки,': 3,\n 'которая': 403,\n 'помогает': 161,\n 'интернет-магазинам,': 2,\n 'автоматизируя': 7,\n 'поиск': 111,\n 'встраивая': 2,\n 'видеоролики': 2,\n 'о': 1054,\n 'товарах.': 3,\n '6': 101,\n 'странах': 98,\n 'по': 5725,\n 'всему': 192,\n 'миру.': 74,\n 'опытного': 155,\n 'backend-разработчика,': 4,\n 'хотел': 5,\n 'бы': 190,\n 'компании': 1046,\n 'гибким': 106,\n 'графиком,': 7,\n 'отличной': 12,\n 'русскоязычной': 7,\n 'командой': 565,\n '(разработки)': 1,\n 'англоговорящими': 8,\n 'коллегами': 85,\n 'других': 405,\n 'команд.': 38,\n 'разрабатываем': 282,\n 'распределенную': 18,\n 'систему,': 30,\n 'основанную': 9,\n 'облачных': 64,\n 'платформах': 36,\n 'сервисах.': 3,\n 'составе': 79,\n 'команды': 652,\n 'разработке': 801,\n 'компонентов': 169,\n 'системы': 718,\n 'дорабатывать': 29,\n 'существующий': 23,\n 'функционал.': 12,\n 'Вам': 281,\n 'предстоит': 662,\n 'сервисами': 130,\n 'AWS:': 4,\n 'Kinesis,': 1,\n 'Redshift,': 1,\n 'SQS': 1,\n 'другими': 308,\n 'облачными': 25,\n 'решениями,': 3,\n 'подходящими': 2,\n 'систем.': 74,\n 'Что': 1171,\n 'ждём': 88,\n 'вас:': 102,\n 'коммерческой': 277,\n 'Node.js': 82,\n '3': 477,\n 'Уверенное': 136,\n 'понимание': 728,\n 'того,': 131,\n 'строятся': 9,\n 'распределенные': 11,\n 'web-технологии': 1,\n 'целом': 24,\n 'Знание': 684,\n 'применения': 130,\n 'ООП,': 162,\n 'ФП,': 4,\n 'архитектурных': 173,\n 'паттернов': 211,\n 'приложения,': 96,\n 'SOLID,': 80,\n 'DRY': 9,\n 'Наличие': 65,\n 'опыта': 276,\n 'базами': 233,\n 'данных,': 373,\n 'реляционных,': 3,\n 'так': 706,\n 'нереляционных': 7,\n '(PostgreSQL,': 26,\n 'MySQL,': 100,\n 'MongoDB': 38,\n 'т.д.)': 20,\n 'Хорошее': 99,\n 'отладки': 26,\n 'профилирования': 27,\n 'кода,': 139,\n 'умение': 581,\n 'находить': 149,\n 'узкие': 21,\n 'места': 100,\n 'производительности': 126,\n 'Английский': 37,\n 'тех.документации': 2,\n 'команде:': 56,\n 'предлагать': 111,\n 'обсуждать': 87,\n 'идеи,': 43,\n 'аргументировать': 37,\n 'свою': 285,\n 'позицию,': 13,\n 'слушать': 18,\n 'понимать': 82,\n 'людей,': 101,\n 'договариваться.': 2,\n 'Готовность': 22,\n 'учиться': 108,\n 'желание': 283,\n 'приносить': 15,\n 'пользу,': 8,\n 'действуя': 2,\n 'проактивно': 7,\n 'аналитических': 80,\n 'навыков:': 7,\n 'умеете': 100,\n 'суть': 22,\n 'проблемы': 77,\n 'понимать,': 28,\n 'подойти': 4,\n 'решению': 45,\n 'Нет': 15,\n 'никаких': 18,\n 'проблем': 121,\n 'том,': 89,\n 'чего-то': 20,\n 'знаете': 75,\n 'чем-то': 9,\n 'знакомы.': 3,\n 'Главную': 2,\n 'роль': 31,\n 'играют': 14,\n 'проактивный': 4,\n 'подход': 188,\n 'работе.БонусыМы': 1,\n 'предлагаем:': 747,\n 'Удаленный': 37,\n 'формат': 295,\n 'оформление': 334,\n 'через': 341,\n 'ИП,': 8,\n 'самозанятость': 6,\n 'Гибкий': 152,\n 'график': 630,\n 'сами': 90,\n 'выбираете,': 2,\n 'когда': 146,\n 'откуда': 24,\n 'Конкурентоспособная': 48,\n 'заработная': 491,\n 'плата': 275,\n '(уровень': 29,\n 'обсудим': 86,\n 'встрече)': 2,\n 'Льготы': 2,\n 'мобильную': 18,\n 'связь': 82,\n 'домашний': 8,\n 'интернет.': 4,\n 'Компенсация': 25,\n 'расходов': 75,\n 'книги': 20,\n 'курсы,': 110,\n 'связанные': 46,\n 'работой.': 4,\n 'расходов,': 3,\n 'посещением': 21,\n 'конференций': 39,\n 'профессиональных': 141,\n 'мероприятий.': 5,\n 'Частичная': 13,\n 'компенсация': 173,\n 'курсы': 234,\n 'английского': 428,\n 'языка': 380,\n '(60%).': 3,\n 'Друзья!': 2,\n 'Разыскиваем': 2,\n 'сильного': 26,\n 'самостоятельного': 26,\n 'developer': 63,\n 'сингапурской': 2,\n 'Osome.': 2,\n 'Работать': 68,\n 'можно': 586,\n 'удаленно,': 121,\n 'нашем': 154,\n 'московском': 7,\n 'офисе.': 73,\n 'О': 268,\n 'Osome': 5,\n '-': 4521,\n 'это': 1186,\n 'сервис,': 51,\n 'делает': 65,\n 'предпринимателей': 9,\n 'эффективнее,': 3,\n 'освобождая': 3,\n 'самого': 47,\n 'важного.': 9,\n 'помогаем': 174,\n 'предпринимателям': 5,\n 'решать': 224,\n 'рутинные': 20,\n 'задачи': 759,\n 'типа': 36,\n 'регистрации': 19,\n 'компаний,': 105,\n 'бухгалтерии': 4,\n 'сдачи': 13,\n 'отчётности.': 5,\n 'стартовали': 4,\n 'три': 64,\n 'половиной': 3,\n 'года': 378,\n 'назад.': 2,\n 'Сейчас': 337,\n 'обслуживаем': 10,\n 'Сингапуре,': 15,\n 'Великобритании,': 5,\n 'Гонконге,': 4,\n 'планах': 28,\n 'другие': 243,\n 'рынки.': 11,\n 'Свыше': 2,\n '10%': 16,\n 'всех': 472,\n 'компаний': 283,\n 'Сингапуре': 2,\n 'регистрируются': 2,\n 'наш': 257,\n 'сервис.': 22,\n 'порядка': 42,\n '250': 22,\n 'человек': 133,\n '(из': 9,\n 'них': 122,\n '~40': 2,\n 'разработчиков)': 2,\n 'пяти': 21,\n 'странах.': 18,\n 'растём,': 15,\n 'задач': 708,\n 'становится': 22,\n 'больше,': 31,\n 'поэтому': 308,\n 'усиливаем': 6,\n 'продуктовую': 36,\n 'команду': 752,\n 'набираем': 35,\n 'людей.': 77,\n 'отличное': 37,\n 'присоединиться': 97,\n 'нам': 626,\n 'ещё': 122,\n 'довольно': 16,\n 'молодые,': 2,\n 'возможность': 1059,\n 'делать': 269,\n 'классный': 27,\n 'полезный': 11,\n 'продукт,': 127,\n 'придумывать,': 13,\n 'возглавлять': 2,\n 'направления': 124,\n 'разработке.': 31,\n 'вакансии:': 11,\n 'Работаем': 106,\n 'скрам-командах.': 1,\n 'Деплоим': 3,\n 'мастер': 4,\n 'продакшн': 13,\n 'несколько': 254,\n 'раз': 138,\n 'за': 1832,\n 'день.': 83,\n '(нет': 8,\n 'фиксированного': 25,\n 'начала': 150,\n 'конца': 45,\n 'рабочего': 598,\n 'дня),': 3,\n 'главное': 73,\n 'стабильный': 26,\n 'результат.': 54,\n 'Важное': 3,\n 'способность': 74,\n 'баланс': 16,\n 'между': 268,\n 'скоростью': 6,\n 'доставки': 114,\n 'его': 503,\n 'качеством.': 5,\n 'Обязанности:': 512,\n 'Разработка': 681,\n 'сервисов': 487,\n 'рамках': 330,\n 'одной': 163,\n 'скрам-команд,': 1,\n 'реализация': 105,\n 'банковских': 116,\n 'иных': 15,\n 'интеграций.Оптимизация': 1,\n 'приложения': 394,\n 'внедрение': 149,\n 'лучших': 211,\n 'практик': 80,\n 'кодовую': 15,\n 'базу': 29,\n 'Требования:': 729,\n 'Не': 103,\n 'менее': 264,\n '4': 124,\n 'коммерческих': 54,\n 'проектахОпыт': 4,\n 'бекэндом': 1,\n 'другим': 44,\n 'асинхронным': 9,\n 'языком': 106,\n 'программирования,': 47,\n 'принципов': 1166,\n 'асинхронностиХорошие': 1,\n 'PostgreSQLБазовые': 1,\n 'Linux': 192,\n 'Будет': 725,\n 'плюсом:': 463,\n 'Глубокие': 10,\n 'Javascript': 28,\n 'Node.jsХорошее': 1,\n 'знание': 1302,\n 'SQLОпыт': 19,\n 'AWS': 124,\n '(EC2,': 5,\n 'Elastic': 18,\n 'Beanstalk,': 3,\n 'S3,': 18,\n 'Lambda,': 11,\n 'VPC,': 4,\n 'IAM)': 2,\n 'Serverless-парадигмойОпыт': 2,\n 'схем': 41,\n 'баз': 196,\n 'данныхОпыт': 26,\n 'тестов': 199,\n '(еще': 2,\n 'работа': 716,\n 'BDD-парадигме)Знание': 1,\n 'типизированными': 2,\n 'языками': 34,\n '(мы': 112,\n 'TypeScript)Опыт': 1,\n 'SequelizeОпыт': 1,\n 'Можно': 40,\n 'офисе': 495,\n 'станции': 51,\n 'Белорусская,': 2,\n 'удаленно.Отсутствие': 2,\n '“корпората”': 2,\n 'строгой': 8,\n 'иерархии': 16,\n 'компании:': 131,\n 'никакого': 20,\n 'прямого': 7,\n 'начальника': 2,\n 'тобой,': 6,\n 'agile-принципам,': 2,\n 'отсутствие': 122,\n 'бюрократииЗарплата': 1,\n 'долларахГибкий': 1,\n '(сами': 8,\n 'распределяете': 2,\n 'свое': 104,\n 'время)': 2,\n 'Стэк:': 4,\n 'Node.js,': 45,\n 'AWS,': 57,\n 'Serverless,': 2,\n 'Sequelize,': 3,\n 'TypeScript': 55,\n 'поддержкой': 82,\n 'современного': 50,\n 'регистратора': 2,\n 'доменных': 12,\n 'имен.': 2,\n 'ищем': 908,\n 'опытных': 118,\n 'программистов,': 13,\n 'помогут': 62,\n 'интегрировании': 1,\n 'продуктов': 532,\n 'системы,': 127,\n 'таких': 118,\n 'shared': 10,\n 'hosting,': 1,\n 'VPS,': 1,\n 'почтовых': 14,\n 'др.': 72,\n 'Поддержка': 94,\n 'доработка': 76,\n 'e-commerce': 50,\n 'со': 1222,\n 'сложной': 71,\n 'бизнес-логикой': 4,\n '(PHP': 3,\n '+': 821,\n 'MySQL).Миграция': 1,\n '(перепись)': 1,\n 'легаси': 20,\n 'PHP': 232,\n '7.2Оптимизация': 1,\n 'логики': 38,\n 'системы.Интеграция': 1,\n 'новыми': 85,\n 'провайдерами': 7,\n 'услуг.Требования:Отличные': 1,\n 'знания:': 25,\n '5.x,': 1,\n '7.x,': 2,\n 'MySQL3+': 1,\n 'любым': 55,\n 'современным': 69,\n 'фреймфорком': 1,\n '(у': 74,\n 'используется': 57,\n 'Yii2).2+': 1,\n 'ORM': 37,\n 'Doctrine': 4,\n 'ORM)Знание': 1,\n 'JavaScript': 219,\n '(иногда': 6,\n 'вносить': 31,\n 'небольшие': 17,\n 'правки)Базовые': 1,\n 'HTML': 63,\n 'CSS': 85,\n 'правки)Опыт': 1,\n 'Docker': 155,\n 'разобраться,': 6,\n 'он': 87,\n 'работаетОпыт': 1,\n 'GitБазовые': 2,\n 'конфигурирования': 21,\n 'Nginx': 12,\n 'PHP-FPMПонимание': 1,\n 'применение': 88,\n 'многослойной': 1,\n 'архитектуры.Опыт': 2,\n 'tracking': 11,\n 'системами': 535,\n '(Bugzilla,': 1,\n 'Redmine,': 4,\n 'Jira,': 197,\n 'Youtrack)Опыт': 1,\n '*nix': 25,\n 'командной': 232,\n 'являются': 67,\n 'большим': 166,\n 'плюсом;': 8,\n 'Полная': 59,\n 'занятость': 47,\n '(5/2)': 1,\n 'удаленно3': 1,\n 'недели': 29,\n 'оплаченного': 1,\n 'отпуска': 97,\n 'You': 124,\n 'will': 310,\n 'be': 307,\n 'responsible': 31,\n 'for': 931,\n 'extracting': 1,\n 'and': 4085,\n 'ingesting': 1,\n 'data': 302,\n 'from': 254,\n 'numerous': 1,\n 'sources': 13,\n 'including': 87,\n 'APIs': 21,\n 'external': 24,\n 'sets.': 1,\n 'In': 33,\n 'this': 83,\n 'role': 51,\n 'you': 419,\n 'own': 54,\n 'the': 2061,\n 'creation': 11,\n 'process': 45,\n 'of': 1975,\n 'these': 24,\n 'tools,': 22,\n 'services,': 21,\n 'workflows': 2,\n 'to': 1960,\n 'improve': 53,\n 'ingestion,': 1,\n 'analysis,': 11,\n 'reports': 20,\n 'management.': 4,\n 'We': 376,\n 'rely': 4,\n 'on': 490,\n 'test': 67,\n 'ensure': 35,\n 'accuracy': 3,\n 'quality.': 2,\n 'identify': 18,\n 'rectify': 1,\n 'any': 52,\n 'issues': 12,\n 'with': 1294,\n 'breaks': 1,\n 'as': 421,\n 'well': 61,\n 'scale': 11,\n 'infrastructure.': 9,\n 'БонусыWe': 4,\n 'just': 23,\n 'closed': 5,\n 'our': 490,\n 'pre-seed': 2,\n 'large': 38,\n 'USA': 8,\n 'funds': 7,\n 'are': 536,\n 'a': 1303,\n 'growth': 57,\n 'trajectory.': 2,\n 'If': 42,\n 'want': 50,\n 'work': 363,\n 'in': 1603,\n 'dynamic': 15,\n 'fast': 16,\n 'growing': 41,\n 'US': 21,\n 'start-up': 8,\n 'core': 51,\n 'team': 423,\n 'member': 18,\n 'now': 7,\n 'is': 621,\n 'time!': 1,\n '«РТЛабс»': 7,\n 'ОДНА': 6,\n 'ИЗ': 7,\n 'ВЕДУЩИХ': 6,\n 'IT-КОМПАНИЙ': 6,\n 'РОССИИ': 3,\n 'реализуем': 80,\n 'сложные,': 27,\n 'государственные': 21,\n 'проекты:': 32,\n 'развиваем': 158,\n 'электронное': 9,\n 'правительство': 7,\n '(Портал': 7,\n 'госуслуг': 10,\n 'мобильное': 89,\n 'приложение),': 8,\n 'решения': 761,\n 'области': 558,\n 'региональной': 10,\n 'информатизации': 7,\n 'цифровизации': 52,\n 'образования,': 15,\n 'создаем': 182,\n 'единую': 22,\n 'биометрическую': 7,\n 'систему.': 5,\n 'На': 301,\n 'проект,': 72,\n 'посвященный': 7,\n 'развитию': 161,\n 'государственной': 9,\n 'информационно-аналитической': 7,\n 'основе': 313,\n 'данных': 1112,\n 'федеральных': 16,\n 'органов': 20,\n 'исполнительной': 9,\n 'власти': 13,\n 'python.': 4,\n 'веб-разработки': 33,\n 'хорошее': 61,\n 'наличие': 79,\n 'реализации': 400,\n 'API': 461,\n 'веб': 112,\n 'важности': 4,\n 'тестирования': 977,\n 'пользоваться': 113,\n 'соответствующим': 2,\n 'инструментарием': 18,\n '(pytest,': 6,\n 'mock)': 1,\n 'DRF,': 9,\n 'FastApi': 2,\n 'контейнеризацией': 7,\n '(Docker,': 15,\n 'Compose)': 2,\n 'Kafka,': 166,\n 'Airflow': 15,\n 'СУБД': 149,\n 'PostgreSQL,': 199,\n 'MongoDB,': 85,\n 'Cassandra)': 1,\n 'pyspark': 1,\n 'Elasticsearch': 9,\n 'делать:': 185,\n 'переписать': 5,\n 'backend': 180,\n 'c': 166,\n 'Django': 56,\n 'DRF': 6,\n 'Vue/React': 3,\n 'проектировании': 168,\n 'архитектуры,': 79,\n 'выработке': 9,\n 'решений': 556,\n 'отказоустойчивости,': 5,\n 'поддерживаемости': 3,\n 'микросервисов': 76,\n 'разрабатывать': 236,\n 'веб-приложений': 67,\n 'поддержка': 434,\n 'старых': 15,\n 'написание': 135,\n 'микросервисов.': 12,\n 'социально': 55,\n 'значимыми': 24,\n 'проектами;Официальное': 9,\n 'трудоустройство': 197,\n 'соответствии': 324,\n 'ТК': 886,\n 'РФ': 227,\n 'первого': 327,\n 'дня;Удаленка': 4,\n 'необходимостью': 7,\n 'присутствовать': 14,\n 'примерно': 24,\n 'месяц': 105,\n '(Москва,': 23,\n 'м.': 342,\n 'Румянцево)Конкурентная': 4,\n '(готовы': 17,\n 'предоставить': 42,\n 'желаемую': 5,\n 'з/п,': 6,\n 'она': 42,\n 'коррелирует': 5,\n 'опытом)': 4,\n 'годовые': 44,\n 'бонусыДМС': 12,\n 'данной': 45,\n 'позиции': 124,\n 'предусмотрена': 12,\n 'полностью': 297,\n 'удаленная': 177,\n 'работа,': 60,\n 'рассматриваем': 69,\n 'кандидатов': 148,\n 'преимущественно': 24,\n 'Москвы': 56,\n 'Московской': 12,\n 'области,': 31,\n 'готовых': 120,\n 'редким': 6,\n 'поездкам': 5,\n 'офис.': 20,\n 'Привет!': 113,\n 'Швейцарской': 1,\n '“Alao”.': 1,\n 'Более': 76,\n 'двух': 91,\n 'успешно': 130,\n 'интересным': 20,\n 'сложным': 18,\n 'проектом': 68,\n 'платформы': 273,\n 'сфере': 334,\n 'телекоммуникации,': 2,\n 'позволяет': 164,\n 'пользователям': 63,\n 'удобно': 43,\n 'сравнивать': 1,\n ...}"
     },
     "execution_count": 9,
     "metadata": {},
     "output_type": "execute_result"
    }
   ],
   "source": [
    "freqDict"
   ],
   "metadata": {
    "collapsed": false,
    "pycharm": {
     "name": "#%%\n"
    }
   }
  },
  {
   "cell_type": "code",
   "execution_count": 42,
   "outputs": [
    {
     "data": {
      "text/plain": "['',\n 'работа',\n 'опыт',\n 'разработка',\n 'команда',\n 'знание',\n 'быть',\n 'проект',\n 'компания',\n 'система',\n 'задача',\n 'работать',\n 'and',\n 'продукт',\n 'возможность',\n 'офис',\n 'новый',\n 'год',\n 'решение',\n '+',\n 'не',\n 'данные',\n 'приложение',\n 'тестирование',\n 'развитие',\n 'требование',\n 'понимание',\n 'the',\n 'сервис',\n 'технический',\n 'процесс',\n 'to',\n 'умение',\n 'of',\n 'разработчик',\n 'уровень',\n 'технология',\n 'как',\n 'корпоративный',\n 'участие',\n 'обучение',\n 'сотрудник',\n '2',\n 'код',\n 'язык',\n 'профессиональный',\n 'день',\n 'рабочий',\n 'in',\n 'другой',\n 'принцип',\n 'a',\n 'искать',\n 'график',\n 'предлагать',\n 'хороший',\n 'навык',\n 'архитектура',\n 'если',\n 'поддержка',\n 'клиент',\n 'плюс',\n 'так',\n 'условие',\n 'платформа',\n 'английский',\n 'что',\n 'проектирование',\n 'sql',\n 'гибкий',\n 'заниматься',\n 'дмс',\n 'человек',\n 'разрабатывать',\n 'with',\n 'современный',\n 'управление',\n 'мобильный',\n 'пользователь',\n 'java',\n 'анализ',\n 'заработный',\n '1',\n 'использование',\n 'интересный',\n 'результат',\n 'api',\n '3',\n 'делать',\n 'написание',\n 'удаленный',\n 'git',\n 'крупный',\n 'бизнес',\n 'плата',\n 'также',\n 'база',\n 'рост',\n 'использовать',\n 'взаимодействие',\n 'внутренний',\n 'сложный',\n 'и',\n 'качество',\n 'инструмент',\n 'нужный',\n 'создание',\n 'документация',\n 'python',\n 'js',\n 'более',\n 'тк',\n 'один',\n 'готовый',\n 'программа',\n 'рынок',\n 'время',\n 'предстоять',\n 'писать',\n 'we',\n 'рф',\n 'for',\n 'область',\n 'создавать',\n 'кандидат',\n 'высокий',\n 'дополнительный',\n 'иметь',\n 'банк',\n 'оформление',\n 'стек',\n 'конференция',\n 'мочь',\n 'docker',\n 'россия',\n 'react',\n 'аналитик',\n 'часть',\n 'заказчик',\n 'реализация',\n 'международный',\n 'обязанность',\n 'контроль',\n 'автоматизация',\n 'удаленно',\n 'team',\n 'основный',\n 'уметь',\n 'больший',\n '5',\n 'you',\n 'тест',\n 'можно',\n 'курс',\n 'уверенный',\n 'интеграция',\n 'мир',\n 'различный',\n 'оптимизация',\n 'специалист',\n 'основа',\n 'полный',\n 'ci',\n 'по',\n 'это',\n 'postgresql',\n 'продуктовый',\n 'rest',\n 'внедрение',\n 'участвовать',\n 'сейчас',\n 'data',\n '%',\n 'чтобы',\n 'скидка',\n 'experience',\n 'помогать',\n 'компенсация',\n 'желание',\n 'our',\n 'направление',\n 'c',\n 'it',\n 'информационный',\n 'знать',\n 'срок',\n 'бонус',\n 'собственный',\n 'развиваться',\n 'ждать',\n 'javascript',\n 'is',\n 'удобный',\n 'проведение',\n 'зарплата',\n 'подход',\n 'запрос',\n 'важный',\n 'развивать',\n 'тестовый',\n 'официальный',\n 'помощь',\n 'первый',\n 'разный',\n 'jira',\n 'начало',\n 'связь',\n 'существовать',\n 'необходимый',\n 'формат',\n 'linux',\n 'москва',\n 'spring',\n 'комфортный',\n 'счет',\n 'место',\n 'построение',\n 'идея',\n 'поддерживать',\n 'программный',\n 'внешний',\n 'проводить',\n 'поиск',\n 'are',\n 'коллега',\n 'хотеть',\n 'программирование',\n 'php',\n 'белый',\n 'функциональный',\n 'системный',\n 'только',\n '8',\n 'обеспечение',\n 'партнер',\n 'м',\n 'город',\n 'android',\n 'cd',\n 'расти',\n 'владение',\n 'отличный',\n 's',\n 'сфера',\n 'уже',\n 'функционал',\n 'вопрос',\n 'подготовка',\n 'agile',\n 'самый',\n 'библиотека',\n 'цель',\n 'web',\n 'образование',\n 'месяц',\n 'стоматология',\n 'собеседование',\n 'сеть',\n 'css',\n 'as',\n 'work',\n 'методология',\n 'понимать',\n 'еще',\n 'высоконагруженный',\n 'интерфейс',\n 'ru',\n 'базовый',\n 'инфраструктура',\n 'профессионал',\n 'российский',\n 'net',\n 'интеграционный',\n 'пакет',\n 'организация',\n 'оплата',\n 'центр',\n 'большой',\n 'фреймворк',\n 'карьерный',\n 'вместе',\n 'решать',\n 'версия',\n 'далее',\n 'on',\n 'оплачивать',\n 'html',\n 'страна',\n 'b',\n 'development',\n 'оценка',\n 'несколько',\n 'услуга',\n 'вакансия',\n 'typescript',\n 'премия',\n 'code',\n 'финансовый',\n 'автоматизировать',\n 'полностью',\n 'технологический',\n 'сайт',\n 'структура',\n 'выбор',\n 'жизнь',\n 'отпуск',\n 'коммерческий',\n 'ожидать',\n 'backend',\n 'социальный',\n 'опытный',\n 'алгоритм',\n 'реализовать',\n 'число',\n 'kafka',\n 'поэтому',\n 'соответствие',\n 'бд',\n 'стать',\n 'проектный',\n 'core',\n 'где',\n 'страхование',\n 'product',\n 'быстро',\n 'трудоустройство',\n 'сам',\n 'практика',\n 'помочь',\n 'с',\n 'крутой',\n 'выполнение',\n 'компонент',\n 'являться',\n 'миллион',\n 'сбор',\n 'цифровой',\n 'проблема',\n 'безопасность',\n 'ios',\n 'сделать',\n 'kotlin',\n 'позиция',\n 'skills',\n 'банковский',\n 'преимущество',\n 'всегда',\n 'коллектив',\n 'задание',\n 'информация',\n 'ответственность',\n '10',\n 'спорт',\n 'модель',\n 'мониторинг',\n 'ооп',\n 'сильный',\n 'рамка',\n 'общий',\n 'активно',\n 'frontend',\n 'желательный',\n 'kubernetes',\n 'мероприятие',\n 'план',\n 'сопровождение',\n 'текущий',\n 'confluence',\n 'командный',\n 'применение',\n 'ui',\n 'любить',\n 'получить',\n 'бизнес-процесс',\n 'your',\n 'настройка',\n 'час',\n 'цикл',\n 'mysql',\n '100',\n 'уникальный',\n 'спортивный',\n '00',\n 'дружный',\n 'много',\n 'review',\n 'oracle',\n 'микросервисный',\n 'https',\n 'пользоваться',\n 'доступ',\n 'тренинг',\n 'an',\n 'конкурентный',\n 'will',\n 'входить',\n 'дизайн',\n 'раз',\n 'be',\n 'vue',\n 'redis',\n 'больничный',\n 'улучшение',\n 'com',\n 'ключевой',\n 'основной',\n 'оклад',\n 'нет',\n 'испытательный',\n 'бесплатный',\n '6',\n 'аналитический',\n 'принимать',\n 'паттерн',\n 'or',\n 'формирование',\n 'активный',\n 'менеджер',\n 'scrum',\n 'страховка',\n '@',\n 'планирование',\n 'ведение',\n 'обработка',\n 'наличие',\n 'gitlab',\n 'др',\n 'успешный',\n 'роль',\n 'амбициозный',\n 'согласование',\n 'group-ib',\n 'node',\n 'бюрократия',\n 'архитектурный',\n 'сетевой',\n 'дизайнер',\n 'тестировщик',\n 'пользовательский',\n 'senior',\n '7',\n 'that',\n 'техника',\n 'атмосфера',\n 'находиться',\n 'devops',\n '4',\n 'коммуникация',\n 'rabbitmq',\n 'протокол',\n 'включая',\n 'ms',\n 'общение',\n 'группа',\n 'очень',\n 'описание',\n 'working',\n 'удаленка',\n 'вид',\n 'позволять',\n 'qa',\n 'личный',\n 'игра',\n 'здоровье',\n 'льготный',\n 'модуль',\n 'доработка',\n 'постоянно',\n 'company',\n 'давать',\n 'google',\n '5/2',\n 'среда',\n 'профильный',\n 'достойный',\n 'быстрый',\n 'сертификация',\n 'оборудование',\n 'экосистема',\n 'постоянный',\n 'администрирование',\n 'разбираться',\n 'изменение',\n 'руководитель',\n 'медицинский',\n '000',\n 'этап',\n 'ведущий',\n 'микросервис',\n 'эксперт',\n 'developer',\n 'framework',\n 'неделя',\n 'регулярный',\n 'применять',\n 'middle',\n 'менее',\n 'отдел',\n 'интервью',\n 'предоставлять',\n 'доставка',\n 'количество',\n 'предложение',\n 'карта',\n 'отчет',\n 'занятие',\n 'business',\n 'п',\n '50',\n 'angular',\n 'жизненный',\n 'приглашать',\n 'knowledge',\n 'чем',\n 'повышение',\n 'точка',\n 'минута',\n 'товар',\n 'стабильный',\n 'инновационный',\n 'сервер',\n '11',\n 'фитнес',\n 'же',\n 'инженер',\n 'go',\n 'new',\n 'субд',\n 'практический',\n 'средство',\n 'анализировать',\n 'чтение',\n 'aws',\n 'возможный',\n 'верстка',\n 'jenkins',\n 'отдых',\n 'ребенок',\n 'нуль',\n 'онлайн',\n 'mongodb',\n 'have',\n 'устройство',\n 'software',\n 'by',\n '2-х',\n 'встреча',\n 'etc',\n 'доход',\n 'solid',\n 'экспертиза',\n 'продажа',\n 'релокация',\n 'фича',\n 'лидер',\n 'написать',\n 'тысяча',\n 'смочь',\n 'at',\n 'культура',\n 'взаимодействовать',\n 'swift',\n 'производительность',\n 'случай',\n 'http',\n 'обязательный',\n 'ожидание',\n 'design',\n 'сценарий',\n 'самостоятельно',\n 'отсутствие',\n 'качественный',\n 'молодой',\n 'стартап',\n 'вести',\n 'постановка',\n 'кредитование',\n 'реляционный',\n 'сторона',\n 'чужой',\n 'свободный',\n 'ошибка',\n 'отвечать',\n 'объем',\n 'дом',\n 'аналитика',\n 'главный',\n 'данный',\n 'разработать',\n 'планировать',\n 'внедрять',\n 'метро',\n 'два',\n 'проектировать',\n 'хорошо',\n 'cloud',\n 'посещение',\n 'ит',\n 'широкий',\n 'apache',\n 'электронный',\n 'гибридный',\n 'зона',\n 'аудитория',\n 'связать',\n 'распределить',\n 'english',\n 'общаться',\n 'обсуждаться',\n 'метрика',\n 'облачный',\n 'итог',\n 'размер',\n 'рождение',\n 'management',\n 'знакомство',\n 'стандарт',\n 'готовность',\n 'руководство',\n '#',\n 'момент',\n 'es',\n 'улучшать',\n 'клиентский',\n 'рад',\n 'project',\n 'дело',\n 'soap',\n 'crm',\n 'рефакторинг',\n '3-х',\n 'питание',\n 'открытый',\n 'деятельность',\n 'понятный',\n 'способность',\n 'принятие',\n 'кофе',\n 'автотест',\n 'проработка',\n 'обед',\n 'json',\n 'инструкция',\n 'инициатива',\n 'то',\n 'а',\n 'выбрать',\n '30',\n 'отчетность',\n 'например',\n 'хранилище',\n 'млн',\n 'небольшой',\n 'масштабный',\n 'предложить',\n 'видеть',\n 'требоваться',\n 'boot',\n 'приветствоваться',\n 'эксплуатация',\n 'учет',\n 'webpack',\n 'эффективный',\n 'шаблон',\n 'получать',\n 'уютный',\n 'обсуждать',\n 'redux',\n 'почта',\n 'реальный',\n 'windows',\n 'занятость',\n 'запуск',\n 'простой',\n 'ux',\n 'релиз',\n '20',\n 'unit',\n 'us',\n 'делиться',\n 'клиент-серверный',\n 'бы',\n 'учиться',\n 'bi',\n 'открыть',\n 'other',\n 'интерес',\n 'xml',\n 'зависимость',\n 'митап',\n 'performance',\n 'сотрудничество',\n 'находить',\n 'режим',\n 'влиять',\n 'индивидуальный',\n 'полис',\n 'составление',\n 'дефект',\n 'ценить',\n 'строить',\n 'подразделение',\n 'обеспечивать',\n 'what',\n 'организовать',\n 'доступность',\n 'поставить',\n 'сша',\n 'ценность',\n 'it-компания',\n 'эффективность',\n 'оптимизировать',\n 'компетенция',\n 'прохождение',\n 'выполнять',\n 'распределенный',\n 'портал',\n 'сборка',\n 'sdk',\n 'минимум',\n 'глубокий',\n 'следующий',\n 'security',\n 'laravel',\n 'elasticsearch',\n 'стратегия',\n 'смежный',\n 'сертификат',\n 'тз',\n 'очередь',\n 'веб-приложение',\n 'digital',\n 'изучение',\n 'years',\n 'передовой',\n 'хранение',\n 'актуальный',\n 'игровой',\n 'х',\n 'создать',\n 'сбербанк',\n 'магазин',\n 'support',\n 'событие',\n 'тестировать',\n 'lead',\n 'ручной',\n 'проверка',\n 'митапа',\n 'technical',\n 'привет',\n 'операционный',\n 'функция',\n 'метод',\n 'nosql',\n 'резюме',\n 'документ',\n 'потребность',\n 'особенность',\n 'стоимость',\n 'mobile',\n 'просто',\n 'санкт-петербург',\n 'больше',\n 'clickhouse',\n 'огромный',\n 'нагрузка',\n 'спринт',\n 'функциональность',\n 'обслуживание',\n 'выявление',\n 'защита',\n 'github',\n 'requirements',\n 'd',\n 'десяток',\n 'пример',\n 'три',\n 'services',\n 'годовой',\n 'architecture',\n 'отношение',\n 'должный',\n 'необходимость',\n 'прозрачный',\n 'веб',\n 'даже',\n 'выше',\n 'найти',\n 'подходить',\n 'здоровый',\n 'реализовывать',\n 'обсудить',\n 'соблюдение',\n 'обмен',\n 'hr',\n 'промышленный',\n 'world',\n 'выплата',\n 'фрукт',\n 'лицо',\n 'многий',\n 'about',\n 'когда',\n 'расход',\n 'управлять',\n 'вариант',\n 'настольный',\n 'django',\n 'европа',\n 'all',\n 'территория',\n 'сбер',\n '&',\n 'выбирать',\n 'серверный',\n 'передача',\n 'активность',\n 'join',\n 'собирать',\n 'обучать',\n 'популярный',\n '9',\n 'mvc',\n 'доступный',\n 'нагрузочный',\n 'manager',\n 'московский',\n 'инцидент',\n 'член',\n 'best',\n 'интернет',\n 'looking',\n 'индивидуально',\n 'квалификация',\n 'рекомендация',\n 'testing',\n 'машинный',\n 'understanding',\n 'оценивать',\n 'sap',\n 'teams',\n 'мировой',\n 'заказ',\n 'г',\n 'бэкенд',\n 'кухня',\n 'отклик',\n 'ресурс',\n 'фронтенд',\n 'самостоятельный',\n 'k',\n 'office',\n 'ссылка',\n 'брать',\n 'бонусым',\n 'успешно',\n 'представление',\n 'гипотеза',\n 'мощный',\n 'тест-кейс',\n 'professional',\n 'перспектива',\n 'figma',\n 'значимый',\n 'рассматривать',\n 'golang',\n 'рекламный',\n 'образовательный',\n 'документирование',\n 'покупка',\n 'внимание',\n 'совместно',\n 'переезд',\n 'свобода',\n 'обладать',\n 'расширение',\n 'источник',\n 'server',\n 'сложность',\n 'подбор',\n 'intermediate',\n 'бизнес-требование',\n 'состояние',\n 'исследование',\n 'письмо',\n 'maven',\n 'зависеть',\n 'спецификация',\n 'tools',\n 'openshift',\n 'штат',\n 'достижение',\n 'отрасль',\n 'исправление',\n 'канал',\n 'состоять',\n 'способный',\n 'предоставление',\n 'читать',\n '12',\n 'средний',\n 'strong',\n 'скрипт',\n 'projects',\n 'архитектор',\n 'native',\n 'solutions',\n 'ansible',\n 'ревить',\n 'communication',\n 'зарубежный',\n 'построить',\n 'разнообразный',\n 'сообщение',\n 'школа',\n 'чистый',\n 'присоединиться',\n 'участник',\n 'обсуждение',\n 'обратный',\n 'сотня',\n 'front-end',\n 'расширить',\n 'класс',\n 'engineer',\n 'from',\n 'сторонний',\n 'устранение',\n 'деталь',\n 'письменный',\n 'путь',\n 'обязательно',\n 'выступать',\n 'принять',\n 'offer',\n 'пожелание',\n 'автоматический',\n 'open',\n 'зрение',\n 'частичный',\n 'программист',\n 'зал',\n 'загрузка',\n 'финтех',\n 'building',\n 'прочий',\n 'желательно',\n 'скорость',\n 'предприятие',\n 'etl',\n 'материальный',\n 'талантливый',\n 'good',\n 'can',\n 'platform',\n 'совместный',\n 'symfony',\n 'начинать',\n 'многое',\n 'mvvm',\n 'множество',\n 'selenium',\n 'контент',\n 'клуб',\n 'grafana',\n 'именно',\n 'ос',\n 'products',\n 'their',\n 'развлекательный',\n 'telegram',\n 'классный',\n 'единый',\n 'федеральный',\n 'департамент',\n 'комплексный',\n 'включать',\n 'mvp',\n 'единомышленник',\n 'площадка',\n 'бренд',\n 'владеть',\n 'technologies',\n 'time',\n 'чай',\n 'новгород',\n 'nginx',\n 'карьера',\n 'забота',\n 'яндекс',\n 'learning',\n 'футбол',\n 'ml',\n 'graphql',\n 'литература',\n 'грамотный',\n 'схема',\n 'yii',\n 'монитор',\n ...]"
     },
     "execution_count": 42,
     "metadata": {},
     "output_type": "execute_result"
    }
   ],
   "source": [
    "import heapq\n",
    "mostFreqDict = heapq.nlargest(int(len(freqDict)-len(freqDict)*0.3), freqDict, key=freqDict.get)\n",
    "mostFreqDict"
   ],
   "metadata": {
    "collapsed": false,
    "pycharm": {
     "name": "#%%\n"
    }
   }
  },
  {
   "cell_type": "code",
   "execution_count": 10,
   "outputs": [
    {
     "data": {
      "text/plain": "117578"
     },
     "execution_count": 10,
     "metadata": {},
     "output_type": "execute_result"
    }
   ],
   "source": [
    "len(freqDict)"
   ],
   "metadata": {
    "collapsed": false,
    "pycharm": {
     "name": "#%%\n"
    }
   }
  },
  {
   "cell_type": "code",
   "execution_count": 11,
   "outputs": [
    {
     "ename": "NameError",
     "evalue": "name 'mostFreqDict' is not defined",
     "output_type": "error",
     "traceback": [
      "\u001B[1;31m---------------------------------------------------------------------------\u001B[0m",
      "\u001B[1;31mNameError\u001B[0m                                 Traceback (most recent call last)",
      "\u001B[1;32m<ipython-input-11-c9c209786d3f>\u001B[0m in \u001B[0;36m<module>\u001B[1;34m\u001B[0m\n\u001B[1;32m----> 1\u001B[1;33m \u001B[0mlen\u001B[0m\u001B[1;33m(\u001B[0m\u001B[0mmostFreqDict\u001B[0m\u001B[1;33m)\u001B[0m\u001B[1;33m\u001B[0m\u001B[1;33m\u001B[0m\u001B[0m\n\u001B[0m",
      "\u001B[1;31mNameError\u001B[0m: name 'mostFreqDict' is not defined"
     ]
    }
   ],
   "source": [
    "len(mostFreqDict)"
   ],
   "metadata": {
    "collapsed": false,
    "pycharm": {
     "name": "#%%\n"
    }
   }
  },
  {
   "cell_type": "code",
   "execution_count": 46,
   "outputs": [],
   "source": [
    "wordDict = pandas.DataFrame(data=mostFreqDict)\n",
    "wordDict.to_pickle('wordDict')"
   ],
   "metadata": {
    "collapsed": false,
    "pycharm": {
     "name": "#%%\n"
    }
   }
  },
  {
   "cell_type": "code",
   "execution_count": 11,
   "outputs": [],
   "source": [
    "import pandas as pd\n",
    "data = pd.read_pickle('namesDict')\n",
    "listtt = data[0].to_list()\n",
    "listtt\n",
    "jobDescription = pd.read_pickle('jobDescription')"
   ],
   "metadata": {
    "collapsed": false,
    "pycharm": {
     "name": "#%%\n"
    }
   }
  },
  {
   "cell_type": "code",
   "execution_count": 13,
   "outputs": [],
   "source": [
    "import tqdm"
   ],
   "metadata": {
    "collapsed": false,
    "pycharm": {
     "name": "#%%\n"
    }
   }
  },
  {
   "cell_type": "markdown",
   "source": [],
   "metadata": {
    "collapsed": false
   }
  },
  {
   "cell_type": "code",
   "execution_count": 17,
   "outputs": [
    {
     "ename": "TypeError",
     "evalue": "'module' object is not callable",
     "output_type": "error",
     "traceback": [
      "\u001B[1;31m---------------------------------------------------------------------------\u001B[0m",
      "\u001B[1;31mTypeError\u001B[0m                                 Traceback (most recent call last)",
      "\u001B[1;32m<ipython-input-17-911af602589b>\u001B[0m in \u001B[0;36m<module>\u001B[1;34m\u001B[0m\n\u001B[0;32m      1\u001B[0m \u001B[0mvecrotizedCorpus\u001B[0m \u001B[1;33m=\u001B[0m \u001B[1;33m{\u001B[0m\u001B[1;33m}\u001B[0m\u001B[1;33m\u001B[0m\u001B[1;33m\u001B[0m\u001B[0m\n\u001B[1;32m----> 2\u001B[1;33m \u001B[1;32mfor\u001B[0m \u001B[0mdiv\u001B[0m \u001B[1;32min\u001B[0m \u001B[0mtqdm\u001B[0m\u001B[1;33m(\u001B[0m\u001B[0mdivisions\u001B[0m\u001B[1;33m,\u001B[0m \u001B[1;34m'vectorizing'\u001B[0m\u001B[1;33m)\u001B[0m\u001B[1;33m:\u001B[0m\u001B[1;33m\u001B[0m\u001B[1;33m\u001B[0m\u001B[0m\n\u001B[0m\u001B[0;32m      3\u001B[0m     \u001B[0mvecrotizedCorpus\u001B[0m\u001B[1;33m[\u001B[0m\u001B[0mdiv\u001B[0m\u001B[1;33m]\u001B[0m \u001B[1;33m=\u001B[0m \u001B[1;33m[\u001B[0m\u001B[1;33m]\u001B[0m\u001B[1;33m\u001B[0m\u001B[1;33m\u001B[0m\u001B[0m\n\u001B[0;32m      4\u001B[0m     \u001B[1;32mfor\u001B[0m \u001B[0mdescription\u001B[0m \u001B[1;32min\u001B[0m \u001B[0mjobDescription\u001B[0m\u001B[1;33m[\u001B[0m\u001B[0mdiv\u001B[0m\u001B[1;33m]\u001B[0m\u001B[1;33m:\u001B[0m\u001B[1;33m\u001B[0m\u001B[1;33m\u001B[0m\u001B[0m\n\u001B[0;32m      5\u001B[0m         \u001B[0mtmpVector\u001B[0m \u001B[1;33m=\u001B[0m \u001B[1;33m[\u001B[0m\u001B[1;33m]\u001B[0m\u001B[1;33m\u001B[0m\u001B[1;33m\u001B[0m\u001B[0m\n",
      "\u001B[1;31mTypeError\u001B[0m: 'module' object is not callable"
     ]
    }
   ],
   "source": [
    "vecrotizedCorpus = {}\n",
    "for div in tqdm(divisions, 'vectorizing'):\n",
    "    vecrotizedCorpus[div] = []\n",
    "    for description in jobDescription[div]:\n",
    "        tmpVector = []\n",
    "        for token in listtt:\n",
    "            if token in description:\n",
    "                tmpVector.append(1)\n",
    "            else:\n",
    "                tmpVector.append(0)\n",
    "        vecrotizedCorpus[div].append(tmpVector)"
   ],
   "metadata": {
    "collapsed": false,
    "pycharm": {
     "name": "#%%\n"
    }
   }
  },
  {
   "cell_type": "code",
   "execution_count": 49,
   "outputs": [
    {
     "data": {
      "text/plain": "111"
     },
     "execution_count": 49,
     "metadata": {},
     "output_type": "execute_result"
    }
   ],
   "source": [
    "vecrotizedCorpus['backend'][0].count(1)"
   ],
   "metadata": {
    "collapsed": false,
    "pycharm": {
     "name": "#%%\n"
    }
   }
  },
  {
   "cell_type": "code",
   "execution_count": 5,
   "outputs": [
    {
     "ename": "NameError",
     "evalue": "name 'pandas' is not defined",
     "output_type": "error",
     "traceback": [
      "\u001B[1;31m---------------------------------------------------------------------------\u001B[0m",
      "\u001B[1;31mNameError\u001B[0m                                 Traceback (most recent call last)",
      "\u001B[1;32m<ipython-input-5-cdbaf2bfd7bb>\u001B[0m in \u001B[0;36m<module>\u001B[1;34m\u001B[0m\n\u001B[1;32m----> 1\u001B[1;33m \u001B[0mdataVectorized\u001B[0m \u001B[1;33m=\u001B[0m \u001B[0mpandas\u001B[0m\u001B[1;33m.\u001B[0m\u001B[0mDataFrame\u001B[0m\u001B[1;33m(\u001B[0m\u001B[0mdata\u001B[0m\u001B[1;33m=\u001B[0m\u001B[0mvecrotizedCorpus\u001B[0m\u001B[1;33m)\u001B[0m\u001B[1;33m\u001B[0m\u001B[1;33m\u001B[0m\u001B[0m\n\u001B[0m\u001B[0;32m      2\u001B[0m \u001B[0mdataVectorized\u001B[0m\u001B[1;33m.\u001B[0m\u001B[0mto_pickle\u001B[0m\u001B[1;33m(\u001B[0m\u001B[1;34m'vectorizedSet'\u001B[0m\u001B[1;33m)\u001B[0m\u001B[1;33m\u001B[0m\u001B[1;33m\u001B[0m\u001B[0m\n",
      "\u001B[1;31mNameError\u001B[0m: name 'pandas' is not defined"
     ]
    }
   ],
   "source": [
    "dataVectorized = pandas.DataFrame(data=vecrotizedCorpus)\n",
    "dataVectorized.to_pickle('vectorizedSet')"
   ],
   "metadata": {
    "collapsed": false,
    "pycharm": {
     "name": "#%%\n"
    }
   }
  },
  {
   "cell_type": "code",
   "execution_count": null,
   "outputs": [],
   "source": [
    "# vectorizedSet - for comparing vector\n",
    "# wordDict - for creating vectors from inputLink\n",
    "# linksDict - for giving out link on vacancy\n",
    "# JobDescription - for giving description if there is no Link due to \"link expired\"\n",
    "# all data is from 29.10.2021 16:26 from https://www.career.habr.ru"
   ],
   "metadata": {
    "collapsed": false,
    "pycharm": {
     "name": "#%%\n"
    }
   }
  },
  {
   "cell_type": "code",
   "execution_count": 51,
   "outputs": [],
   "source": [
    "# This ipython notebook was used only to gain all data needed for implementing task 2 as a script"
   ],
   "metadata": {
    "collapsed": false,
    "pycharm": {
     "name": "#%%\n"
    }
   }
  },
  {
   "cell_type": "code",
   "execution_count": 55,
   "outputs": [],
   "source": [
    "listOfWords = wordDict[0].to_list()"
   ],
   "metadata": {
    "collapsed": false,
    "pycharm": {
     "name": "#%%\n"
    }
   }
  },
  {
   "cell_type": "code",
   "execution_count": 56,
   "outputs": [
    {
     "data": {
      "text/plain": "['',\n 'работа',\n 'опыт',\n 'разработка',\n 'команда',\n 'знание',\n 'быть',\n 'проект',\n 'компания',\n 'система',\n 'задача',\n 'работать',\n 'and',\n 'продукт',\n 'возможность',\n 'офис',\n 'новый',\n 'год',\n 'решение',\n '+',\n 'не',\n 'данные',\n 'приложение',\n 'тестирование',\n 'развитие',\n 'требование',\n 'понимание',\n 'the',\n 'сервис',\n 'технический',\n 'процесс',\n 'to',\n 'умение',\n 'of',\n 'разработчик',\n 'уровень',\n 'технология',\n 'как',\n 'корпоративный',\n 'участие',\n 'обучение',\n 'сотрудник',\n '2',\n 'код',\n 'язык',\n 'профессиональный',\n 'день',\n 'рабочий',\n 'in',\n 'другой',\n 'принцип',\n 'a',\n 'искать',\n 'график',\n 'предлагать',\n 'хороший',\n 'навык',\n 'архитектура',\n 'если',\n 'поддержка',\n 'клиент',\n 'плюс',\n 'так',\n 'условие',\n 'платформа',\n 'английский',\n 'что',\n 'проектирование',\n 'sql',\n 'гибкий',\n 'заниматься',\n 'дмс',\n 'человек',\n 'разрабатывать',\n 'with',\n 'современный',\n 'управление',\n 'мобильный',\n 'пользователь',\n 'java',\n 'анализ',\n 'заработный',\n '1',\n 'использование',\n 'интересный',\n 'результат',\n 'api',\n '3',\n 'делать',\n 'написание',\n 'удаленный',\n 'git',\n 'крупный',\n 'бизнес',\n 'плата',\n 'также',\n 'база',\n 'рост',\n 'использовать',\n 'взаимодействие',\n 'внутренний',\n 'сложный',\n 'и',\n 'качество',\n 'инструмент',\n 'нужный',\n 'создание',\n 'документация',\n 'python',\n 'js',\n 'более',\n 'тк',\n 'один',\n 'готовый',\n 'программа',\n 'рынок',\n 'время',\n 'предстоять',\n 'писать',\n 'we',\n 'рф',\n 'for',\n 'область',\n 'создавать',\n 'кандидат',\n 'высокий',\n 'дополнительный',\n 'иметь',\n 'банк',\n 'оформление',\n 'стек',\n 'конференция',\n 'мочь',\n 'docker',\n 'россия',\n 'react',\n 'аналитик',\n 'часть',\n 'заказчик',\n 'реализация',\n 'международный',\n 'обязанность',\n 'контроль',\n 'автоматизация',\n 'удаленно',\n 'team',\n 'основный',\n 'уметь',\n 'больший',\n '5',\n 'you',\n 'тест',\n 'можно',\n 'курс',\n 'уверенный',\n 'интеграция',\n 'мир',\n 'различный',\n 'оптимизация',\n 'специалист',\n 'основа',\n 'полный',\n 'ci',\n 'по',\n 'это',\n 'postgresql',\n 'продуктовый',\n 'rest',\n 'внедрение',\n 'участвовать',\n 'сейчас',\n 'data',\n '%',\n 'чтобы',\n 'скидка',\n 'experience',\n 'помогать',\n 'компенсация',\n 'желание',\n 'our',\n 'направление',\n 'c',\n 'it',\n 'информационный',\n 'знать',\n 'срок',\n 'бонус',\n 'собственный',\n 'развиваться',\n 'ждать',\n 'javascript',\n 'is',\n 'удобный',\n 'проведение',\n 'зарплата',\n 'подход',\n 'запрос',\n 'важный',\n 'развивать',\n 'тестовый',\n 'официальный',\n 'помощь',\n 'первый',\n 'разный',\n 'jira',\n 'начало',\n 'связь',\n 'существовать',\n 'необходимый',\n 'формат',\n 'linux',\n 'москва',\n 'spring',\n 'комфортный',\n 'счет',\n 'место',\n 'построение',\n 'идея',\n 'поддерживать',\n 'программный',\n 'внешний',\n 'проводить',\n 'поиск',\n 'are',\n 'коллега',\n 'хотеть',\n 'программирование',\n 'php',\n 'белый',\n 'функциональный',\n 'системный',\n 'только',\n '8',\n 'обеспечение',\n 'партнер',\n 'м',\n 'город',\n 'android',\n 'cd',\n 'расти',\n 'владение',\n 'отличный',\n 's',\n 'сфера',\n 'уже',\n 'функционал',\n 'вопрос',\n 'подготовка',\n 'agile',\n 'самый',\n 'библиотека',\n 'цель',\n 'web',\n 'образование',\n 'месяц',\n 'стоматология',\n 'собеседование',\n 'сеть',\n 'css',\n 'as',\n 'work',\n 'методология',\n 'понимать',\n 'еще',\n 'высоконагруженный',\n 'интерфейс',\n 'ru',\n 'базовый',\n 'инфраструктура',\n 'профессионал',\n 'российский',\n 'net',\n 'интеграционный',\n 'пакет',\n 'организация',\n 'оплата',\n 'центр',\n 'большой',\n 'фреймворк',\n 'карьерный',\n 'вместе',\n 'решать',\n 'версия',\n 'далее',\n 'on',\n 'оплачивать',\n 'html',\n 'страна',\n 'b',\n 'development',\n 'оценка',\n 'несколько',\n 'услуга',\n 'вакансия',\n 'typescript',\n 'премия',\n 'code',\n 'финансовый',\n 'автоматизировать',\n 'полностью',\n 'технологический',\n 'сайт',\n 'структура',\n 'выбор',\n 'жизнь',\n 'отпуск',\n 'коммерческий',\n 'ожидать',\n 'backend',\n 'социальный',\n 'опытный',\n 'алгоритм',\n 'реализовать',\n 'число',\n 'kafka',\n 'поэтому',\n 'соответствие',\n 'бд',\n 'стать',\n 'проектный',\n 'core',\n 'где',\n 'страхование',\n 'product',\n 'быстро',\n 'трудоустройство',\n 'сам',\n 'практика',\n 'помочь',\n 'с',\n 'крутой',\n 'выполнение',\n 'компонент',\n 'являться',\n 'миллион',\n 'сбор',\n 'цифровой',\n 'проблема',\n 'безопасность',\n 'ios',\n 'сделать',\n 'kotlin',\n 'позиция',\n 'skills',\n 'банковский',\n 'преимущество',\n 'всегда',\n 'коллектив',\n 'задание',\n 'информация',\n 'ответственность',\n '10',\n 'спорт',\n 'модель',\n 'мониторинг',\n 'ооп',\n 'сильный',\n 'рамка',\n 'общий',\n 'активно',\n 'frontend',\n 'желательный',\n 'kubernetes',\n 'мероприятие',\n 'план',\n 'сопровождение',\n 'текущий',\n 'confluence',\n 'командный',\n 'применение',\n 'ui',\n 'любить',\n 'получить',\n 'бизнес-процесс',\n 'your',\n 'настройка',\n 'час',\n 'цикл',\n 'mysql',\n '100',\n 'уникальный',\n 'спортивный',\n '00',\n 'дружный',\n 'много',\n 'review',\n 'oracle',\n 'микросервисный',\n 'https',\n 'пользоваться',\n 'доступ',\n 'тренинг',\n 'an',\n 'конкурентный',\n 'will',\n 'входить',\n 'дизайн',\n 'раз',\n 'be',\n 'vue',\n 'redis',\n 'больничный',\n 'улучшение',\n 'com',\n 'ключевой',\n 'основной',\n 'оклад',\n 'нет',\n 'испытательный',\n 'бесплатный',\n '6',\n 'аналитический',\n 'принимать',\n 'паттерн',\n 'or',\n 'формирование',\n 'активный',\n 'менеджер',\n 'scrum',\n 'страховка',\n '@',\n 'планирование',\n 'ведение',\n 'обработка',\n 'наличие',\n 'gitlab',\n 'др',\n 'успешный',\n 'роль',\n 'амбициозный',\n 'согласование',\n 'group-ib',\n 'node',\n 'бюрократия',\n 'архитектурный',\n 'сетевой',\n 'дизайнер',\n 'тестировщик',\n 'пользовательский',\n 'senior',\n '7',\n 'that',\n 'техника',\n 'атмосфера',\n 'находиться',\n 'devops',\n '4',\n 'коммуникация',\n 'rabbitmq',\n 'протокол',\n 'включая',\n 'ms',\n 'общение',\n 'группа',\n 'очень',\n 'описание',\n 'working',\n 'удаленка',\n 'вид',\n 'позволять',\n 'qa',\n 'личный',\n 'игра',\n 'здоровье',\n 'льготный',\n 'модуль',\n 'доработка',\n 'постоянно',\n 'company',\n 'давать',\n 'google',\n '5/2',\n 'среда',\n 'профильный',\n 'достойный',\n 'быстрый',\n 'сертификация',\n 'оборудование',\n 'экосистема',\n 'постоянный',\n 'администрирование',\n 'разбираться',\n 'изменение',\n 'руководитель',\n 'медицинский',\n '000',\n 'этап',\n 'ведущий',\n 'микросервис',\n 'эксперт',\n 'developer',\n 'framework',\n 'неделя',\n 'регулярный',\n 'применять',\n 'middle',\n 'менее',\n 'отдел',\n 'интервью',\n 'предоставлять',\n 'доставка',\n 'количество',\n 'предложение',\n 'карта',\n 'отчет',\n 'занятие',\n 'business',\n 'п',\n '50',\n 'angular',\n 'жизненный',\n 'приглашать',\n 'knowledge',\n 'чем',\n 'повышение',\n 'точка',\n 'минута',\n 'товар',\n 'стабильный',\n 'инновационный',\n 'сервер',\n '11',\n 'фитнес',\n 'же',\n 'инженер',\n 'go',\n 'new',\n 'субд',\n 'практический',\n 'средство',\n 'анализировать',\n 'чтение',\n 'aws',\n 'возможный',\n 'верстка',\n 'jenkins',\n 'отдых',\n 'ребенок',\n 'нуль',\n 'онлайн',\n 'mongodb',\n 'have',\n 'устройство',\n 'software',\n 'by',\n '2-х',\n 'встреча',\n 'etc',\n 'доход',\n 'solid',\n 'экспертиза',\n 'продажа',\n 'релокация',\n 'фича',\n 'лидер',\n 'написать',\n 'тысяча',\n 'смочь',\n 'at',\n 'культура',\n 'взаимодействовать',\n 'swift',\n 'производительность',\n 'случай',\n 'http',\n 'обязательный',\n 'ожидание',\n 'design',\n 'сценарий',\n 'самостоятельно',\n 'отсутствие',\n 'качественный',\n 'молодой',\n 'стартап',\n 'вести',\n 'постановка',\n 'кредитование',\n 'реляционный',\n 'сторона',\n 'чужой',\n 'свободный',\n 'ошибка',\n 'отвечать',\n 'объем',\n 'дом',\n 'аналитика',\n 'главный',\n 'данный',\n 'разработать',\n 'планировать',\n 'внедрять',\n 'метро',\n 'два',\n 'проектировать',\n 'хорошо',\n 'cloud',\n 'посещение',\n 'ит',\n 'широкий',\n 'apache',\n 'электронный',\n 'гибридный',\n 'зона',\n 'аудитория',\n 'связать',\n 'распределить',\n 'english',\n 'общаться',\n 'обсуждаться',\n 'метрика',\n 'облачный',\n 'итог',\n 'размер',\n 'рождение',\n 'management',\n 'знакомство',\n 'стандарт',\n 'готовность',\n 'руководство',\n '#',\n 'момент',\n 'es',\n 'улучшать',\n 'клиентский',\n 'рад',\n 'project',\n 'дело',\n 'soap',\n 'crm',\n 'рефакторинг',\n '3-х',\n 'питание',\n 'открытый',\n 'деятельность',\n 'понятный',\n 'способность',\n 'принятие',\n 'кофе',\n 'автотест',\n 'проработка',\n 'обед',\n 'json',\n 'инструкция',\n 'инициатива',\n 'то',\n 'а',\n 'выбрать',\n '30',\n 'отчетность',\n 'например',\n 'хранилище',\n 'млн',\n 'небольшой',\n 'масштабный',\n 'предложить',\n 'видеть',\n 'требоваться',\n 'boot',\n 'приветствоваться',\n 'эксплуатация',\n 'учет',\n 'webpack',\n 'эффективный',\n 'шаблон',\n 'получать',\n 'уютный',\n 'обсуждать',\n 'redux',\n 'почта',\n 'реальный',\n 'windows',\n 'занятость',\n 'запуск',\n 'простой',\n 'ux',\n 'релиз',\n '20',\n 'unit',\n 'us',\n 'делиться',\n 'клиент-серверный',\n 'бы',\n 'учиться',\n 'bi',\n 'открыть',\n 'other',\n 'интерес',\n 'xml',\n 'зависимость',\n 'митап',\n 'performance',\n 'сотрудничество',\n 'находить',\n 'режим',\n 'влиять',\n 'индивидуальный',\n 'полис',\n 'составление',\n 'дефект',\n 'ценить',\n 'строить',\n 'подразделение',\n 'обеспечивать',\n 'what',\n 'организовать',\n 'доступность',\n 'поставить',\n 'сша',\n 'ценность',\n 'it-компания',\n 'эффективность',\n 'оптимизировать',\n 'компетенция',\n 'прохождение',\n 'выполнять',\n 'распределенный',\n 'портал',\n 'сборка',\n 'sdk',\n 'минимум',\n 'глубокий',\n 'следующий',\n 'security',\n 'laravel',\n 'elasticsearch',\n 'стратегия',\n 'смежный',\n 'сертификат',\n 'тз',\n 'очередь',\n 'веб-приложение',\n 'digital',\n 'изучение',\n 'years',\n 'передовой',\n 'хранение',\n 'актуальный',\n 'игровой',\n 'х',\n 'создать',\n 'сбербанк',\n 'магазин',\n 'support',\n 'событие',\n 'тестировать',\n 'lead',\n 'ручной',\n 'проверка',\n 'митапа',\n 'technical',\n 'привет',\n 'операционный',\n 'функция',\n 'метод',\n 'nosql',\n 'резюме',\n 'документ',\n 'потребность',\n 'особенность',\n 'стоимость',\n 'mobile',\n 'просто',\n 'санкт-петербург',\n 'больше',\n 'clickhouse',\n 'огромный',\n 'нагрузка',\n 'спринт',\n 'функциональность',\n 'обслуживание',\n 'выявление',\n 'защита',\n 'github',\n 'requirements',\n 'd',\n 'десяток',\n 'пример',\n 'три',\n 'services',\n 'годовой',\n 'architecture',\n 'отношение',\n 'должный',\n 'необходимость',\n 'прозрачный',\n 'веб',\n 'даже',\n 'выше',\n 'найти',\n 'подходить',\n 'здоровый',\n 'реализовывать',\n 'обсудить',\n 'соблюдение',\n 'обмен',\n 'hr',\n 'промышленный',\n 'world',\n 'выплата',\n 'фрукт',\n 'лицо',\n 'многий',\n 'about',\n 'когда',\n 'расход',\n 'управлять',\n 'вариант',\n 'настольный',\n 'django',\n 'европа',\n 'all',\n 'территория',\n 'сбер',\n '&',\n 'выбирать',\n 'серверный',\n 'передача',\n 'активность',\n 'join',\n 'собирать',\n 'обучать',\n 'популярный',\n '9',\n 'mvc',\n 'доступный',\n 'нагрузочный',\n 'manager',\n 'московский',\n 'инцидент',\n 'член',\n 'best',\n 'интернет',\n 'looking',\n 'индивидуально',\n 'квалификация',\n 'рекомендация',\n 'testing',\n 'машинный',\n 'understanding',\n 'оценивать',\n 'sap',\n 'teams',\n 'мировой',\n 'заказ',\n 'г',\n 'бэкенд',\n 'кухня',\n 'отклик',\n 'ресурс',\n 'фронтенд',\n 'самостоятельный',\n 'k',\n 'office',\n 'ссылка',\n 'брать',\n 'бонусым',\n 'успешно',\n 'представление',\n 'гипотеза',\n 'мощный',\n 'тест-кейс',\n 'professional',\n 'перспектива',\n 'figma',\n 'значимый',\n 'рассматривать',\n 'golang',\n 'рекламный',\n 'образовательный',\n 'документирование',\n 'покупка',\n 'внимание',\n 'совместно',\n 'переезд',\n 'свобода',\n 'обладать',\n 'расширение',\n 'источник',\n 'server',\n 'сложность',\n 'подбор',\n 'intermediate',\n 'бизнес-требование',\n 'состояние',\n 'исследование',\n 'письмо',\n 'maven',\n 'зависеть',\n 'спецификация',\n 'tools',\n 'openshift',\n 'штат',\n 'достижение',\n 'отрасль',\n 'исправление',\n 'канал',\n 'состоять',\n 'способный',\n 'предоставление',\n 'читать',\n '12',\n 'средний',\n 'strong',\n 'скрипт',\n 'projects',\n 'архитектор',\n 'native',\n 'solutions',\n 'ansible',\n 'ревить',\n 'communication',\n 'зарубежный',\n 'построить',\n 'разнообразный',\n 'сообщение',\n 'школа',\n 'чистый',\n 'присоединиться',\n 'участник',\n 'обсуждение',\n 'обратный',\n 'сотня',\n 'front-end',\n 'расширить',\n 'класс',\n 'engineer',\n 'from',\n 'сторонний',\n 'устранение',\n 'деталь',\n 'письменный',\n 'путь',\n 'обязательно',\n 'выступать',\n 'принять',\n 'offer',\n 'пожелание',\n 'автоматический',\n 'open',\n 'зрение',\n 'частичный',\n 'программист',\n 'зал',\n 'загрузка',\n 'финтех',\n 'building',\n 'прочий',\n 'желательно',\n 'скорость',\n 'предприятие',\n 'etl',\n 'материальный',\n 'талантливый',\n 'good',\n 'can',\n 'platform',\n 'совместный',\n 'symfony',\n 'начинать',\n 'многое',\n 'mvvm',\n 'множество',\n 'selenium',\n 'контент',\n 'клуб',\n 'grafana',\n 'именно',\n 'ос',\n 'products',\n 'their',\n 'развлекательный',\n 'telegram',\n 'классный',\n 'единый',\n 'федеральный',\n 'департамент',\n 'комплексный',\n 'включать',\n 'mvp',\n 'единомышленник',\n 'площадка',\n 'бренд',\n 'владеть',\n 'technologies',\n 'time',\n 'чай',\n 'новгород',\n 'nginx',\n 'карьера',\n 'забота',\n 'яндекс',\n 'learning',\n 'футбол',\n 'ml',\n 'graphql',\n 'литература',\n 'грамотный',\n 'схема',\n 'yii',\n 'монитор',\n ...]"
     },
     "execution_count": 56,
     "metadata": {},
     "output_type": "execute_result"
    }
   ],
   "source": [
    "listOfWords"
   ],
   "metadata": {
    "collapsed": false,
    "pycharm": {
     "name": "#%%\n"
    }
   }
  },
  {
   "cell_type": "code",
   "execution_count": 12,
   "outputs": [],
   "source": [
    "import io\n",
    "import re\n",
    "import string\n",
    "import tqdm\n",
    "\n",
    "import numpy as np\n",
    "\n",
    "import tensorflow as tf\n",
    "from tensorflow.keras import layers"
   ],
   "metadata": {
    "collapsed": false,
    "pycharm": {
     "name": "#%%\n"
    }
   }
  },
  {
   "cell_type": "code",
   "execution_count": 13,
   "outputs": [],
   "source": [
    "# Load the TensorBoard notebook extension\n",
    "%load_ext tensorboard"
   ],
   "metadata": {
    "collapsed": false,
    "pycharm": {
     "name": "#%%\n"
    }
   }
  },
  {
   "cell_type": "code",
   "execution_count": 14,
   "outputs": [],
   "source": [
    "SEED = 42\n",
    "AUTOTUNE = tf.data.AUTOTUNE\n",
    "vocab = freqDict"
   ],
   "metadata": {
    "collapsed": false,
    "pycharm": {
     "name": "#%%\n"
    }
   }
  },
  {
   "cell_type": "code",
   "execution_count": 15,
   "outputs": [
    {
     "name": "stdout",
     "output_type": "stream",
     "text": [
      "{265: 'сложные', 4: 'Authorizations', 61: 'интеграционного', 274: 'занимается', 351: 'разработкой', 140: 'Our', 406: 'мобильных', 127: 'модели', 57: 'marketing', 74: 'SDK', 40457: 'и', 275: 'владение', 72: 'расширяем', 3: 'GRC,', 3760: 'Мы', 448: 'работаем', 24506: 'в', 5: 'осведомленности', 7483: 'для', 273: 'современных', 349: 'используем', 2: 'programs,', 725: 'наших', 1807: 'нас', 943: 'есть', 46: 'контента', 179: 'больше', 15: 'Заказчиком', 215: '&', 1: 'granted', 365: 'Python', 312: 'REST', 3026: 'разработки', 31: 'Tableau', 176: 'skills', 23: 'helps', 18: 'Ручное', 189: 'помощь', 21: 'презентовать', 218: 'этом', 413: 'Вы', 135: 'современный', 1226: 'у', 331: 'России', 258: 'испытательного', 48: 'Apple', 33: 'отчеты', 97: '1С', 11722: 'на', 1189: 'будет', 358: 'уровня', 9: 'Бизнес-Требований', 41: 'automation', 303: 'интеграции', 8: 'vmware', 187: 'России.', 2612: 'Опыт', 4287: 'от', 627: '2', 561: 'лет', 198: 'помощью', 11: 'аналитика)', 7952: 'работы', 974: 'команде', 443: '1', 486: 'уровень', 797: 'знания', 205: 'английский', 111: 'спортивные', 2880: 'опыт', 387: 'сложных', 177: 'удаленная', 87: 'not', 138: 'English', 54: 'would', 247: 'поддержки', 414: 'использованием', 101: 'г.', 314: 'всегда', 98: 'крупной', 658: 'все', 435: 'свои', 1446: 'а', 841: 'также', 2275: 'не', 150: 'The', 591: 'архитектуры', 837: 'новых', 549: 'проектов', 470: 'писать', 412: 'время', 77: 'more', 175: 'программы', 80: 'этапах', 811: 'который', 104: 'кредитование', 12: 'AUTO', 805: 'офис', 30: 'регрессионное', 40: 'key', 1352: 'В', 86: 'products', 58: 'ручного', 185: 'ее', 110: 'ревью', 391: 'вас', 618: 'нашей', 29: 'заданий,', 221: 'нашу', 700: 'над', 10: 'forensic', 50: 'тест-кейсов', 120: 'моделей', 139: 'тестирования,', 109: 'поиске', 475: 'уже', 825: 'команда', 297: 'качестве', 281: 'Вам', 2386: 'из', 360: 'обучения', 6: 'уязвимостей,', 1222: 'со', 34: 'тестирования;', 181: 'Основные', 250: 'нет', 229: 'включая', 55: 'every', 22: 'сбор,', 99: 'получать', 35: 'industry', 160: 'Ты', 383: 'we', 43: '●', 200: 'iOS', 51: 'методик', 216: 'интеграционных', 64: 'проектных', 3586: 'мы', 231: 'сейчас', 28: 'ручное', 78: 'teams', 26: 'Конкурентную', 156: 'год', 419: 'во', 13: 'campaigns', 376: 'Понимание', 16: '1С:', 2775: 'к', 75: 'HR', 1854: 'работать', 381: 'контроля', 213: 'проектами', 65: 'поставленные', 645: 'вы', 39: 'актуализация', 20: 'strategy', 24: 'Системного', 131: 'помогать', 113: 'Product', 68: 'SPA', 159: 'МЫ', 961: 'которые', 696: 'новые', 7: 'artifacts', 167: 'QA', 115: 'Кто', 257: '000', 56: 'заказчика', 38: 'KasperskyOS', 761: 'решения', 128: 'аналитика', 70: 'виде', 1734: '–', 133: 'полный', 44: 'MVVM,', 100: 'предоставляем', 16330: 'с', 1600: 'как', 501: 'обучение', 121: 'города', 2772: 'или', 19: 'ГОСТ', 134: 'согласование', 557: 'уровне', 183: 'стек', 594: 'развития', 393: 'документации', 2690: '—', 353: 'взаимодействия', 403: 'которая', 161: '∙', 1054: 'о', 5725: 'по', 192: 'будем', 155: 'релокации', 190: 'участия', 1046: 'компании', 106: 'высшее', 565: 'командой', 85: 'ТЗ', 405: 'других', 282: 'компании.', 36: 'составление', 79: 'mobile', 652: 'команды', 801: 'разработке', 169: 'точки', 718: 'системы', 662: 'предстоит', 130: 'жизненного', 308: 'React', 25: 'experts', 1171: 'Что', 88: 'Создание', 102: 'management', 277: 'коммерческой', 82: 'строить', 477: 'Наши', 136: 'technical', 728: 'понимание', 684: 'ты', 162: 'мониторинга', 173: 'business', 211: 'Git,', 96: 'дизайна', 276: 'информационных', 233: 'микросервисной', 373: 'Если', 706: 'так', 27: 'Postman,', 581: 'умение', 149: 'раза', 126: 'their', 37: '⌬', 285: 'оптимизации', 108: 'design', 283: 'компаний', 45: 'game', 89: 'ОС', 14: 'recruiting', 188: 'проводим', 747: 'предлагаем:', 295: 'формат', 334: 'сфере', 341: 'через', 152: 'программных', 630: 'график', 90: 'нагрузочного', 146: 'Web', 491: 'заработная', 141: 'UI', 234: 'то', 428: 'английского', 380: 'языка', 63: 'заданий', 586: 'можно', 154: 'интерфейсов', 73: 'устройств', 268: 'инструментов', 4521: '-', 1186: 'это', 47: 'requirements', 174: 'и/или', 224: 'времени', 759: 'задачи', 105: 'Team', 378: 'года', 337: 'ПО', 243: 'корпоративная', 472: 'всех', 42: 'BPMN,', 122: 'professional', 708: 'задач', 752: 'команду', 626: 'нам', 1059: 'возможность', 269: 'разработки,', 124: 'подходов', 254: 'from', 1832: 'за', 83: 'аналитиком', 598: 'рабочего', 114: 'протоколов', 503: 'разработка', 512: 'Обязанности:', 681: 'Разработка', 487: 'сервисов', 330: 'анализа', 163: '*', 116: 'поиска', 394: 'приложения', 729: 'Требования:', 103: 'защиты', 264: 'плюсом', 1166: 'принципов', 463: 'плюсом:', 1302: 'знание', 196: 'have', 199: 'частью', 716: 'работа', 112: 'расти', 495: 'офисе', 908: 'ищем', 118: 'реализовывать', 62: 'проверять', 532: 'продуктов', 94: 'ведение', 76: 'планов', 71: 'сможешь', 821: '+', 232: 'информационной', 69: 'жизненных', 219: 'product', 17: 'sklearn,', 535: 'системами', 197: 'международных', 67: 'Офис', 166: 'технического', 59: 'also', 310: 'will', 307: 'be', 931: 'for', 4085: 'and', 302: 'нового', 2061: 'the', 1975: 'of', 1960: 'to', 53: 'Project', 490: 'our', 52: 'ability', 1294: 'with', 421: 'as', 536: 'are', 1303: 'a', 363: 'work', 1603: 'in', 423: 'team', 621: 'is', 32: 'Competitive', 158: 'тысяч', 558: 'области', 182: 'доступ', 301: 'На', 313: 'основе', 1112: 'данных', 400: 'работы:', 461: 'автоматизации', 977: 'тестирования', 180: 'backend', 168: 'друг', 556: 'решений', 236: 'предлагаем', 434: 'поддержка', 324: 'рабочий', 886: 'ТК', 227: 'РФ', 327: 'первого', 342: 'Участие', 60: 'составления', 148: 'ожидаем', 91: 'стандартов', 164: 'функциональных', 214: 'согласно', 456: 'продукты', 172: 'внутренние', 1172: '/', 49: 'видов', 153: 'ИТ', 339: 'опытом', 81: 'офисов', 145: 'коллектив', 441: 'технической', 300: 'заработной', 142: 'офиса', 278: 'тебе', 95: 'Проект:', 259: 'техническое', 117: 'Навыки', 66: 'different', 84: 'найти', 207: 'рост', 438: 'работе', 226: 'часть', 1170: 'до', 165: 'оптимизация', 480: 'только', 147: '100', 517: 'процессов', 255: 'постоянно', 386: 'где', 742: 'но', 92: 'автоматизированного', 237: 'части', 204: 'роли', 125: 'тренинги', 293: 'которых', 389: 'внутри', 137: 'команде.', 290: 'задачи,', 401: 'продукта', 335: 'продукт', 485: 'технических', 502: 'требований', 119: 'Каждый', 132: 'best', 666: 'участие', 280: 'развиваться', 347: 'том', 143: '.NET', 1056: 'их', 530: 'профессионального', 318: 'your', 260: 'development', 151: 'использовать', 107: 'project', 252: 'корпоративных', 369: 'различных', 129: 'тестовой', 563: 'SQL', 398: 'IT', 608: 'Работа', 123: '100%', 494: 'работу', 171: 'решение', 178: 'развитии', 440: 'тебя', 93: 'подготовки', 420: 'ДМС', 429: 'счет', 354: 'компании,', 823: 'при', 804: 'более', 222: '10', 605: 'Java', 745: 'систем', 271: 'основ', 248: 'Компания', 459: 'технологий', 245: 'рынке', 292: 'тестирование', 235: 'специалистов', 873: '•', 251: 'процессы', 212: 'проектной', 240: 'заработную', 402: 'скидки', 566: 'развитие', 721: 'приложений', 444: 'проекты', 186: 'web', 345: 'пользователей', 287: '5', 225: 'центре', 195: 'либо', 206: 'пакет', 371: 'Возможность', 573: 'чтобы', 201: 'by', 291: 'that', 209: 'Google', 263: 'working', 348: 'or', 323: 'основных', 144: 'продуктовых', 202: 'at', 157: 'методологий', 361: 'чем', 298: '·', 465: 'под', 296: 'создавать', 427: 'использования', 362: 'создания', 220: 'Group-IB', 686: 'управления', 184: 'knowledge', 230: 'которой', 193: 'всем', 208: '3-х', 409: 'после', 322: 'начало', 468: 'сотрудников', 311: 'результатам', 388: 'готовы', 242: 'еще', 194: 'инструменты', 305: 'Наш', 203: 'контроль', 284: 'любой', 246: '2-х', 370: 'условия', 326: 'анализ', 267: 'базе', 217: 'new', 244: 'процесса'}\n"
     ]
    }
   ],
   "source": [
    "inverse_vocab = {index: token for token, index in vocab.items()}\n",
    "print(inverse_vocab)"
   ],
   "metadata": {
    "collapsed": false,
    "pycharm": {
     "name": "#%%\n"
    }
   }
  },
  {
   "cell_type": "code",
   "execution_count": null,
   "outputs": [],
   "source": [],
   "metadata": {
    "collapsed": false,
    "pycharm": {
     "name": "#%%\n"
    }
   }
  }
 ],
 "metadata": {
  "kernelspec": {
   "display_name": "Python 3",
   "language": "python",
   "name": "python3"
  },
  "language_info": {
   "codemirror_mode": {
    "name": "ipython",
    "version": 2
   },
   "file_extension": ".py",
   "mimetype": "text/x-python",
   "name": "python",
   "nbconvert_exporter": "python",
   "pygments_lexer": "ipython2",
   "version": "2.7.6"
  }
 },
 "nbformat": 4,
 "nbformat_minor": 0
}