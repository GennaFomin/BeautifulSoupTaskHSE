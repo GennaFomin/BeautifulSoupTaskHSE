{
 "cells": [
  {
   "cell_type": "code",
   "execution_count": 42,
   "metadata": {
    "collapsed": true
   },
   "outputs": [],
   "source": [
    "from bs4 import BeautifulSoup\n",
    "import math\n",
    "import re\n",
    "from natasha import (\n",
    "    Segmenter,\n",
    "    MorphVocab,\n",
    "    NewsNERTagger,\n",
    "\n",
    "    NewsEmbedding,\n",
    "    NewsMorphTagger,\n",
    "\n",
    "    Doc\n",
    ")\n",
    "from tqdm import tqdm\n",
    "import requests\n",
    "import pandas as pd"
   ]
  },
  {
   "cell_type": "code",
   "execution_count": 41,
   "outputs": [],
   "source": [
    "jobDescription = pd.read_pickle('jobDescription')"
   ],
   "metadata": {
    "collapsed": false,
    "pycharm": {
     "name": "#%%\n"
    }
   }
  },
  {
   "cell_type": "code",
   "execution_count": 40,
   "outputs": [],
   "source": [
    "divisions = ['backend','frontend','apps','software','testing','administration','design',\n",
    "             'management','marketing','analytics','sale','content','support','hr','telecom',\n",
    "             'other','office','security']\n",
    "dict = {}"
   ],
   "metadata": {
    "collapsed": false,
    "pycharm": {
     "name": "#%%\n"
    }
   }
  },
  {
   "cell_type": "code",
   "execution_count": 31,
   "outputs": [
    {
     "name": "stderr",
     "output_type": "stream",
     "text": [
      "  0%|          | 0/18 [00:30<?, ?it/s]\n"
     ]
    },
    {
     "ename": "KeyboardInterrupt",
     "evalue": "",
     "output_type": "error",
     "traceback": [
      "\u001B[1;31m---------------------------------------------------------------------------\u001B[0m",
      "\u001B[1;31mKeyboardInterrupt\u001B[0m                         Traceback (most recent call last)",
      "\u001B[1;32m<ipython-input-31-c3f0a7c0b59e>\u001B[0m in \u001B[0;36m<module>\u001B[1;34m\u001B[0m\n\u001B[0;32m      6\u001B[0m             \u001B[0mdoc\u001B[0m \u001B[1;33m=\u001B[0m \u001B[0mDoc\u001B[0m\u001B[1;33m(\u001B[0m\u001B[0mdescription\u001B[0m\u001B[1;33m)\u001B[0m\u001B[1;33m\u001B[0m\u001B[1;33m\u001B[0m\u001B[0m\n\u001B[0;32m      7\u001B[0m             \u001B[0memb\u001B[0m \u001B[1;33m=\u001B[0m \u001B[0mNewsEmbedding\u001B[0m\u001B[1;33m(\u001B[0m\u001B[1;33m)\u001B[0m\u001B[1;33m\u001B[0m\u001B[1;33m\u001B[0m\u001B[0m\n\u001B[1;32m----> 8\u001B[1;33m             \u001B[0mmorph_vocab\u001B[0m \u001B[1;33m=\u001B[0m \u001B[0mMorphVocab\u001B[0m\u001B[1;33m(\u001B[0m\u001B[1;33m)\u001B[0m\u001B[1;33m\u001B[0m\u001B[1;33m\u001B[0m\u001B[0m\n\u001B[0m\u001B[0;32m      9\u001B[0m             \u001B[0mmorph_tagger\u001B[0m \u001B[1;33m=\u001B[0m \u001B[0mNewsMorphTagger\u001B[0m\u001B[1;33m(\u001B[0m\u001B[0memb\u001B[0m\u001B[1;33m)\u001B[0m\u001B[1;33m\u001B[0m\u001B[1;33m\u001B[0m\u001B[0m\n\u001B[0;32m     10\u001B[0m             \u001B[0msgmntr\u001B[0m \u001B[1;33m=\u001B[0m \u001B[0mSegmenter\u001B[0m\u001B[1;33m(\u001B[0m\u001B[1;33m)\u001B[0m\u001B[1;33m\u001B[0m\u001B[1;33m\u001B[0m\u001B[0m\n",
      "\u001B[1;32m~\\anaconda3\\lib\\site-packages\\natasha\\morph\\vocab.py\u001B[0m in \u001B[0;36m__init__\u001B[1;34m(self)\u001B[0m\n\u001B[0;32m    160\u001B[0m \u001B[1;32mclass\u001B[0m \u001B[0mMorphVocab\u001B[0m\u001B[1;33m(\u001B[0m\u001B[0mPymorphyAnalyzer\u001B[0m\u001B[1;33m)\u001B[0m\u001B[1;33m:\u001B[0m\u001B[1;33m\u001B[0m\u001B[1;33m\u001B[0m\u001B[0m\n\u001B[0;32m    161\u001B[0m     \u001B[1;32mdef\u001B[0m \u001B[0m__init__\u001B[0m\u001B[1;33m(\u001B[0m\u001B[0mself\u001B[0m\u001B[1;33m)\u001B[0m\u001B[1;33m:\u001B[0m\u001B[1;33m\u001B[0m\u001B[1;33m\u001B[0m\u001B[0m\n\u001B[1;32m--> 162\u001B[1;33m         \u001B[0mPymorphyAnalyzer\u001B[0m\u001B[1;33m.\u001B[0m\u001B[0m__init__\u001B[0m\u001B[1;33m(\u001B[0m\u001B[0mself\u001B[0m\u001B[1;33m,\u001B[0m \u001B[0mresult_type\u001B[0m\u001B[1;33m=\u001B[0m\u001B[0mMorphForm\u001B[0m\u001B[1;33m)\u001B[0m\u001B[1;33m\u001B[0m\u001B[1;33m\u001B[0m\u001B[0m\n\u001B[0m\u001B[0;32m    163\u001B[0m \u001B[1;33m\u001B[0m\u001B[0m\n\u001B[0;32m    164\u001B[0m     \u001B[0mparse\u001B[0m \u001B[1;33m=\u001B[0m \u001B[0mlru_cache\u001B[0m\u001B[1;33m(\u001B[0m\u001B[0mCACHE_SIZE\u001B[0m\u001B[1;33m)\u001B[0m\u001B[1;33m(\u001B[0m\u001B[0mPymorphyAnalyzer\u001B[0m\u001B[1;33m.\u001B[0m\u001B[0mparse\u001B[0m\u001B[1;33m)\u001B[0m\u001B[1;33m\u001B[0m\u001B[1;33m\u001B[0m\u001B[0m\n",
      "\u001B[1;32m~\\anaconda3\\lib\\site-packages\\pymorphy2\\analyzer.py\u001B[0m in \u001B[0;36m__init__\u001B[1;34m(self, path, lang, result_type, units, probability_estimator_cls, char_substitutes)\u001B[0m\n\u001B[0;32m    198\u001B[0m             \u001B[0mlang\u001B[0m \u001B[1;33m=\u001B[0m \u001B[1;34m'ru'\u001B[0m\u001B[1;33m\u001B[0m\u001B[1;33m\u001B[0m\u001B[0m\n\u001B[0;32m    199\u001B[0m \u001B[1;33m\u001B[0m\u001B[0m\n\u001B[1;32m--> 200\u001B[1;33m         \u001B[0mpath\u001B[0m \u001B[1;33m=\u001B[0m \u001B[0mself\u001B[0m\u001B[1;33m.\u001B[0m\u001B[0mchoose_dictionary_path\u001B[0m\u001B[1;33m(\u001B[0m\u001B[0mpath\u001B[0m\u001B[1;33m,\u001B[0m \u001B[0mlang\u001B[0m\u001B[1;33m)\u001B[0m\u001B[1;33m\u001B[0m\u001B[1;33m\u001B[0m\u001B[0m\n\u001B[0m\u001B[0;32m    201\u001B[0m \u001B[1;33m\u001B[0m\u001B[0m\n\u001B[0;32m    202\u001B[0m         \u001B[1;32mwith\u001B[0m \u001B[0mself\u001B[0m\u001B[1;33m.\u001B[0m\u001B[0m_lock\u001B[0m\u001B[1;33m:\u001B[0m\u001B[1;33m\u001B[0m\u001B[1;33m\u001B[0m\u001B[0m\n",
      "\u001B[1;32m~\\anaconda3\\lib\\site-packages\\pymorphy2\\analyzer.py\u001B[0m in \u001B[0;36mchoose_dictionary_path\u001B[1;34m(cls, path, lang)\u001B[0m\n\u001B[0;32m    278\u001B[0m             \u001B[1;32mreturn\u001B[0m \u001B[0mos\u001B[0m\u001B[1;33m.\u001B[0m\u001B[0menviron\u001B[0m\u001B[1;33m[\u001B[0m\u001B[0mcls\u001B[0m\u001B[1;33m.\u001B[0m\u001B[0mDICT_PATH_ENV_VARIABLE\u001B[0m\u001B[1;33m]\u001B[0m\u001B[1;33m\u001B[0m\u001B[1;33m\u001B[0m\u001B[0m\n\u001B[0;32m    279\u001B[0m \u001B[1;33m\u001B[0m\u001B[0m\n\u001B[1;32m--> 280\u001B[1;33m         \u001B[1;32mreturn\u001B[0m \u001B[0mlang_dict_path\u001B[0m\u001B[1;33m(\u001B[0m\u001B[0mlang\u001B[0m\u001B[1;33m)\u001B[0m\u001B[1;33m\u001B[0m\u001B[1;33m\u001B[0m\u001B[0m\n\u001B[0m\u001B[0;32m    281\u001B[0m \u001B[1;33m\u001B[0m\u001B[0m\n\u001B[0;32m    282\u001B[0m     \u001B[1;33m@\u001B[0m\u001B[0mclassmethod\u001B[0m\u001B[1;33m\u001B[0m\u001B[1;33m\u001B[0m\u001B[0m\n",
      "\u001B[1;32m~\\anaconda3\\lib\\site-packages\\pymorphy2\\analyzer.py\u001B[0m in \u001B[0;36mlang_dict_path\u001B[1;34m(lang)\u001B[0m\n\u001B[0;32m    135\u001B[0m \u001B[1;32mdef\u001B[0m \u001B[0mlang_dict_path\u001B[0m\u001B[1;33m(\u001B[0m\u001B[0mlang\u001B[0m\u001B[1;33m)\u001B[0m\u001B[1;33m:\u001B[0m\u001B[1;33m\u001B[0m\u001B[1;33m\u001B[0m\u001B[0m\n\u001B[0;32m    136\u001B[0m     \u001B[1;34m\"\"\" Return language-specific dictionary path \"\"\"\u001B[0m\u001B[1;33m\u001B[0m\u001B[1;33m\u001B[0m\u001B[0m\n\u001B[1;32m--> 137\u001B[1;33m     \u001B[0mlang_paths\u001B[0m \u001B[1;33m=\u001B[0m \u001B[0m_lang_dict_paths\u001B[0m\u001B[1;33m(\u001B[0m\u001B[1;33m)\u001B[0m\u001B[1;33m\u001B[0m\u001B[1;33m\u001B[0m\u001B[0m\n\u001B[0m\u001B[0;32m    138\u001B[0m     \u001B[1;32mif\u001B[0m \u001B[0mlang\u001B[0m \u001B[1;32min\u001B[0m \u001B[0mlang_paths\u001B[0m\u001B[1;33m:\u001B[0m\u001B[1;33m\u001B[0m\u001B[1;33m\u001B[0m\u001B[0m\n\u001B[0;32m    139\u001B[0m         \u001B[1;32mreturn\u001B[0m \u001B[0mlang_paths\u001B[0m\u001B[1;33m[\u001B[0m\u001B[0mlang\u001B[0m\u001B[1;33m]\u001B[0m\u001B[1;33m\u001B[0m\u001B[1;33m\u001B[0m\u001B[0m\n",
      "\u001B[1;32m~\\anaconda3\\lib\\site-packages\\pymorphy2\\analyzer.py\u001B[0m in \u001B[0;36m_lang_dict_paths\u001B[1;34m()\u001B[0m\n\u001B[0;32m    120\u001B[0m     paths = dict(\n\u001B[0;32m    121\u001B[0m         \u001B[1;33m(\u001B[0m\u001B[0mpkg\u001B[0m\u001B[1;33m.\u001B[0m\u001B[0mname\u001B[0m\u001B[1;33m,\u001B[0m \u001B[0mpkg\u001B[0m\u001B[1;33m.\u001B[0m\u001B[0mload\u001B[0m\u001B[1;33m(\u001B[0m\u001B[1;33m)\u001B[0m\u001B[1;33m.\u001B[0m\u001B[0mget_path\u001B[0m\u001B[1;33m(\u001B[0m\u001B[1;33m)\u001B[0m\u001B[1;33m)\u001B[0m\u001B[1;33m\u001B[0m\u001B[1;33m\u001B[0m\u001B[0m\n\u001B[1;32m--> 122\u001B[1;33m         \u001B[1;32mfor\u001B[0m \u001B[0mpkg\u001B[0m \u001B[1;32min\u001B[0m \u001B[0m_iter_entry_points\u001B[0m\u001B[1;33m(\u001B[0m\u001B[1;34m'pymorphy2_dicts'\u001B[0m\u001B[1;33m)\u001B[0m\u001B[1;33m\u001B[0m\u001B[1;33m\u001B[0m\u001B[0m\n\u001B[0m\u001B[0;32m    123\u001B[0m     )\n\u001B[0;32m    124\u001B[0m \u001B[1;33m\u001B[0m\u001B[0m\n",
      "\u001B[1;32m~\\anaconda3\\lib\\site-packages\\pymorphy2\\analyzer.py\u001B[0m in \u001B[0;36m_iter_entry_points\u001B[1;34m(*args, **kwargs)\u001B[0m\n\u001B[0;32m    113\u001B[0m     \"\"\"\n\u001B[0;32m    114\u001B[0m     \u001B[1;32mimport\u001B[0m \u001B[0mpkg_resources\u001B[0m\u001B[1;33m\u001B[0m\u001B[1;33m\u001B[0m\u001B[0m\n\u001B[1;32m--> 115\u001B[1;33m     \u001B[0mws\u001B[0m \u001B[1;33m=\u001B[0m \u001B[0mpkg_resources\u001B[0m\u001B[1;33m.\u001B[0m\u001B[0mWorkingSet\u001B[0m\u001B[1;33m(\u001B[0m\u001B[1;33m)\u001B[0m\u001B[1;33m\u001B[0m\u001B[1;33m\u001B[0m\u001B[0m\n\u001B[0m\u001B[0;32m    116\u001B[0m     \u001B[1;32mreturn\u001B[0m \u001B[0mws\u001B[0m\u001B[1;33m.\u001B[0m\u001B[0miter_entry_points\u001B[0m\u001B[1;33m(\u001B[0m\u001B[1;33m*\u001B[0m\u001B[0margs\u001B[0m\u001B[1;33m,\u001B[0m \u001B[1;33m**\u001B[0m\u001B[0mkwargs\u001B[0m\u001B[1;33m)\u001B[0m\u001B[1;33m\u001B[0m\u001B[1;33m\u001B[0m\u001B[0m\n\u001B[0;32m    117\u001B[0m \u001B[1;33m\u001B[0m\u001B[0m\n",
      "\u001B[1;32m~\\anaconda3\\lib\\site-packages\\pkg_resources\\__init__.py\u001B[0m in \u001B[0;36m__init__\u001B[1;34m(self, entries)\u001B[0m\n\u001B[0;32m    549\u001B[0m \u001B[1;33m\u001B[0m\u001B[0m\n\u001B[0;32m    550\u001B[0m         \u001B[1;32mfor\u001B[0m \u001B[0mentry\u001B[0m \u001B[1;32min\u001B[0m \u001B[0mentries\u001B[0m\u001B[1;33m:\u001B[0m\u001B[1;33m\u001B[0m\u001B[1;33m\u001B[0m\u001B[0m\n\u001B[1;32m--> 551\u001B[1;33m             \u001B[0mself\u001B[0m\u001B[1;33m.\u001B[0m\u001B[0madd_entry\u001B[0m\u001B[1;33m(\u001B[0m\u001B[0mentry\u001B[0m\u001B[1;33m)\u001B[0m\u001B[1;33m\u001B[0m\u001B[1;33m\u001B[0m\u001B[0m\n\u001B[0m\u001B[0;32m    552\u001B[0m \u001B[1;33m\u001B[0m\u001B[0m\n\u001B[0;32m    553\u001B[0m     \u001B[1;33m@\u001B[0m\u001B[0mclassmethod\u001B[0m\u001B[1;33m\u001B[0m\u001B[1;33m\u001B[0m\u001B[0m\n",
      "\u001B[1;32m~\\anaconda3\\lib\\site-packages\\pkg_resources\\__init__.py\u001B[0m in \u001B[0;36madd_entry\u001B[1;34m(self, entry)\u001B[0m\n\u001B[0;32m    605\u001B[0m         \u001B[0mself\u001B[0m\u001B[1;33m.\u001B[0m\u001B[0mentry_keys\u001B[0m\u001B[1;33m.\u001B[0m\u001B[0msetdefault\u001B[0m\u001B[1;33m(\u001B[0m\u001B[0mentry\u001B[0m\u001B[1;33m,\u001B[0m \u001B[1;33m[\u001B[0m\u001B[1;33m]\u001B[0m\u001B[1;33m)\u001B[0m\u001B[1;33m\u001B[0m\u001B[1;33m\u001B[0m\u001B[0m\n\u001B[0;32m    606\u001B[0m         \u001B[0mself\u001B[0m\u001B[1;33m.\u001B[0m\u001B[0mentries\u001B[0m\u001B[1;33m.\u001B[0m\u001B[0mappend\u001B[0m\u001B[1;33m(\u001B[0m\u001B[0mentry\u001B[0m\u001B[1;33m)\u001B[0m\u001B[1;33m\u001B[0m\u001B[1;33m\u001B[0m\u001B[0m\n\u001B[1;32m--> 607\u001B[1;33m         \u001B[1;32mfor\u001B[0m \u001B[0mdist\u001B[0m \u001B[1;32min\u001B[0m \u001B[0mfind_distributions\u001B[0m\u001B[1;33m(\u001B[0m\u001B[0mentry\u001B[0m\u001B[1;33m,\u001B[0m \u001B[1;32mTrue\u001B[0m\u001B[1;33m)\u001B[0m\u001B[1;33m:\u001B[0m\u001B[1;33m\u001B[0m\u001B[1;33m\u001B[0m\u001B[0m\n\u001B[0m\u001B[0;32m    608\u001B[0m             \u001B[0mself\u001B[0m\u001B[1;33m.\u001B[0m\u001B[0madd\u001B[0m\u001B[1;33m(\u001B[0m\u001B[0mdist\u001B[0m\u001B[1;33m,\u001B[0m \u001B[0mentry\u001B[0m\u001B[1;33m,\u001B[0m \u001B[1;32mFalse\u001B[0m\u001B[1;33m)\u001B[0m\u001B[1;33m\u001B[0m\u001B[1;33m\u001B[0m\u001B[0m\n\u001B[0;32m    609\u001B[0m \u001B[1;33m\u001B[0m\u001B[0m\n",
      "\u001B[1;32m~\\anaconda3\\lib\\site-packages\\pkg_resources\\__init__.py\u001B[0m in \u001B[0;36mfind_on_path\u001B[1;34m(importer, path_item, only)\u001B[0m\n\u001B[0;32m   2058\u001B[0m         \u001B[0mfullpath\u001B[0m \u001B[1;33m=\u001B[0m \u001B[0mos\u001B[0m\u001B[1;33m.\u001B[0m\u001B[0mpath\u001B[0m\u001B[1;33m.\u001B[0m\u001B[0mjoin\u001B[0m\u001B[1;33m(\u001B[0m\u001B[0mpath_item\u001B[0m\u001B[1;33m,\u001B[0m \u001B[0mentry\u001B[0m\u001B[1;33m)\u001B[0m\u001B[1;33m\u001B[0m\u001B[1;33m\u001B[0m\u001B[0m\n\u001B[0;32m   2059\u001B[0m         \u001B[0mfactory\u001B[0m \u001B[1;33m=\u001B[0m \u001B[0mdist_factory\u001B[0m\u001B[1;33m(\u001B[0m\u001B[0mpath_item\u001B[0m\u001B[1;33m,\u001B[0m \u001B[0mentry\u001B[0m\u001B[1;33m,\u001B[0m \u001B[0monly\u001B[0m\u001B[1;33m)\u001B[0m\u001B[1;33m\u001B[0m\u001B[1;33m\u001B[0m\u001B[0m\n\u001B[1;32m-> 2060\u001B[1;33m         \u001B[1;32mfor\u001B[0m \u001B[0mdist\u001B[0m \u001B[1;32min\u001B[0m \u001B[0mfactory\u001B[0m\u001B[1;33m(\u001B[0m\u001B[0mfullpath\u001B[0m\u001B[1;33m)\u001B[0m\u001B[1;33m:\u001B[0m\u001B[1;33m\u001B[0m\u001B[1;33m\u001B[0m\u001B[0m\n\u001B[0m\u001B[0;32m   2061\u001B[0m             \u001B[1;32myield\u001B[0m \u001B[0mdist\u001B[0m\u001B[1;33m\u001B[0m\u001B[1;33m\u001B[0m\u001B[0m\n\u001B[0;32m   2062\u001B[0m \u001B[1;33m\u001B[0m\u001B[0m\n",
      "\u001B[1;32m~\\anaconda3\\lib\\site-packages\\pkg_resources\\__init__.py\u001B[0m in \u001B[0;36mdistributions_from_metadata\u001B[1;34m(path)\u001B[0m\n\u001B[0;32m   2123\u001B[0m         \u001B[0mmetadata\u001B[0m \u001B[1;33m=\u001B[0m \u001B[0mFileMetadata\u001B[0m\u001B[1;33m(\u001B[0m\u001B[0mpath\u001B[0m\u001B[1;33m)\u001B[0m\u001B[1;33m\u001B[0m\u001B[1;33m\u001B[0m\u001B[0m\n\u001B[0;32m   2124\u001B[0m     \u001B[0mentry\u001B[0m \u001B[1;33m=\u001B[0m \u001B[0mos\u001B[0m\u001B[1;33m.\u001B[0m\u001B[0mpath\u001B[0m\u001B[1;33m.\u001B[0m\u001B[0mbasename\u001B[0m\u001B[1;33m(\u001B[0m\u001B[0mpath\u001B[0m\u001B[1;33m)\u001B[0m\u001B[1;33m\u001B[0m\u001B[1;33m\u001B[0m\u001B[0m\n\u001B[1;32m-> 2125\u001B[1;33m     yield Distribution.from_location(\n\u001B[0m\u001B[0;32m   2126\u001B[0m         \u001B[0mroot\u001B[0m\u001B[1;33m,\u001B[0m \u001B[0mentry\u001B[0m\u001B[1;33m,\u001B[0m \u001B[0mmetadata\u001B[0m\u001B[1;33m,\u001B[0m \u001B[0mprecedence\u001B[0m\u001B[1;33m=\u001B[0m\u001B[0mDEVELOP_DIST\u001B[0m\u001B[1;33m,\u001B[0m\u001B[1;33m\u001B[0m\u001B[1;33m\u001B[0m\u001B[0m\n\u001B[0;32m   2127\u001B[0m     )\n",
      "\u001B[1;32m~\\anaconda3\\lib\\site-packages\\pkg_resources\\__init__.py\u001B[0m in \u001B[0;36mfrom_location\u001B[1;34m(cls, location, basename, metadata, **kw)\u001B[0m\n\u001B[0;32m   2583\u001B[0m                     \u001B[1;34m'name'\u001B[0m\u001B[1;33m,\u001B[0m \u001B[1;34m'ver'\u001B[0m\u001B[1;33m,\u001B[0m \u001B[1;34m'pyver'\u001B[0m\u001B[1;33m,\u001B[0m \u001B[1;34m'plat'\u001B[0m\u001B[1;33m\u001B[0m\u001B[1;33m\u001B[0m\u001B[0m\n\u001B[0;32m   2584\u001B[0m                 )\n\u001B[1;32m-> 2585\u001B[1;33m         return cls(\n\u001B[0m\u001B[0;32m   2586\u001B[0m             \u001B[0mlocation\u001B[0m\u001B[1;33m,\u001B[0m \u001B[0mmetadata\u001B[0m\u001B[1;33m,\u001B[0m \u001B[0mproject_name\u001B[0m\u001B[1;33m=\u001B[0m\u001B[0mproject_name\u001B[0m\u001B[1;33m,\u001B[0m \u001B[0mversion\u001B[0m\u001B[1;33m=\u001B[0m\u001B[0mversion\u001B[0m\u001B[1;33m,\u001B[0m\u001B[1;33m\u001B[0m\u001B[1;33m\u001B[0m\u001B[0m\n\u001B[0;32m   2587\u001B[0m             \u001B[0mpy_version\u001B[0m\u001B[1;33m=\u001B[0m\u001B[0mpy_version\u001B[0m\u001B[1;33m,\u001B[0m \u001B[0mplatform\u001B[0m\u001B[1;33m=\u001B[0m\u001B[0mplatform\u001B[0m\u001B[1;33m,\u001B[0m \u001B[1;33m**\u001B[0m\u001B[0mkw\u001B[0m\u001B[1;33m\u001B[0m\u001B[1;33m\u001B[0m\u001B[0m\n",
      "\u001B[1;32m~\\anaconda3\\lib\\site-packages\\pkg_resources\\__init__.py\u001B[0m in \u001B[0;36m_reload_version\u001B[1;34m(self)\u001B[0m\n\u001B[0;32m   2983\u001B[0m         \u001B[0mthe\u001B[0m \u001B[0mmetadata\u001B[0m \u001B[0mfile\u001B[0m \u001B[0mitself\u001B[0m \u001B[0minstead\u001B[0m \u001B[0mof\u001B[0m \u001B[0mthe\u001B[0m \u001B[0mfilename\u001B[0m\u001B[1;33m.\u001B[0m\u001B[1;33m\u001B[0m\u001B[1;33m\u001B[0m\u001B[0m\n\u001B[0;32m   2984\u001B[0m         \"\"\"\n\u001B[1;32m-> 2985\u001B[1;33m         \u001B[0mmd_version\u001B[0m \u001B[1;33m=\u001B[0m \u001B[0mself\u001B[0m\u001B[1;33m.\u001B[0m\u001B[0m_get_version\u001B[0m\u001B[1;33m(\u001B[0m\u001B[1;33m)\u001B[0m\u001B[1;33m\u001B[0m\u001B[1;33m\u001B[0m\u001B[0m\n\u001B[0m\u001B[0;32m   2986\u001B[0m         \u001B[1;32mif\u001B[0m \u001B[0mmd_version\u001B[0m\u001B[1;33m:\u001B[0m\u001B[1;33m\u001B[0m\u001B[1;33m\u001B[0m\u001B[0m\n\u001B[0;32m   2987\u001B[0m             \u001B[0mself\u001B[0m\u001B[1;33m.\u001B[0m\u001B[0m_version\u001B[0m \u001B[1;33m=\u001B[0m \u001B[0mmd_version\u001B[0m\u001B[1;33m\u001B[0m\u001B[1;33m\u001B[0m\u001B[0m\n",
      "\u001B[1;32m~\\anaconda3\\lib\\site-packages\\pkg_resources\\__init__.py\u001B[0m in \u001B[0;36m_get_version\u001B[1;34m(self)\u001B[0m\n\u001B[0;32m   2765\u001B[0m     \u001B[1;32mdef\u001B[0m \u001B[0m_get_version\u001B[0m\u001B[1;33m(\u001B[0m\u001B[0mself\u001B[0m\u001B[1;33m)\u001B[0m\u001B[1;33m:\u001B[0m\u001B[1;33m\u001B[0m\u001B[1;33m\u001B[0m\u001B[0m\n\u001B[0;32m   2766\u001B[0m         \u001B[0mlines\u001B[0m \u001B[1;33m=\u001B[0m \u001B[0mself\u001B[0m\u001B[1;33m.\u001B[0m\u001B[0m_get_metadata\u001B[0m\u001B[1;33m(\u001B[0m\u001B[0mself\u001B[0m\u001B[1;33m.\u001B[0m\u001B[0mPKG_INFO\u001B[0m\u001B[1;33m)\u001B[0m\u001B[1;33m\u001B[0m\u001B[1;33m\u001B[0m\u001B[0m\n\u001B[1;32m-> 2767\u001B[1;33m         \u001B[0mversion\u001B[0m \u001B[1;33m=\u001B[0m \u001B[0m_version_from_file\u001B[0m\u001B[1;33m(\u001B[0m\u001B[0mlines\u001B[0m\u001B[1;33m)\u001B[0m\u001B[1;33m\u001B[0m\u001B[1;33m\u001B[0m\u001B[0m\n\u001B[0m\u001B[0;32m   2768\u001B[0m \u001B[1;33m\u001B[0m\u001B[0m\n\u001B[0;32m   2769\u001B[0m         \u001B[1;32mreturn\u001B[0m \u001B[0mversion\u001B[0m\u001B[1;33m\u001B[0m\u001B[1;33m\u001B[0m\u001B[0m\n",
      "\u001B[1;32m~\\anaconda3\\lib\\site-packages\\pkg_resources\\__init__.py\u001B[0m in \u001B[0;36m_version_from_file\u001B[1;34m(lines)\u001B[0m\n\u001B[0;32m   2549\u001B[0m         \u001B[1;32mreturn\u001B[0m \u001B[0mline\u001B[0m\u001B[1;33m.\u001B[0m\u001B[0mlower\u001B[0m\u001B[1;33m(\u001B[0m\u001B[1;33m)\u001B[0m\u001B[1;33m.\u001B[0m\u001B[0mstartswith\u001B[0m\u001B[1;33m(\u001B[0m\u001B[1;34m'version:'\u001B[0m\u001B[1;33m)\u001B[0m\u001B[1;33m\u001B[0m\u001B[1;33m\u001B[0m\u001B[0m\n\u001B[0;32m   2550\u001B[0m     \u001B[0mversion_lines\u001B[0m \u001B[1;33m=\u001B[0m \u001B[0mfilter\u001B[0m\u001B[1;33m(\u001B[0m\u001B[0mis_version_line\u001B[0m\u001B[1;33m,\u001B[0m \u001B[0mlines\u001B[0m\u001B[1;33m)\u001B[0m\u001B[1;33m\u001B[0m\u001B[1;33m\u001B[0m\u001B[0m\n\u001B[1;32m-> 2551\u001B[1;33m     \u001B[0mline\u001B[0m \u001B[1;33m=\u001B[0m \u001B[0mnext\u001B[0m\u001B[1;33m(\u001B[0m\u001B[0miter\u001B[0m\u001B[1;33m(\u001B[0m\u001B[0mversion_lines\u001B[0m\u001B[1;33m)\u001B[0m\u001B[1;33m,\u001B[0m \u001B[1;34m''\u001B[0m\u001B[1;33m)\u001B[0m\u001B[1;33m\u001B[0m\u001B[1;33m\u001B[0m\u001B[0m\n\u001B[0m\u001B[0;32m   2552\u001B[0m     \u001B[0m_\u001B[0m\u001B[1;33m,\u001B[0m \u001B[0m_\u001B[0m\u001B[1;33m,\u001B[0m \u001B[0mvalue\u001B[0m \u001B[1;33m=\u001B[0m \u001B[0mline\u001B[0m\u001B[1;33m.\u001B[0m\u001B[0mpartition\u001B[0m\u001B[1;33m(\u001B[0m\u001B[1;34m':'\u001B[0m\u001B[1;33m)\u001B[0m\u001B[1;33m\u001B[0m\u001B[1;33m\u001B[0m\u001B[0m\n\u001B[0;32m   2553\u001B[0m     \u001B[1;32mreturn\u001B[0m \u001B[0msafe_version\u001B[0m\u001B[1;33m(\u001B[0m\u001B[0mvalue\u001B[0m\u001B[1;33m.\u001B[0m\u001B[0mstrip\u001B[0m\u001B[1;33m(\u001B[0m\u001B[1;33m)\u001B[0m\u001B[1;33m)\u001B[0m \u001B[1;32mor\u001B[0m \u001B[1;32mNone\u001B[0m\u001B[1;33m\u001B[0m\u001B[1;33m\u001B[0m\u001B[0m\n",
      "\u001B[1;32m~\\anaconda3\\lib\\site-packages\\pkg_resources\\__init__.py\u001B[0m in \u001B[0;36m_get_metadata\u001B[1;34m(self, name)\u001B[0m\n\u001B[0;32m   2760\u001B[0m     \u001B[1;32mdef\u001B[0m \u001B[0m_get_metadata\u001B[0m\u001B[1;33m(\u001B[0m\u001B[0mself\u001B[0m\u001B[1;33m,\u001B[0m \u001B[0mname\u001B[0m\u001B[1;33m)\u001B[0m\u001B[1;33m:\u001B[0m\u001B[1;33m\u001B[0m\u001B[1;33m\u001B[0m\u001B[0m\n\u001B[0;32m   2761\u001B[0m         \u001B[1;32mif\u001B[0m \u001B[0mself\u001B[0m\u001B[1;33m.\u001B[0m\u001B[0mhas_metadata\u001B[0m\u001B[1;33m(\u001B[0m\u001B[0mname\u001B[0m\u001B[1;33m)\u001B[0m\u001B[1;33m:\u001B[0m\u001B[1;33m\u001B[0m\u001B[1;33m\u001B[0m\u001B[0m\n\u001B[1;32m-> 2762\u001B[1;33m             \u001B[1;32mfor\u001B[0m \u001B[0mline\u001B[0m \u001B[1;32min\u001B[0m \u001B[0mself\u001B[0m\u001B[1;33m.\u001B[0m\u001B[0mget_metadata_lines\u001B[0m\u001B[1;33m(\u001B[0m\u001B[0mname\u001B[0m\u001B[1;33m)\u001B[0m\u001B[1;33m:\u001B[0m\u001B[1;33m\u001B[0m\u001B[1;33m\u001B[0m\u001B[0m\n\u001B[0m\u001B[0;32m   2763\u001B[0m                 \u001B[1;32myield\u001B[0m \u001B[0mline\u001B[0m\u001B[1;33m\u001B[0m\u001B[1;33m\u001B[0m\u001B[0m\n\u001B[0;32m   2764\u001B[0m \u001B[1;33m\u001B[0m\u001B[0m\n",
      "\u001B[1;32m~\\anaconda3\\lib\\site-packages\\pkg_resources\\__init__.py\u001B[0m in \u001B[0;36mget_metadata_lines\u001B[1;34m(self, name)\u001B[0m\n\u001B[0;32m   1413\u001B[0m \u001B[1;33m\u001B[0m\u001B[0m\n\u001B[0;32m   1414\u001B[0m     \u001B[1;32mdef\u001B[0m \u001B[0mget_metadata_lines\u001B[0m\u001B[1;33m(\u001B[0m\u001B[0mself\u001B[0m\u001B[1;33m,\u001B[0m \u001B[0mname\u001B[0m\u001B[1;33m)\u001B[0m\u001B[1;33m:\u001B[0m\u001B[1;33m\u001B[0m\u001B[1;33m\u001B[0m\u001B[0m\n\u001B[1;32m-> 1415\u001B[1;33m         \u001B[1;32mreturn\u001B[0m \u001B[0myield_lines\u001B[0m\u001B[1;33m(\u001B[0m\u001B[0mself\u001B[0m\u001B[1;33m.\u001B[0m\u001B[0mget_metadata\u001B[0m\u001B[1;33m(\u001B[0m\u001B[0mname\u001B[0m\u001B[1;33m)\u001B[0m\u001B[1;33m)\u001B[0m\u001B[1;33m\u001B[0m\u001B[1;33m\u001B[0m\u001B[0m\n\u001B[0m\u001B[0;32m   1416\u001B[0m \u001B[1;33m\u001B[0m\u001B[0m\n\u001B[0;32m   1417\u001B[0m     \u001B[1;32mdef\u001B[0m \u001B[0mresource_isdir\u001B[0m\u001B[1;33m(\u001B[0m\u001B[0mself\u001B[0m\u001B[1;33m,\u001B[0m \u001B[0mresource_name\u001B[0m\u001B[1;33m)\u001B[0m\u001B[1;33m:\u001B[0m\u001B[1;33m\u001B[0m\u001B[1;33m\u001B[0m\u001B[0m\n",
      "\u001B[1;32m~\\anaconda3\\lib\\site-packages\\pkg_resources\\__init__.py\u001B[0m in \u001B[0;36mget_metadata\u001B[1;34m(self, name)\u001B[0m\n\u001B[0;32m   1403\u001B[0m             \u001B[1;32mreturn\u001B[0m \u001B[1;34m\"\"\u001B[0m\u001B[1;33m\u001B[0m\u001B[1;33m\u001B[0m\u001B[0m\n\u001B[0;32m   1404\u001B[0m         \u001B[0mpath\u001B[0m \u001B[1;33m=\u001B[0m \u001B[0mself\u001B[0m\u001B[1;33m.\u001B[0m\u001B[0m_get_metadata_path\u001B[0m\u001B[1;33m(\u001B[0m\u001B[0mname\u001B[0m\u001B[1;33m)\u001B[0m\u001B[1;33m\u001B[0m\u001B[1;33m\u001B[0m\u001B[0m\n\u001B[1;32m-> 1405\u001B[1;33m         \u001B[0mvalue\u001B[0m \u001B[1;33m=\u001B[0m \u001B[0mself\u001B[0m\u001B[1;33m.\u001B[0m\u001B[0m_get\u001B[0m\u001B[1;33m(\u001B[0m\u001B[0mpath\u001B[0m\u001B[1;33m)\u001B[0m\u001B[1;33m\u001B[0m\u001B[1;33m\u001B[0m\u001B[0m\n\u001B[0m\u001B[0;32m   1406\u001B[0m         \u001B[1;32mtry\u001B[0m\u001B[1;33m:\u001B[0m\u001B[1;33m\u001B[0m\u001B[1;33m\u001B[0m\u001B[0m\n\u001B[0;32m   1407\u001B[0m             \u001B[1;32mreturn\u001B[0m \u001B[0mvalue\u001B[0m\u001B[1;33m.\u001B[0m\u001B[0mdecode\u001B[0m\u001B[1;33m(\u001B[0m\u001B[1;34m'utf-8'\u001B[0m\u001B[1;33m)\u001B[0m\u001B[1;33m\u001B[0m\u001B[1;33m\u001B[0m\u001B[0m\n",
      "\u001B[1;32m~\\anaconda3\\lib\\site-packages\\pkg_resources\\__init__.py\u001B[0m in \u001B[0;36m_get\u001B[1;34m(self, path)\u001B[0m\n\u001B[0;32m   1607\u001B[0m \u001B[1;33m\u001B[0m\u001B[0m\n\u001B[0;32m   1608\u001B[0m     \u001B[1;32mdef\u001B[0m \u001B[0m_get\u001B[0m\u001B[1;33m(\u001B[0m\u001B[0mself\u001B[0m\u001B[1;33m,\u001B[0m \u001B[0mpath\u001B[0m\u001B[1;33m)\u001B[0m\u001B[1;33m:\u001B[0m\u001B[1;33m\u001B[0m\u001B[1;33m\u001B[0m\u001B[0m\n\u001B[1;32m-> 1609\u001B[1;33m         \u001B[1;32mwith\u001B[0m \u001B[0mopen\u001B[0m\u001B[1;33m(\u001B[0m\u001B[0mpath\u001B[0m\u001B[1;33m,\u001B[0m \u001B[1;34m'rb'\u001B[0m\u001B[1;33m)\u001B[0m \u001B[1;32mas\u001B[0m \u001B[0mstream\u001B[0m\u001B[1;33m:\u001B[0m\u001B[1;33m\u001B[0m\u001B[1;33m\u001B[0m\u001B[0m\n\u001B[0m\u001B[0;32m   1610\u001B[0m             \u001B[1;32mreturn\u001B[0m \u001B[0mstream\u001B[0m\u001B[1;33m.\u001B[0m\u001B[0mread\u001B[0m\u001B[1;33m(\u001B[0m\u001B[1;33m)\u001B[0m\u001B[1;33m\u001B[0m\u001B[1;33m\u001B[0m\u001B[0m\n\u001B[0;32m   1611\u001B[0m \u001B[1;33m\u001B[0m\u001B[0m\n",
      "\u001B[1;31mKeyboardInterrupt\u001B[0m: "
     ]
    }
   ],
   "source": [
    "for div in tqdm(divisions):\n",
    "    iter = 0\n",
    "\n",
    "    for description in jobDescription[div]:\n",
    "        if pd.isnull(jobDescription.at[iter,div]) == False:\n",
    "            doc = Doc(description)\n",
    "            emb = NewsEmbedding()\n",
    "            morph_vocab = MorphVocab()\n",
    "            morph_tagger = NewsMorphTagger(emb)\n",
    "            sgmntr = Segmenter()\n",
    "            ner_tagger = NewsNERTagger(emb)\n",
    "            doc.segment(sgmntr)\n",
    "            doc.tag_ner(ner_tagger)\n",
    "\n",
    "            list = doc.ner.spans\n",
    "            for block in list:\n",
    "                name = description[block.start:block.stop]\n",
    "                if name not in dict:\n",
    "                    dict[name] = 1\n",
    "                else:\n",
    "                    dict[name] += 1\n",
    "            iter += 1\n",
    "        else:\n",
    "            iter += 1"
   ],
   "metadata": {
    "collapsed": false,
    "pycharm": {
     "name": "#%%\n"
    }
   }
  },
  {
   "cell_type": "markdown",
   "source": [],
   "metadata": {
    "collapsed": false
   }
  },
  {
   "cell_type": "code",
   "execution_count": 45,
   "outputs": [],
   "source": [
    "dictionary = pd.read_pickle('namesDict')\n",
    "dictionaryOfTerms = dictionary[0].to_list()"
   ],
   "metadata": {
    "collapsed": false,
    "pycharm": {
     "name": "#%%\n"
    }
   }
  },
  {
   "cell_type": "code",
   "execution_count": 35,
   "outputs": [],
   "source": [
    "for i in range(0, len(a[0])):\n",
    "    if type(a[0][i]) != str:\n",
    "        print('WTF????', i)"
   ],
   "metadata": {
    "collapsed": false,
    "pycharm": {
     "name": "#%%\n"
    }
   }
  },
  {
   "cell_type": "code",
   "execution_count": 55,
   "outputs": [
    {
     "data": {
      "text/plain": "'Команда\\xa0Easy Development занимается разработкой высоко-нагруженных\\xa0онлайн приложений(Real-Time Bidding, DSP/SSP, SOAP/SMMP биллинги), мобильных\\xa0приложений, социальных сетей и много чего другого.\\nМы работаем в Jira/Confluence,\\xa0для связи используем Zoom/Telegram.\\nУ нас есть DevOps,\\xa0технические менеджеры и Scrum-мастера.\\xa0\\nИщем Middle/Middle+ Python\\xa0разработчика\\xa0для\\xa0разработки бэкенда международной социальной сети.\\xa0\\nЭто абсолютно новый проект.\\xa0Вы будете у истоков проекта и участвовать в построении архитектуры.\\xa0\\nBackend на Python будет обслуживать клиентов в WEB, iOS, Android приложениях.\\nТребования\\nОпыт от 2 лет продуктовой разработкиОпыт\\xa0работы в команде разработки от 1 годаВысокий\\xa0уровень знания Python и DjangoПонимание методологии TDDПонимание REST, опыт построения APIУмение самостоятельно планировать рабочее время, ответственностьОпыт работы в высоконагруженных проектах\\nПлюсом будет\\nУмение брать все в свои руки, а также предлагать, а не просто шаблонно \"пилить\":)Опыт построения архитектуры новых проектов\\nУсловия:\\nМы ценим заслуги,\\xa0время и здоровье\\xa0каждого сотрудника. Поэтому у нас есть\\xa0оплачиваемый отпуск, который лучше отгуливать\\xa0(отдыхать важно!).\\xa0Платим официально.Для любителей очной работы есть офис в Санкт-Петербурге на набережной Невы.\\xa0Команда молодая, амбициозная. В бэкграунде много успешных проектов.\\nБудем рады видеть вас в нашей команде!'"
     },
     "execution_count": 55,
     "metadata": {},
     "output_type": "execute_result"
    }
   ],
   "source": [
    "doc = Doc(jobDescription['backend'][0])\n",
    "emb = NewsEmbedding()\n",
    "morph_vocab = MorphVocab()\n",
    "morph_tagger = NewsMorphTagger(emb)\n",
    "sgmntr = Segmenter()\n",
    "ner_tagger = NewsNERTagger(emb)\n",
    "doc.segment(sgmntr)\n",
    "doc.tag_morph(morph_tagger)\n",
    "\n",
    "doc.tag_ner(ner_tagger)\n",
    "list = doc.ner.spans\n",
    "a = jobDescription['backend'][0]\n"
   ],
   "metadata": {
    "collapsed": false,
    "pycharm": {
     "name": "#%%\n"
    }
   }
  },
  {
   "cell_type": "code",
   "execution_count": 66,
   "outputs": [
    {
     "name": "stdout",
     "output_type": "stream",
     "text": [
      "Yea\n"
     ]
    }
   ],
   "source": [
    "if pd.isnull(jobDescription.at[300,'frontend']) == False:\n",
    "    print('Yea')"
   ],
   "metadata": {
    "collapsed": false,
    "pycharm": {
     "name": "#%%\n"
    }
   }
  },
  {
   "cell_type": "code",
   "execution_count": 67,
   "outputs": [
    {
     "name": "stderr",
     "output_type": "stream",
     "text": [
      "vectorizing: 100%|██████████| 18/18 [01:46<00:00,  5.92s/it]\n"
     ]
    }
   ],
   "source": [
    "vecrotizedCorpus = {}\n",
    "for div in tqdm(divisions, 'vectorizing'):\n",
    "    vecrotizedCorpus[div] = []\n",
    "    for i in range(0, len(jobDescription[div])):\n",
    "        if pd.isnull(jobDescription.at[i,div]) == False:\n",
    "            tmpVector = []\n",
    "            for termin in dictionaryOfTerms:\n",
    "                    if termin in jobDescription[div][i]:\n",
    "                        tmpVector.append(1)\n",
    "                    else:\n",
    "                        tmpVector.append(0)\n",
    "            vecrotizedCorpus[div].append(tmpVector)"
   ],
   "metadata": {
    "collapsed": false,
    "pycharm": {
     "name": "#%%\n"
    }
   }
  },
  {
   "cell_type": "code",
   "execution_count": 69,
   "outputs": [
    {
     "data": {
      "text/plain": "49"
     },
     "execution_count": 69,
     "metadata": {},
     "output_type": "execute_result"
    }
   ],
   "source": [
    "vecrotizedCorpus['backend'][700].count(1)"
   ],
   "metadata": {
    "collapsed": false,
    "pycharm": {
     "name": "#%%\n"
    }
   }
  },
  {
   "cell_type": "code",
   "execution_count": 72,
   "outputs": [],
   "source": [
    "maxLen = 0\n",
    "for div in divisions:\n",
    "    if len(vecrotizedCorpus[div]) > maxLen:\n",
    "        maxLen = len(vecrotizedCorpus[div])\n",
    "for div in divisions:\n",
    "    while len(vecrotizedCorpus[div]) != maxLen:\n",
    "        vecrotizedCorpus[div].append([])\n",
    "df = pd.DataFrame(data=vecrotizedCorpus)\n",
    "df.to_pickle('vectorizedNamesOnly')"
   ],
   "metadata": {
    "collapsed": false,
    "pycharm": {
     "name": "#%%\n"
    }
   }
  },
  {
   "cell_type": "code",
   "execution_count": 73,
   "outputs": [],
   "source": [
    "import io\n",
    "import re\n",
    "import string\n",
    "import tqdm\n",
    "\n",
    "import numpy as np\n",
    "\n",
    "import tensorflow as tf\n",
    "from tensorflow.keras import layers"
   ],
   "metadata": {
    "collapsed": false,
    "pycharm": {
     "name": "#%%\n"
    }
   }
  },
  {
   "cell_type": "code",
   "execution_count": 74,
   "outputs": [],
   "source": [
    "# Load the TensorBoard notebook extension\n",
    "%load_ext tensorboard"
   ],
   "metadata": {
    "collapsed": false,
    "pycharm": {
     "name": "#%%\n"
    }
   }
  },
  {
   "cell_type": "code",
   "execution_count": 75,
   "outputs": [],
   "source": [
    "SEED = 42\n",
    "AUTOTUNE = tf.data.AUTOTUNE"
   ],
   "metadata": {
    "collapsed": false,
    "pycharm": {
     "name": "#%%\n"
    }
   }
  },
  {
   "cell_type": "code",
   "execution_count": null,
   "outputs": [],
   "source": [
    "vocab = dict"
   ],
   "metadata": {
    "collapsed": false,
    "pycharm": {
     "name": "#%%\n"
    }
   }
  }
 ],
 "metadata": {
  "kernelspec": {
   "display_name": "Python 3",
   "language": "python",
   "name": "python3"
  },
  "language_info": {
   "codemirror_mode": {
    "name": "ipython",
    "version": 2
   },
   "file_extension": ".py",
   "mimetype": "text/x-python",
   "name": "python",
   "nbconvert_exporter": "python",
   "pygments_lexer": "ipython2",
   "version": "2.7.6"
  }
 },
 "nbformat": 4,
 "nbformat_minor": 0
}